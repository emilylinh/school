{
 "cells": [
  {
   "cell_type": "markdown",
   "metadata": {},
   "source": [
    "2\\. Consider a binomial tree with $S_0 = 50, u = 1.06, r = 0.01, d = 0.98$ (all values per period) and $n = 26$ periods."
   ]
  },
  {
   "cell_type": "markdown",
   "metadata": {},
   "source": [
    "a. Generate a sample of $M = 25$ values of $S_{26}$. Compute the resulting Monte Carlo estimate for the value of a European Put which has strike $K = 60$. Provide both the\n",
    "point estimate based on sample average, as well as a 95% confidence interval based on\n",
    "the t-distribution of the sample average estimator."
   ]
  },
  {
   "cell_type": "code",
   "execution_count": 1,
   "metadata": {},
   "outputs": [
    {
     "name": "stdout",
     "output_type": "stream",
     "text": [
      "The point estimate is 2.6829218905543364.\n",
      "The 95-percent CI is (0.7502105981849123, 4.6156331829237605).\n"
     ]
    }
   ],
   "source": [
    "import numpy as np \n",
    "from itertools import product\n",
    "import timeit\n",
    "from scipy.stats import binom, norm\n",
    "import matplotlib.pyplot as plt\n",
    "import math\n",
    "%matplotlib inline\n",
    "\n",
    "np.random.seed(1)\n",
    "\n",
    "S0 = 50; u = 1.06; r = 0.01; d = 0.98; n = 26; M = 25; K = 60\n",
    "q = (1+r-d)/(u-d)\n",
    "\n",
    "def MC_euro_put_payoff(K):\n",
    "    U = np.random.uniform(size = M)\n",
    "    S = Payoff = np.zeros(M)\n",
    "\n",
    "    for i in range(M):\n",
    "        S[i] = S0*(u/d)**(binom.ppf(U[i], n, q))*d**n\n",
    "        Payoff[i] = max(K-S[i], 0)\n",
    "    \n",
    "    return Payoff \n",
    "\n",
    "def ptEstimate_and_95CI(K, Payoff):\n",
    "    \n",
    "    discountedPayoff = Payoff/(1+r)**n\n",
    "    Vhat = np.mean(discountedPayoff)\n",
    "\n",
    "    CI = (Vhat-2.060*np.std(discountedPayoff)/np.sqrt(M), \n",
    "         Vhat+2.060*np.std(discountedPayoff)/np.sqrt(M))\n",
    "    \n",
    "    return Vhat, CI\n",
    "\n",
    "Vhat, CI = ptEstimate_and_95CI(K, MC_euro_put_payoff(K))\n",
    "\n",
    "print('The point estimate is %s.'%Vhat)\n",
    "print('The 95-percent CI is %s.'%(CI,))"
   ]
  },
  {
   "cell_type": "markdown",
   "metadata": {},
   "source": [
    "b. Repeat the above 10 times and summarize your results. Be sure to compare your MC estimates to the true no-arbitrage price of this Put (which is the direct expectation\n",
    "using the distribution in (a))."
   ]
  },
  {
   "cell_type": "code",
   "execution_count": 2,
   "metadata": {},
   "outputs": [
    {
     "name": "stdout",
     "output_type": "stream",
     "text": [
      "True mean price: 2.123586766322793\n",
      "True standard deviation: 3.6851920061217203\n"
     ]
    },
    {
     "data": {
      "text/html": [
       "<div>\n",
       "<style scoped>\n",
       "    .dataframe tbody tr th:only-of-type {\n",
       "        vertical-align: middle;\n",
       "    }\n",
       "\n",
       "    .dataframe tbody tr th {\n",
       "        vertical-align: top;\n",
       "    }\n",
       "\n",
       "    .dataframe thead th {\n",
       "        text-align: right;\n",
       "    }\n",
       "</style>\n",
       "<table border=\"1\" class=\"dataframe\">\n",
       "  <thead>\n",
       "    <tr style=\"text-align: right;\">\n",
       "      <th></th>\n",
       "      <th>Point Estimate</th>\n",
       "      <th>95-percent CI</th>\n",
       "      <th>Abs. Error of Point Estimate</th>\n",
       "    </tr>\n",
       "  </thead>\n",
       "  <tbody>\n",
       "    <tr>\n",
       "      <th>1</th>\n",
       "      <td>2.801249</td>\n",
       "      <td>(1.209202787358666, 4.39329583692839)</td>\n",
       "      <td>0.677663</td>\n",
       "    </tr>\n",
       "    <tr>\n",
       "      <th>2</th>\n",
       "      <td>2.659100</td>\n",
       "      <td>(1.0526701548470043, 4.265529862866649)</td>\n",
       "      <td>0.535513</td>\n",
       "    </tr>\n",
       "    <tr>\n",
       "      <th>3</th>\n",
       "      <td>1.536658</td>\n",
       "      <td>(-0.031469540452262246, 3.104786024883026)</td>\n",
       "      <td>0.586929</td>\n",
       "    </tr>\n",
       "    <tr>\n",
       "      <th>4</th>\n",
       "      <td>3.355542</td>\n",
       "      <td>(1.3507046965348235, 5.360379093033799)</td>\n",
       "      <td>1.231955</td>\n",
       "    </tr>\n",
       "    <tr>\n",
       "      <th>5</th>\n",
       "      <td>3.399286</td>\n",
       "      <td>(1.5423340209423027, 5.256237264961017)</td>\n",
       "      <td>1.275699</td>\n",
       "    </tr>\n",
       "    <tr>\n",
       "      <th>6</th>\n",
       "      <td>2.127113</td>\n",
       "      <td>(0.6279440140105548, 3.6262810900553877)</td>\n",
       "      <td>0.003526</td>\n",
       "    </tr>\n",
       "    <tr>\n",
       "      <th>7</th>\n",
       "      <td>2.528286</td>\n",
       "      <td>(0.967117467336458, 4.0894547819640135)</td>\n",
       "      <td>0.404699</td>\n",
       "    </tr>\n",
       "    <tr>\n",
       "      <th>8</th>\n",
       "      <td>2.368287</td>\n",
       "      <td>(0.7131129404393837, 4.023461666458105)</td>\n",
       "      <td>0.244701</td>\n",
       "    </tr>\n",
       "    <tr>\n",
       "      <th>9</th>\n",
       "      <td>1.185907</td>\n",
       "      <td>(-0.096884573257777, 2.4686976193919916)</td>\n",
       "      <td>0.937680</td>\n",
       "    </tr>\n",
       "    <tr>\n",
       "      <th>10</th>\n",
       "      <td>0.946678</td>\n",
       "      <td>(-0.6489341074535336, 2.542290673842027)</td>\n",
       "      <td>1.176908</td>\n",
       "    </tr>\n",
       "  </tbody>\n",
       "</table>\n",
       "</div>"
      ],
      "text/plain": [
       "    Point Estimate                               95-percent CI  \\\n",
       "1         2.801249       (1.209202787358666, 4.39329583692839)   \n",
       "2         2.659100     (1.0526701548470043, 4.265529862866649)   \n",
       "3         1.536658  (-0.031469540452262246, 3.104786024883026)   \n",
       "4         3.355542     (1.3507046965348235, 5.360379093033799)   \n",
       "5         3.399286     (1.5423340209423027, 5.256237264961017)   \n",
       "6         2.127113    (0.6279440140105548, 3.6262810900553877)   \n",
       "7         2.528286     (0.967117467336458, 4.0894547819640135)   \n",
       "8         2.368287     (0.7131129404393837, 4.023461666458105)   \n",
       "9         1.185907    (-0.096884573257777, 2.4686976193919916)   \n",
       "10        0.946678    (-0.6489341074535336, 2.542290673842027)   \n",
       "\n",
       "    Abs. Error of Point Estimate  \n",
       "1                       0.677663  \n",
       "2                       0.535513  \n",
       "3                       0.586929  \n",
       "4                       1.231955  \n",
       "5                       1.275699  \n",
       "6                       0.003526  \n",
       "7                       0.404699  \n",
       "8                       0.244701  \n",
       "9                       0.937680  \n",
       "10                      1.176908  "
      ]
     },
     "execution_count": 2,
     "metadata": {},
     "output_type": "execute_result"
    }
   ],
   "source": [
    "import pandas as pd\n",
    "\n",
    "K = 60\n",
    "everything = list()\n",
    "\n",
    "for i in range(10):\n",
    "    everything.append(ptEstimate_and_95CI(K, MC_euro_put_payoff(K)))\n",
    "\n",
    "Vhats, CIs = zip(*everything)\n",
    "    \n",
    "allS = S0*(u/d)**np.arange(n)*d**n\n",
    "put_payoff = lambda s: max(K - s, 0)\n",
    "\n",
    "allS_payoffs = np.array(list(map(put_payoff, allS)))\n",
    "truePrice = sum(allS_payoffs*binom.pmf(np.arange(n), n, q))/(1+r)**n\n",
    "truePriceSq = sum(allS_payoffs**2*binom.pmf(np.arange(n), n, q))/(1+r)**(2*n)\n",
    "trueSd = np.sqrt(truePriceSq - truePrice**2)\n",
    "print('True mean price: %s\\nTrue standard deviation: %s'%(truePrice, trueSd))   \n",
    "\n",
    "pd.DataFrame({'Point Estimate':Vhats, '95-percent CI':CIs, \n",
    "              'Abs. Error of Point Estimate':list(map(abs, Vhats - truePrice))},\n",
    "            index = list(range(1,11)))"
   ]
  },
  {
   "cell_type": "markdown",
   "metadata": {},
   "source": [
    "c) Repeat parts a-b for the European Call with strike K = 80. How is this new case different from before?        "
   ]
  },
  {
   "cell_type": "code",
   "execution_count": 3,
   "metadata": {},
   "outputs": [
    {
     "name": "stdout",
     "output_type": "stream",
     "text": [
      "The point estimate is 0.6169256972069234.\n",
      "The 95-percent CI is (-0.38197167534668863, 1.6158230697605354).\n",
      "\n",
      "True mean price: 0.8114443935649318\n",
      "True standard deviation: 3.040950280803362\n"
     ]
    },
    {
     "data": {
      "text/html": [
       "<div>\n",
       "<style scoped>\n",
       "    .dataframe tbody tr th:only-of-type {\n",
       "        vertical-align: middle;\n",
       "    }\n",
       "\n",
       "    .dataframe tbody tr th {\n",
       "        vertical-align: top;\n",
       "    }\n",
       "\n",
       "    .dataframe thead th {\n",
       "        text-align: right;\n",
       "    }\n",
       "</style>\n",
       "<table border=\"1\" class=\"dataframe\">\n",
       "  <thead>\n",
       "    <tr style=\"text-align: right;\">\n",
       "      <th></th>\n",
       "      <th>Point Estimate</th>\n",
       "      <th>95-percent CI</th>\n",
       "      <th>Abs. Error of Point Estimate</th>\n",
       "    </tr>\n",
       "  </thead>\n",
       "  <tbody>\n",
       "    <tr>\n",
       "      <th>1</th>\n",
       "      <td>0.186540</td>\n",
       "      <td>(-0.021582952090738988, 0.3946635812044711)</td>\n",
       "      <td>0.624904</td>\n",
       "    </tr>\n",
       "    <tr>\n",
       "      <th>2</th>\n",
       "      <td>0.331114</td>\n",
       "      <td>(-0.22089812003498882, 0.8831260639510612)</td>\n",
       "      <td>0.480330</td>\n",
       "    </tr>\n",
       "    <tr>\n",
       "      <th>3</th>\n",
       "      <td>2.023651</td>\n",
       "      <td>(-0.19649211467629435, 4.243794300906761)</td>\n",
       "      <td>1.212207</td>\n",
       "    </tr>\n",
       "    <tr>\n",
       "      <th>4</th>\n",
       "      <td>0.734453</td>\n",
       "      <td>(-0.747951659998821, 2.2168571607594196)</td>\n",
       "      <td>0.076992</td>\n",
       "    </tr>\n",
       "    <tr>\n",
       "      <th>5</th>\n",
       "      <td>0.537868</td>\n",
       "      <td>(-0.2136195366923498, 1.2893550051153397)</td>\n",
       "      <td>0.273577</td>\n",
       "    </tr>\n",
       "    <tr>\n",
       "      <th>6</th>\n",
       "      <td>0.455474</td>\n",
       "      <td>(-0.11103050758335126, 1.0219788709085782)</td>\n",
       "      <td>0.355970</td>\n",
       "    </tr>\n",
       "    <tr>\n",
       "      <th>7</th>\n",
       "      <td>1.682492</td>\n",
       "      <td>(-0.10476967489747957, 3.469754513987998)</td>\n",
       "      <td>0.871048</td>\n",
       "    </tr>\n",
       "    <tr>\n",
       "      <th>8</th>\n",
       "      <td>0.517654</td>\n",
       "      <td>(-0.05424062738780511, 1.0895492004176095)</td>\n",
       "      <td>0.293790</td>\n",
       "    </tr>\n",
       "    <tr>\n",
       "      <th>9</th>\n",
       "      <td>1.550832</td>\n",
       "      <td>(-0.651029188017364, 3.7526921972640306)</td>\n",
       "      <td>0.739387</td>\n",
       "    </tr>\n",
       "    <tr>\n",
       "      <th>10</th>\n",
       "      <td>1.477696</td>\n",
       "      <td>(-0.17097136364708643, 3.126364288661163)</td>\n",
       "      <td>0.666252</td>\n",
       "    </tr>\n",
       "  </tbody>\n",
       "</table>\n",
       "</div>"
      ],
      "text/plain": [
       "    Point Estimate                                95-percent CI  \\\n",
       "1         0.186540  (-0.021582952090738988, 0.3946635812044711)   \n",
       "2         0.331114   (-0.22089812003498882, 0.8831260639510612)   \n",
       "3         2.023651    (-0.19649211467629435, 4.243794300906761)   \n",
       "4         0.734453     (-0.747951659998821, 2.2168571607594196)   \n",
       "5         0.537868    (-0.2136195366923498, 1.2893550051153397)   \n",
       "6         0.455474   (-0.11103050758335126, 1.0219788709085782)   \n",
       "7         1.682492    (-0.10476967489747957, 3.469754513987998)   \n",
       "8         0.517654   (-0.05424062738780511, 1.0895492004176095)   \n",
       "9         1.550832     (-0.651029188017364, 3.7526921972640306)   \n",
       "10        1.477696    (-0.17097136364708643, 3.126364288661163)   \n",
       "\n",
       "    Abs. Error of Point Estimate  \n",
       "1                       0.624904  \n",
       "2                       0.480330  \n",
       "3                       1.212207  \n",
       "4                       0.076992  \n",
       "5                       0.273577  \n",
       "6                       0.355970  \n",
       "7                       0.871048  \n",
       "8                       0.293790  \n",
       "9                       0.739387  \n",
       "10                      0.666252  "
      ]
     },
     "execution_count": 3,
     "metadata": {},
     "output_type": "execute_result"
    }
   ],
   "source": [
    "def MC_Euro_call_payoff(K):\n",
    "    U = np.random.uniform(size = M)\n",
    "    S = Payoff = np.zeros(M)\n",
    "    q = (1+r-d)/(u-d)\n",
    "\n",
    "    for i in range(M):\n",
    "        S[i] = S0*(u/d)**(binom.ppf(U[i], n, q))*d**n\n",
    "        Payoff[i] = max(S[i]-K, 0)\n",
    "    \n",
    "    return Payoff \n",
    "\n",
    "K = 80 \n",
    "Vhat, CI = ptEstimate_and_95CI(K, MC_Euro_call_payoff(K))\n",
    "print('The point estimate is %s.'%Vhat)\n",
    "print('The 95-percent CI is %s.'%(CI,))\n",
    "\n",
    "everything = list()\n",
    "\n",
    "for i in range(10):\n",
    "    everything.append(ptEstimate_and_95CI(K, MC_Euro_call_payoff(K)))\n",
    "\n",
    "Vhats, CIs = zip(*everything)\n",
    "    \n",
    "allS = S0*(u/d)**np.arange(n)*d**n\n",
    "call_payoff = lambda s: max(s - K, 0)\n",
    "\n",
    "allS_payoffs = np.array(list(map(call_payoff, allS)))\n",
    "truePrice = sum(allS_payoffs*binom.pmf(np.arange(n), n, q))/(1+r)**n\n",
    "truePriceSq = sum(allS_payoffs**2*binom.pmf(np.arange(n), n, q))/(1+r)**(2*n)\n",
    "trueSd = np.sqrt(truePriceSq - truePrice**2)\n",
    "print('\\nTrue mean price: %s\\nTrue standard deviation: %s'%(truePrice, trueSd))   \n",
    "\n",
    "pd.DataFrame({'Point Estimate':Vhats, '95-percent CI':CIs, \n",
    "              'Abs. Error of Point Estimate':list(map(abs, Vhats - truePrice))},\n",
    "            index = list(range(1,11)))"
   ]
  },
  {
   "cell_type": "markdown",
   "metadata": {},
   "source": [
    "3\\. Consider a Lookback option which pays $V_N = \\text{max}(\\text{max}_{n\\leq N} S_n-K, 0)$ where $\\text{max}_{n\\leq N} S_n = \n",
    "\\text{max}(S_0, S_1,..., S_N)$ is the maximum stock price over $N$ periods. For the parameters, $S_0 = 50, r = 0.01, u = 1.06, d = 0.98, K = 55$ and $N = 30$, estimate the no-arbitrage\n",
    "value of this option at $t = 0$ using a Monte Carlo simulation with $M = 100$ samples. Be sure to use antithetic variables, and generate your samples in pairs.\n",
    "\n",
    "Hand-in: \n",
    "    \n",
    "a) the code you used.\n",
    "\n",
    "b) a histogram of the resulting values of option payoff $V_N$.\n",
    "\n",
    "c) Sample mean/SD of your payoffs.\n",
    "\n",
    "d) Final answer with a 99% - confidence interval."
   ]
  },
  {
   "cell_type": "code",
   "execution_count": 4,
   "metadata": {},
   "outputs": [],
   "source": [
    "# a\n",
    "\n",
    "S0 = 50; u = 1.06; r = 0.01; d = 0.98; N = 30; M = 100; K = 55\n",
    "\n",
    "def binomConvert(UUi, q):\n",
    "    upow = (UUi < q).astype(int)\n",
    "    dpow = (UUi >= q).astype(int)\n",
    "    \n",
    "    return upow, dpow \n",
    "         \n",
    "def antithetic_path(M):\n",
    "    q = (1+r-d)/(u-d)\n",
    "    S = np.zeros((2*M, N+1))\n",
    "    discountedPayoffs = np.zeros(M)\n",
    "    S[:, 0] = S0\n",
    "    \n",
    "    for i in range(N):\n",
    "        UUi = np.random.uniform(size = M)\n",
    "        upow, dpow = binomConvert(UUi, q)\n",
    "\n",
    "        U_anti = 1 - UUi\n",
    "        upow1, dpow1 = binomConvert(U_anti, q)\n",
    "        \n",
    "        S[0:M, i+1] = S[0:M, i] * u**upow * d**dpow\n",
    "        S[M:2*M, i+1] = S[0:M, i] * u**upow1 * d**dpow1\n",
    "                \n",
    "    return S"
   ]
  },
  {
   "cell_type": "code",
   "execution_count": 5,
   "metadata": {},
   "outputs": [
    {
     "name": "stderr",
     "output_type": "stream",
     "text": [
      "/Users/Emily/anaconda3/lib/python3.6/site-packages/matplotlib/axes/_base.py:3610: MatplotlibDeprecationWarning: \n",
      "The `ymax` argument was deprecated in Matplotlib 3.0 and will be removed in 3.2. Use `top` instead.\n",
      "  alternative='`top`', obj_type='argument')\n"
     ]
    },
    {
     "data": {
      "text/plain": [
       "(0.0, 70.0)"
      ]
     },
     "execution_count": 5,
     "metadata": {},
     "output_type": "execute_result"
    },
    {
     "data": {
      "image/png": "[encoded data removed]",
      "text/plain": [
       "<Figure size 432x288 with 1 Axes>"
      ]
     },
     "metadata": {
      "needs_background": "light"
     },
     "output_type": "display_data"
    }
   ],
   "source": [
    "# b\n",
    "\n",
    "S = antithetic_path(M)\n",
    "\n",
    "discountedPayoffs = [1/(1+r)**N * max(max(S[i, :]) - K, 0) \n",
    "                            for i in range(2*M)]\n",
    "\n",
    "n, bins, patches = plt.hist(x=discountedPayoffs, bins='auto', \n",
    "                            color='#607c8e', alpha=0.7, rwidth=0.85)\n",
    "plt.grid(axis='y', alpha = 0.75)\n",
    "plt.xlabel('$V_N$: Option Payoff')\n",
    "plt.ylabel('Frequency')\n",
    "plt.title('Lookback Option Payoff Histogram')\n",
    "maxfreq = n.max()\n",
    "plt.ylim(ymax=np.ceil(maxfreq / 10) * 10 if maxfreq % 10 else maxfreq + 10)"
   ]
  },
  {
   "cell_type": "code",
   "execution_count": 6,
   "metadata": {},
   "outputs": [
    {
     "name": "stdout",
     "output_type": "stream",
     "text": [
      "Sample mean: 12.762657082923976\n",
      "Sample standard deviation: 11.637408544592539\n"
     ]
    }
   ],
   "source": [
    "# c\n",
    "\n",
    "sample_mean = np.mean(discountedPayoffs)\n",
    "sample_std = np.std(discountedPayoffs)\n",
    "\n",
    "print('Sample mean: %s'%sample_mean)\n",
    "print('Sample standard deviation: %s'%sample_std)"
   ]
  },
  {
   "cell_type": "code",
   "execution_count": 7,
   "metadata": {},
   "outputs": [
    {
     "name": "stdout",
     "output_type": "stream",
     "text": [
      "The 99-percent CI is (9.760205678419101, 15.76510848742885).\n"
     ]
    }
   ],
   "source": [
    "# d\n",
    "\n",
    "CI = (sample_mean-2.58*sample_std/np.sqrt(M), \n",
    "         sample_mean+2.58*sample_std/np.sqrt(M))\n",
    "\n",
    "print('The 99-percent CI is %s.'%(CI,))"
   ]
  },
  {
   "cell_type": "markdown",
   "metadata": {},
   "source": [
    "4\\. The Black-Scholes model assumes that \n",
    "\n",
    "$$S_T = S_0 exp((r-0.5\\sigma^2)T + \\sigma \\sqrt{T}Z)$$\n",
    "\n",
    "where $Z$ is standard normal, independent of everything else and $\\sigma$ is the model parameter.\n",
    "\n",
    "\n",
    "Consider a European Call with strike $K = 45$ and maturity $T = 1/2$ for an asset with $S_0 = 50, \\sigma= 0.2$. The interest rate is $r = 0.04$ (here all parameters are in annual units). Because this is a European contract, for Monte Carlo purposes we can directly sample from the log-normal distribution of $S_T$. [As a reference, see pp. 4–6 in Glasserman\n",
    "Chapter 1]"
   ]
  },
  {
   "cell_type": "markdown",
   "metadata": {},
   "source": [
    "a) Using a sample of 25 Monte Carlo values (use the basic method, without any enhancements) for $S_T$ , estimate the value of this European Call and a 95% confidence interval.\n",
    "Compare to the true Black-Scholes price of the Call."
   ]
  },
  {
   "cell_type": "code",
   "execution_count": 8,
   "metadata": {},
   "outputs": [
    {
     "name": "stdout",
     "output_type": "stream",
     "text": [
      "The point estimate is 9.866354904928823.\n",
      "The 95-percent CI is (6.972566885212695, 12.760142924644951).\n",
      "True BS price is 6.573775055279903.\n"
     ]
    }
   ],
   "source": [
    "np.random.seed(0)\n",
    "K = 45; T = 1/2; S0 = 50; sigma = 0.2; r = 0.04; M = 25\n",
    "\n",
    "def MC_bs_euro_call_payoff():\n",
    "    \n",
    "    ST = discountedPayoff = np.zeros(M)\n",
    "    for i in range(M):\n",
    "        Z = np.random.normal(0,1)\n",
    "        ST[i] = S0*np.exp((r - 0.5*sigma**2)*T + sigma*np.sqrt(T)*Z)\n",
    "        discountedPayoff[i] = max(ST[i] - K, 0)/(1 + r)**T\n",
    "    \n",
    "    return discountedPayoff\n",
    "\n",
    "def ptEstimate_and_95CI(K, discountedPayoff):\n",
    "    \n",
    "    Vhat = np.mean(discountedPayoff)\n",
    "\n",
    "    CI = (Vhat-2.060*np.std(discountedPayoff)/np.sqrt(M), \n",
    "         Vhat+2.060*np.std(discountedPayoff)/np.sqrt(M))\n",
    "    \n",
    "    return Vhat, CI\n",
    "\n",
    "def callPrice(s, x, r, sigma, t):\n",
    "    a = (math.log(s/x) + (r + sigma * sigma/2.0) * t) / \\\n",
    "        (sigma * math.sqrt(t))\n",
    "    b = a - sigma * math.sqrt(t)\n",
    "    return s * norm.cdf(a) - x * math.exp(-r * t) * norm.cdf(b)\n",
    "\n",
    "Payoff = MC_bs_euro_call_payoff()\n",
    "Vhat, CI = ptEstimate_and_95CI(K, Payoff)\n",
    "\n",
    "print('The point estimate is %s.'%Vhat)\n",
    "print('The 95-percent CI is %s.'%(CI,))\n",
    "print('True BS price is %s.'%callPrice(S0, K, r, sigma, T))"
   ]
  },
  {
   "cell_type": "markdown",
   "metadata": {},
   "source": [
    "b) Quasi-Monte Carlo: take $U = {0.02, 0.06, . . . , 0.98}$ to be a grid of length 25 in [0,1]. Use the inverse cdf method to compute the corresponding $S_T$ values ( eg the first\n",
    "sample is the 2% percentile of the standard normal, then use $qnorm()$ command to get the corresponding Z-value and plug into (1)). Average the resulting 25 payoffs to come up with a deterministic estimate of the Call price. Since the answer is deterministic, there is no confidence interval, just a point estimate.\n",
    "Show your work/code and discuss the results in relation to part a)"
   ]
  },
  {
   "cell_type": "code",
   "execution_count": 9,
   "metadata": {},
   "outputs": [
    {
     "name": "stdout",
     "output_type": "stream",
     "text": [
      "The deterministic estimate of the call price is 6.418255623445544.\n"
     ]
    }
   ],
   "source": [
    "U = np.arange(0.02, 1.0, 0.02)\n",
    "Z = norm.isf(U) # inverse cdf \n",
    "\n",
    "ST = S0*np.exp((r - 0.5*sigma**2)*T + sigma*np.sqrt(T)*Z)\n",
    "discountedPayoff = [max(s - K, 0)/(1 + r)**T for s in ST]\n",
    "\n",
    "print('The deterministic estimate of the call price is %s.'\n",
    "      %np.mean(discountedPayoff))"
   ]
  },
  {
   "cell_type": "markdown",
   "metadata": {},
   "source": [
    "Compared to the call option price found in part a, this price might be a fairer price since there are no repeated prices and the Z-values being used are similar to antithetic values which reduces variance. "
   ]
  },
  {
   "cell_type": "markdown",
   "metadata": {},
   "source": [
    "5\\. Basket options have payoffs that depend on the value of multiple underlying assets. For example, consider a payoff based on the Dow Jones Industrial Average. The DJIA is a price-weighted index, namely $$DJIA(T) = \\frac{\\sum_i S^i(T)}{0.146}$$ where $S^i(T)$ ) is the share price of the i-th component of the index. See wikipedia.org/wiki/Dow_Jones_Industrial_Average#Calculation The real-world Dow has 30 components, but for our purposes we will take $I = 5$ components. Assume that $S^i(0) = 10∗i$ (i.e. $S^1(0) = 10, S^2(0) = 20$ and so on), and each component follows an independent\n",
    "Black-Scholes model (1) with $r = 0.03$ and $\\sigma_i = 0.1 + 0.05 ∗ i$. Thanks to independence, simulation of $S^i(T)$ is straightforward (you just need to loop over $i$ and use the correct volatility $\\sigma_i$).\n",
    "There are no analytic formulas for Basket option values. Using Monte Carlo with $M = 500$, price a Basket Put with payoff $$V_T = max(\\frac{S^(T)+S^2(T)+S^3(T)+S^4(T)+S^5(T)}{5}-30, 0), \\; r = 0.03, \\; T=1.$$ Submit your code, histogram of the contract payoffs, estimated contract value today,\n",
    "and respective 98% CI."
   ]
  },
  {
   "cell_type": "code",
   "execution_count": 10,
   "metadata": {
    "scrolled": true
   },
   "outputs": [
    {
     "name": "stdout",
     "output_type": "stream",
     "text": [
      "The estimated price of this Basket put option is 31.30491342125726.\n",
      "The 98-percent CI is (30.37143585680247, 32.23839098571205).\n"
     ]
    },
    {
     "data": {
      "text/plain": [
       "(0.0, 80.0)"
      ]
     },
     "execution_count": 10,
     "metadata": {},
     "output_type": "execute_result"
    },
    {
     "data": {
      "image/png": "[encoded data removed]",
      "text/plain": [
       "<Figure size 432x288 with 1 Axes>"
      ]
     },
     "metadata": {
      "needs_background": "light"
     },
     "output_type": "display_data"
    }
   ],
   "source": [
    "r = 0.03; M = 500; T = 1 \n",
    "ST = np.zeros([M, 5]) # The columns (of length 5) represents the 5 components\n",
    "S0 = np.array([10*i for i in range(1, 6)]) # Sets the initial values \n",
    "sigma = np.array([0.1 + 0.05*i for i in range(1, 6)])\n",
    "discountedPayoff = np.zeros(M)\n",
    "\n",
    "for i in range(M):\n",
    "    Z = np.random.normal(0,1)\n",
    "    ST[i, :] = S0*np.exp((r - 0.5*sigma**2)*T + sigma*np.sqrt(T)*Z)\n",
    "    discountedPayoff[i] = max(sum(ST[i, :])/5, 0)*(1 + r)**T\n",
    "\n",
    "sample_mean = np.mean(discountedPayoff)\n",
    "sample_std = np.std(discountedPayoff)\n",
    "CI = (sample_mean-2.326*sample_std/np.sqrt(M), \n",
    "         sample_mean+2.326*sample_std/np.sqrt(M))\n",
    "\n",
    "print('The estimated price of this Basket put option is %s.'%sample_mean)\n",
    "print('The 98-percent CI is %s.'%(CI,))\n",
    "\n",
    "n, bins, patches = plt.hist(x=discountedPayoff, bins='auto', \n",
    "                            color='#607c8e')\n",
    "plt.grid(axis='y', alpha = 0.75)\n",
    "plt.xlabel('$V_N$: Option Payoff')\n",
    "plt.ylabel('Frequency')\n",
    "plt.title('Basket Put Option Payoff Histogram')\n",
    "maxfreq = n.max()\n",
    "plt.ylim(ymax=np.ceil(maxfreq / 10) * 10 if maxfreq % 10 else maxfreq + 10)"
   ]
  },
  {
   "cell_type": "markdown",
   "metadata": {},
   "source": [
    "6\\. Consider the CEV model $$dS_t = rS_tdt + \\sigma S^\\sigma_tdW_t.$$ This is a generalization of the GBM model that underlies (1) which has $\\alpha = 1.$ A path of $S_t$ can be simulated using an Euler method: $$S_{t+\\Delta t} = S_t + r S_t \\Delta t + \\sigma(S_t)^\\alpha Z_{\\Delta t}, \\; Z_{\\Delta t}~N(0, \\Delta t) \\; i.i.d.$$ (Note that the above is already under the risk-neutral measure Q)\n",
    "Using Monte Carlo with antithetic paths, price a Hit Box option (see Hw1) on ($S_t$) across the period $T_1 = 1, T_2 = 2$ and levels $\\underline{S} = 95, \\overline{S}=97.$ Use $\\Delta t = 0.05$ and $r=0.05, \\sigma=0.3, S_0=100$ with CEV-coefficient $\\alpha = 0.8$. \n",
    "\n",
    "Pick a large M"
   ]
  },
  {
   "cell_type": "code",
   "execution_count": 11,
   "metadata": {},
   "outputs": [
    {
     "name": "stdout",
     "output_type": "stream",
     "text": [
      "Estimated Hit Box option price is 0.0045241870901797975.\n"
     ]
    }
   ],
   "source": [
    "import math \n",
    "\n",
    "def hitBox(S, tl, tr, Bd, Bu):\n",
    "    index_l = max(1, math.ceil(tl))\n",
    "    index_r = min(len(S), math.floor(tr))\n",
    "    t = index_l \n",
    "    \n",
    "    while t < index_r:\n",
    "        if math.floor(S[t]) <= Bu and math.floor(S[t]) >= Bd:\n",
    "            return True\n",
    "        else:\n",
    "            t = t + 1\n",
    "            \n",
    "    return False\n",
    "\n",
    "delta_t = 0.05; r = 0.05; sigma = 0.3; S0 = 100; n = 40; alpha = 0.8; \n",
    "M = 1000; Bd = 95; Bu = 97\n",
    "\n",
    "STa = STc = np.zeros((M, n))\n",
    "discountedPayoffa = discountedPayoffc = np.zeros((M, n))\n",
    "\n",
    "Z = np.random.normal(0, delta_t, size = (M, n))\n",
    "STc[:, 0] = S0 + r*S0*delta_t + r*S0**alpha*Z[:, 0] \n",
    "STa[:, 0] = S0 + r*S0*delta_t + r*S0**alpha*-Z[:, 0]\n",
    "\n",
    "for i in range(n-1):\n",
    "    STc[:, i+1] = STc[:, i] + r*STc[:, i]*delta_t + sigma*(STc[:, i]**alpha)*Z[:, i]\n",
    "    STa[:, i+1] = STa[:, i] + r*STa[:, i]*delta_t + sigma*(STa[:, i]**alpha)*-Z[:, i]\n",
    "\n",
    "for i in range(M):\n",
    "    discountedPayoffc[i] = hitBox(STc[i, :], 19, n, Bd, Bu)*np.exp(-r*2)\n",
    "    discountedPayoffa[i] = hitBox(STa[i, :], 19, n, Bd, Bu)*np.exp(-r*2)\n",
    "discountedPayoff = (discountedPayoffa + discountedPayoffc)/2\n",
    "\n",
    "print('Estimated Hit Box option price is %s.'%np.mean(discountedPayoff))"
   ]
  }
 ],
 "metadata": {
  "kernelspec": {
   "display_name": "Python 3",
   "language": "python",
   "name": "python3"
  },
  "language_info": {
   "codemirror_mode": {
    "name": "ipython",
    "version": 3
   },
   "file_extension": ".py",
   "mimetype": "text/x-python",
   "name": "python",
   "nbconvert_exporter": "python",
   "pygments_lexer": "ipython3",
   "version": "3.6.8"
  }
 },
 "nbformat": 4,
 "nbformat_minor": 2
}
