{
 "cells": [
  {
   "cell_type": "code",
   "execution_count": 18,
   "metadata": {
    "scrolled": false
   },
   "outputs": [
    {
     "name": "stdout",
     "output_type": "stream",
     "text": [
      "The time difference is : 0.009838773985393345\n"
     ]
    }
   ],
   "source": [
    "import numpy as np \n",
    "from itertools import product\n",
    "import timeit\n",
    "from scipy.stats import binom\n",
    "import matplotlib.pyplot as plt\n",
    "%matplotlib inline\n",
    "\n",
    "\n",
    "starttime = timeit.default_timer()\n",
    "\n",
    "S0 = 50; u = 1.06; r = 0.01; d = 0.98; n = 26; M = 25\n",
    "\n",
    "def permgrid(n, u, d):\n",
    "    inds = np.indices((2,) * n)\n",
    "    inds = inds.reshape(n, -1).T\n",
    "    inds = d*inds\n",
    "    return np.where(inds == 0, u, inds)\n",
    "\n",
    "def binomialPath(M):\n",
    "    PQ = permgrid(M, u, d)\n",
    "    S = np.zeros((2**n, n+1))\n",
    "    S[:, 0] = S0 \n",
    "    \n",
    "    for i in range(n):\n",
    "        S[:, i+1] = S[:, i]*PQ[:, i]\n",
    "              \n",
    "    return S \n",
    "\n",
    "def genPath(M):\n",
    "    q = (1+r-d)/(u-d)\n",
    "    S = PQ = np.zeros((M, n+1))\n",
    "    S[:, 0] = S0\n",
    "    \n",
    "    for i in range(M):\n",
    "        UUi = np.random.uniform(size = M)\n",
    "        upow = (UUi < q).astype(int)\n",
    "        dpow = (UUi >= q).astype(int)\n",
    "        for j in range(n):\n",
    "            S[i, j+1] = S[i, j]* u**upow[j] * d**dpow[j]\n",
    "            PQ[i, j+1] = q**upow[j] * (1-q)**dpow[j]\n",
    "    \n",
    "    return S, PQ\n",
    "\n",
    "    \n",
    "    \n",
    "S, PQ = genPath(26)\n",
    "M = n = 8\n",
    "testing = binomialPath(M)\n",
    "\n",
    "\n",
    "print(\"The time difference is :\", timeit.default_timer() - starttime)"
   ]
  },
  {
   "cell_type": "markdown",
   "metadata": {},
   "source": [
    "4. Consider the up-and-in barrier Call: it pays $V_N = (S_N - K)_+$ but only if $\\text{max}_n S_n > B$, i.e. at some point between 0 and $T$, the stock price exceeded the level $B$. If this happens, we say that the option got \"knocked in\". The barrier option is path-dependent. Take a binomial tree with $u=1.05, \\; d=0.95,\\; r=0.01$ and $N=8$. The barrier parameters are $S_0 = 10, \\; K=11$ and $B$ to be specified below. There are a total of $2^N=256$ scenarios in this tree. By directly enumerating them as $\\omega^{(1)}=HHHHHHHH,\\; \\omega^{(2)}=HHHHHHHT,\\;..., \\; \\omega^{(256)}=TTTTTTTT$ and computing $\\mathbb{Q}(\\omega^{(i)})$, find the price of the up-and-in barrier Call: \n",
    "$$\\mathbb{E}^Q \\bigg [\\frac{V_N}{(1+r)^N} \\bigg ]  = \\frac{1}{(1+r)^N} \\sum^{256}_{i=1} \\mathbb{Q}(\\omega^{(i)})V_N(\\omega^{(i)})$$\n",
    "\n",
    "    The provided R code in class shows how to enumerate the scenarios by translating between the index $i$ of $\\omega^{(i)}$ and the individual coin tosses $\\omega^{(i)}_k$. As an example, it computes the final stock price $S_N(\\omega_1...\\omega_N).$ You will need to modify the code to compute the barrier Call payoffs. \n",
    "\n",
    "    For each $B = 11, 11.5, 12, 12.5, 13$ report: (i) number of scenarios that have nonzero payoff; (ii) risk-neutral probability of being knocked-in, (iii) no-arbitrage price of the barrier Call.\n",
    "    Note: if $B = 11 = K$ then the barrier feature doesn’t do anything and the answer you get is the same as for ordinary Call."
   ]
  },
  {
   "cell_type": "code",
   "execution_count": 10,
   "metadata": {},
   "outputs": [
    {
     "name": "stdout",
     "output_type": "stream",
     "text": [
      "(7.004405538595183, 7, 0.011197439999999998)\n",
      "(7.004405538595183, 7, 0.011197439999999998)\n",
      "(7.004405538595183, 7, 0.011197439999999998)\n",
      "(7.004405538595183, 7, 0.011197439999999998)\n",
      "(5.993779524134783, 5, 0.00497664)\n"
     ]
    }
   ],
   "source": [
    "import numpy as np\n",
    "import pandas as pd \n",
    "u = 1.05; d = 0.95; r = 0.01; n = 8; S0 = 10; M = 8; K = 11\n",
    "q = (1+r-d)/(u-d)\n",
    "\n",
    "def permgrid(n, u, d):\n",
    "    inds = np.indices((2,) * n)\n",
    "    inds = inds.reshape(n, -1).T\n",
    "    inds = d*inds\n",
    "    return np.where(inds == 0, u, inds)\n",
    "\n",
    "def binomialPath(M):\n",
    "    PQ = permgrid(M, u, d)\n",
    "    S = np.zeros((2**n, n+1))\n",
    "    S[:, 0] = S0 \n",
    "    \n",
    "    for i in range(n):\n",
    "        S[:, i+1] = S[:, i]*PQ[:, i]\n",
    "              \n",
    "    return S \n",
    "\n",
    "PQ = permgrid(M, u, d)    \n",
    "S = binomialPath(M)\n",
    "\n",
    "def barrier_payoff(B):\n",
    "    \n",
    "    Payoff = np.zeros(2**M)\n",
    "    count = 0 \n",
    "    PQ = permgrid(M, u, d)\n",
    "    PQ = np.where(PQ == u, q, PQ)\n",
    "    PQ = np.where(PQ == d, 1-q, PQ)\n",
    "    for i in range(M):\n",
    "        if max(S[i, :]) > B:\n",
    "            Payoff[i] = max(S[i, n] - K, 0)\n",
    "            if Payoff[i] > 0:\n",
    "                count += 1 \n",
    "    price = sum(Payoff*PQ[:, n-1])/(1+r)**n \n",
    "    prob = q**count * (1-q)**(M-count)\n",
    "    \n",
    "    return price, count, prob \n",
    "\n",
    "print(barrier_payoff(11))\n",
    "print(barrier_payoff(11.5))\n",
    "print(barrier_payoff(12))\n",
    "print(barrier_payoff(12.5))\n",
    "print(barrier_payoff(13))"
   ]
  },
  {
   "cell_type": "markdown",
   "metadata": {},
   "source": [
    "2\\. Consider a binomial tree with $S_0 = 50, u = 1.06, r = 0.01, d = 0.98$ (all values per period) and $n = 26$ periods."
   ]
  },
  {
   "cell_type": "markdown",
   "metadata": {},
   "source": [
    "a. Generate a sample of $M = 25$ values of $S_{26}$. Compute the resulting Monte Carlo estimate for the value of a European Put which has strike $K = 60$. Provide both the\n",
    "point estimate based on sample average, as well as a 95% confidence interval based on\n",
    "the t-distribution of the sample average estimator."
   ]
  },
  {
   "cell_type": "code",
   "execution_count": 289,
   "metadata": {},
   "outputs": [
    {
     "name": "stdout",
     "output_type": "stream",
     "text": [
      "The point estimate is 2.6829218905543364.\n",
      "The 95-percent CI is (0.7502105981849123, 4.6156331829237605).\n"
     ]
    }
   ],
   "source": [
    "np.random.seed(1)\n",
    "\n",
    "S0 = 50; u = 1.06; r = 0.01; d = 0.98; n = 26; M = 25; K = 60\n",
    "\n",
    "def MC_euro_put_payoff(K):\n",
    "    U = np.random.uniform(size = M)\n",
    "    S = Payoff = np.zeros(M)\n",
    "    q = (1+r-d)/(u-d)\n",
    "\n",
    "    for i in range(M):\n",
    "        S[i] = S0*(u/d)**(binom.ppf(U[i], n, q))*d**n\n",
    "        Payoff[i] = max(K-S[i], 0)\n",
    "    \n",
    "    return Payoff \n",
    "\n",
    "def ptEstimate_and_95CI(K, Payoff):\n",
    "    \n",
    "    discountedPayoff = Payoff/(1+r)**n\n",
    "    Vhat = np.mean(discountedPayoff)\n",
    "\n",
    "    CI = (Vhat-2.060*np.std(discountedPayoff)/np.sqrt(M), \n",
    "         Vhat+2.060*np.std(discountedPayoff)/np.sqrt(M))\n",
    "    \n",
    "    return Vhat, CI\n",
    "\n",
    "Vhat, CI = ptEstimate_and_95CI(K, MC_euro_put_payoff(K))\n",
    "\n",
    "print('The point estimate is %s.'%Vhat)\n",
    "print('The 95-percent CI is %s.'%(CI,))"
   ]
  },
  {
   "cell_type": "markdown",
   "metadata": {},
   "source": [
    "b. Repeat the above 10 times and summarize your results. Be sure to compare your MC estimates to the true no-arbitrage price of this Put (which is the direct expectation\n",
    "using the distribution in (a))."
   ]
  },
  {
   "cell_type": "code",
   "execution_count": 290,
   "metadata": {},
   "outputs": [
    {
     "name": "stdout",
     "output_type": "stream",
     "text": [
      "True mean price: 2.123586766322793\n",
      "True standard deviation: 3.6851920061217203\n"
     ]
    },
    {
     "data": {
      "text/html": [
       "<div>\n",
       "<style scoped>\n",
       "    .dataframe tbody tr th:only-of-type {\n",
       "        vertical-align: middle;\n",
       "    }\n",
       "\n",
       "    .dataframe tbody tr th {\n",
       "        vertical-align: top;\n",
       "    }\n",
       "\n",
       "    .dataframe thead th {\n",
       "        text-align: right;\n",
       "    }\n",
       "</style>\n",
       "<table border=\"1\" class=\"dataframe\">\n",
       "  <thead>\n",
       "    <tr style=\"text-align: right;\">\n",
       "      <th></th>\n",
       "      <th>Point Estimate</th>\n",
       "      <th>95-percent CI</th>\n",
       "      <th>Abs. Error of Point Estimate</th>\n",
       "    </tr>\n",
       "  </thead>\n",
       "  <tbody>\n",
       "    <tr>\n",
       "      <th>1</th>\n",
       "      <td>2.801249</td>\n",
       "      <td>(1.209202787358666, 4.39329583692839)</td>\n",
       "      <td>0.677663</td>\n",
       "    </tr>\n",
       "    <tr>\n",
       "      <th>2</th>\n",
       "      <td>2.659100</td>\n",
       "      <td>(1.0526701548470043, 4.265529862866649)</td>\n",
       "      <td>0.535513</td>\n",
       "    </tr>\n",
       "    <tr>\n",
       "      <th>3</th>\n",
       "      <td>1.536658</td>\n",
       "      <td>(-0.031469540452262246, 3.104786024883026)</td>\n",
       "      <td>0.586929</td>\n",
       "    </tr>\n",
       "    <tr>\n",
       "      <th>4</th>\n",
       "      <td>3.355542</td>\n",
       "      <td>(1.3507046965348235, 5.360379093033799)</td>\n",
       "      <td>1.231955</td>\n",
       "    </tr>\n",
       "    <tr>\n",
       "      <th>5</th>\n",
       "      <td>3.399286</td>\n",
       "      <td>(1.5423340209423027, 5.256237264961017)</td>\n",
       "      <td>1.275699</td>\n",
       "    </tr>\n",
       "    <tr>\n",
       "      <th>6</th>\n",
       "      <td>2.127113</td>\n",
       "      <td>(0.6279440140105548, 3.6262810900553877)</td>\n",
       "      <td>0.003526</td>\n",
       "    </tr>\n",
       "    <tr>\n",
       "      <th>7</th>\n",
       "      <td>2.528286</td>\n",
       "      <td>(0.967117467336458, 4.0894547819640135)</td>\n",
       "      <td>0.404699</td>\n",
       "    </tr>\n",
       "    <tr>\n",
       "      <th>8</th>\n",
       "      <td>2.368287</td>\n",
       "      <td>(0.7131129404393837, 4.023461666458105)</td>\n",
       "      <td>0.244701</td>\n",
       "    </tr>\n",
       "    <tr>\n",
       "      <th>9</th>\n",
       "      <td>1.185907</td>\n",
       "      <td>(-0.096884573257777, 2.4686976193919916)</td>\n",
       "      <td>0.937680</td>\n",
       "    </tr>\n",
       "    <tr>\n",
       "      <th>10</th>\n",
       "      <td>0.946678</td>\n",
       "      <td>(-0.6489341074535336, 2.542290673842027)</td>\n",
       "      <td>1.176908</td>\n",
       "    </tr>\n",
       "  </tbody>\n",
       "</table>\n",
       "</div>"
      ],
      "text/plain": [
       "    Point Estimate                               95-percent CI  \\\n",
       "1         2.801249       (1.209202787358666, 4.39329583692839)   \n",
       "2         2.659100     (1.0526701548470043, 4.265529862866649)   \n",
       "3         1.536658  (-0.031469540452262246, 3.104786024883026)   \n",
       "4         3.355542     (1.3507046965348235, 5.360379093033799)   \n",
       "5         3.399286     (1.5423340209423027, 5.256237264961017)   \n",
       "6         2.127113    (0.6279440140105548, 3.6262810900553877)   \n",
       "7         2.528286     (0.967117467336458, 4.0894547819640135)   \n",
       "8         2.368287     (0.7131129404393837, 4.023461666458105)   \n",
       "9         1.185907    (-0.096884573257777, 2.4686976193919916)   \n",
       "10        0.946678    (-0.6489341074535336, 2.542290673842027)   \n",
       "\n",
       "    Abs. Error of Point Estimate  \n",
       "1                       0.677663  \n",
       "2                       0.535513  \n",
       "3                       0.586929  \n",
       "4                       1.231955  \n",
       "5                       1.275699  \n",
       "6                       0.003526  \n",
       "7                       0.404699  \n",
       "8                       0.244701  \n",
       "9                       0.937680  \n",
       "10                      1.176908  "
      ]
     },
     "execution_count": 290,
     "metadata": {},
     "output_type": "execute_result"
    }
   ],
   "source": [
    "import pandas as pd\n",
    "\n",
    "K = 60\n",
    "everything = list()\n",
    "\n",
    "for i in range(10):\n",
    "    everything.append(ptEstimate_and_95CI(K, MC_euro_put_payoff(K)))\n",
    "\n",
    "Vhats, CIs = zip(*everything)\n",
    "    \n",
    "allS = S0*(u/d)**np.arange(n)*d**n\n",
    "put_payoff = lambda s: max(K - s, 0)\n",
    "\n",
    "allS_payoffs = np.array(list(map(put_payoff, allS)))\n",
    "truePrice = sum(allS_payoffs*binom.pmf(np.arange(n), n, q))/(1+r)**n\n",
    "truePriceSq = sum(allS_payoffs**2*binom.pmf(np.arange(n), n, q))/(1+r)**(2*n)\n",
    "trueSd = np.sqrt(truePriceSq - truePrice**2)\n",
    "print('True mean price: %s\\nTrue standard deviation: %s'%(truePrice, trueSd))   \n",
    "\n",
    "pd.DataFrame({'Point Estimate':Vhats, '95-percent CI':CIs, \n",
    "              'Abs. Error of Point Estimate':list(map(abs, Vhats - truePrice))},\n",
    "            index = list(range(1,11)))"
   ]
  },
  {
   "cell_type": "markdown",
   "metadata": {},
   "source": [
    "c) Repeat parts a-b for the European Call with strike K = 80. How is this new case different from before?        "
   ]
  },
  {
   "cell_type": "code",
   "execution_count": 291,
   "metadata": {},
   "outputs": [
    {
     "name": "stdout",
     "output_type": "stream",
     "text": [
      "The point estimate is 0.6169256972069234.\n",
      "The 95-percent CI is (-0.38197167534668863, 1.6158230697605354).\n",
      "\n",
      "True mean price: 0.8114443935649318\n",
      "True standard deviation: 3.040950280803362\n"
     ]
    },
    {
     "data": {
      "text/html": [
       "<div>\n",
       "<style scoped>\n",
       "    .dataframe tbody tr th:only-of-type {\n",
       "        vertical-align: middle;\n",
       "    }\n",
       "\n",
       "    .dataframe tbody tr th {\n",
       "        vertical-align: top;\n",
       "    }\n",
       "\n",
       "    .dataframe thead th {\n",
       "        text-align: right;\n",
       "    }\n",
       "</style>\n",
       "<table border=\"1\" class=\"dataframe\">\n",
       "  <thead>\n",
       "    <tr style=\"text-align: right;\">\n",
       "      <th></th>\n",
       "      <th>Point Estimate</th>\n",
       "      <th>95-percent CI</th>\n",
       "      <th>Abs. Error of Point Estimate</th>\n",
       "    </tr>\n",
       "  </thead>\n",
       "  <tbody>\n",
       "    <tr>\n",
       "      <th>1</th>\n",
       "      <td>0.186540</td>\n",
       "      <td>(-0.021582952090738988, 0.3946635812044711)</td>\n",
       "      <td>0.624904</td>\n",
       "    </tr>\n",
       "    <tr>\n",
       "      <th>2</th>\n",
       "      <td>0.331114</td>\n",
       "      <td>(-0.22089812003498882, 0.8831260639510612)</td>\n",
       "      <td>0.480330</td>\n",
       "    </tr>\n",
       "    <tr>\n",
       "      <th>3</th>\n",
       "      <td>2.023651</td>\n",
       "      <td>(-0.19649211467629435, 4.243794300906761)</td>\n",
       "      <td>1.212207</td>\n",
       "    </tr>\n",
       "    <tr>\n",
       "      <th>4</th>\n",
       "      <td>0.734453</td>\n",
       "      <td>(-0.747951659998821, 2.2168571607594196)</td>\n",
       "      <td>0.076992</td>\n",
       "    </tr>\n",
       "    <tr>\n",
       "      <th>5</th>\n",
       "      <td>0.537868</td>\n",
       "      <td>(-0.2136195366923498, 1.2893550051153397)</td>\n",
       "      <td>0.273577</td>\n",
       "    </tr>\n",
       "    <tr>\n",
       "      <th>6</th>\n",
       "      <td>0.455474</td>\n",
       "      <td>(-0.11103050758335126, 1.0219788709085782)</td>\n",
       "      <td>0.355970</td>\n",
       "    </tr>\n",
       "    <tr>\n",
       "      <th>7</th>\n",
       "      <td>1.682492</td>\n",
       "      <td>(-0.10476967489747957, 3.469754513987998)</td>\n",
       "      <td>0.871048</td>\n",
       "    </tr>\n",
       "    <tr>\n",
       "      <th>8</th>\n",
       "      <td>0.517654</td>\n",
       "      <td>(-0.05424062738780511, 1.0895492004176095)</td>\n",
       "      <td>0.293790</td>\n",
       "    </tr>\n",
       "    <tr>\n",
       "      <th>9</th>\n",
       "      <td>1.550832</td>\n",
       "      <td>(-0.651029188017364, 3.7526921972640306)</td>\n",
       "      <td>0.739387</td>\n",
       "    </tr>\n",
       "    <tr>\n",
       "      <th>10</th>\n",
       "      <td>1.477696</td>\n",
       "      <td>(-0.17097136364708643, 3.126364288661163)</td>\n",
       "      <td>0.666252</td>\n",
       "    </tr>\n",
       "  </tbody>\n",
       "</table>\n",
       "</div>"
      ],
      "text/plain": [
       "    Point Estimate                                95-percent CI  \\\n",
       "1         0.186540  (-0.021582952090738988, 0.3946635812044711)   \n",
       "2         0.331114   (-0.22089812003498882, 0.8831260639510612)   \n",
       "3         2.023651    (-0.19649211467629435, 4.243794300906761)   \n",
       "4         0.734453     (-0.747951659998821, 2.2168571607594196)   \n",
       "5         0.537868    (-0.2136195366923498, 1.2893550051153397)   \n",
       "6         0.455474   (-0.11103050758335126, 1.0219788709085782)   \n",
       "7         1.682492    (-0.10476967489747957, 3.469754513987998)   \n",
       "8         0.517654   (-0.05424062738780511, 1.0895492004176095)   \n",
       "9         1.550832     (-0.651029188017364, 3.7526921972640306)   \n",
       "10        1.477696    (-0.17097136364708643, 3.126364288661163)   \n",
       "\n",
       "    Abs. Error of Point Estimate  \n",
       "1                       0.624904  \n",
       "2                       0.480330  \n",
       "3                       1.212207  \n",
       "4                       0.076992  \n",
       "5                       0.273577  \n",
       "6                       0.355970  \n",
       "7                       0.871048  \n",
       "8                       0.293790  \n",
       "9                       0.739387  \n",
       "10                      0.666252  "
      ]
     },
     "execution_count": 291,
     "metadata": {},
     "output_type": "execute_result"
    }
   ],
   "source": [
    "def MC_Euro_call_payoff(K):\n",
    "    U = np.random.uniform(size = M)\n",
    "    S = Payoff = np.zeros(M)\n",
    "    q = (1+r-d)/(u-d)\n",
    "\n",
    "    for i in range(M):\n",
    "        S[i] = S0*(u/d)**(binom.ppf(U[i], n, q))*d**n\n",
    "        Payoff[i] = max(S[i]-K, 0)\n",
    "    \n",
    "    return Payoff \n",
    "\n",
    "K = 80 \n",
    "Vhat, CI = ptEstimate_and_95CI(K, MC_Euro_call_payoff(K))\n",
    "print('The point estimate is %s.'%Vhat)\n",
    "print('The 95-percent CI is %s.'%(CI,))\n",
    "\n",
    "everything = list()\n",
    "\n",
    "for i in range(10):\n",
    "    everything.append(ptEstimate_and_95CI(K, MC_Euro_call_payoff(K)))\n",
    "\n",
    "Vhats, CIs = zip(*everything)\n",
    "    \n",
    "allS = S0*(u/d)**np.arange(n)*d**n\n",
    "call_payoff = lambda s: max(s - K, 0)\n",
    "\n",
    "allS_payoffs = np.array(list(map(call_payoff, allS)))\n",
    "truePrice = sum(allS_payoffs*binom.pmf(np.arange(n), n, q))/(1+r)**n\n",
    "truePriceSq = sum(allS_payoffs**2*binom.pmf(np.arange(n), n, q))/(1+r)**(2*n)\n",
    "trueSd = np.sqrt(truePriceSq - truePrice**2)\n",
    "print('\\nTrue mean price: %s\\nTrue standard deviation: %s'%(truePrice, trueSd))   \n",
    "\n",
    "pd.DataFrame({'Point Estimate':Vhats, '95-percent CI':CIs, \n",
    "              'Abs. Error of Point Estimate':list(map(abs, Vhats - truePrice))},\n",
    "            index = list(range(1,11)))"
   ]
  },
  {
   "cell_type": "markdown",
   "metadata": {},
   "source": [
    "3\\. Consider a Lookback option which pays $V_N = \\text{max}(\\text{max}_{n\\leq N} S_n-K, 0)$ where $\\text{max}_{n\\leq N} S_n = \n",
    "\\text{max}(S_0, S_1,..., S_N)$ is the maximum stock price over $N$ periods. For the parameters, $S_0 = 50, r = 0.01, u = 1.06, d = 0.98, K = 55$ and $N = 30$, estimate the no-arbitrage\n",
    "value of this option at $t = 0$ using a Monte Carlo simulation with $M = 100$ samples. Be sure to use antithetic variables, and generate your samples in pairs.\n",
    "\n",
    "Hand-in: \n",
    "    \n",
    "a) the code you used.\n",
    "\n",
    "b) a histogram of the resulting values of option payoff $V_N$.\n",
    "\n",
    "c) Sample mean/SD of your payoffs.\n",
    "\n",
    "d) Final answer with a 99% - confidence interval."
   ]
  },
  {
   "cell_type": "code",
   "execution_count": 292,
   "metadata": {},
   "outputs": [],
   "source": [
    "# a\n",
    "\n",
    "S0 = 50; u = 1.06; r = 0.01; d = 0.98; N = 30; M = 100; K = 55\n",
    "\n",
    "def binomConvert(UUi, q):\n",
    "    upow = (UUi < q).astype(int)\n",
    "    dpow = (UUi >= q).astype(int)\n",
    "    \n",
    "    return upow, dpow \n",
    "         \n",
    "def antithetic_path(M):\n",
    "    q = (1+r-d)/(u-d)\n",
    "    S = np.zeros((2*M, N+1))\n",
    "    discountedPayoffs = np.zeros(M)\n",
    "    S[:, 0] = S0\n",
    "    \n",
    "    for i in range(N):\n",
    "        UUi = np.random.uniform(size = M)\n",
    "        upow, dpow = binomConvert(UUi, q)\n",
    "\n",
    "        U_anti = 1 - UUi\n",
    "        upow1, dpow1 = binomConvert(U_anti, q)\n",
    "        \n",
    "        S[0:M, i+1] = S[0:M, i] * u**upow * d**dpow\n",
    "        S[M:2*M, i+1] = S[0:M, i] * u**upow1 * d**dpow1\n",
    "                \n",
    "    return S"
   ]
  },
  {
   "cell_type": "code",
   "execution_count": 295,
   "metadata": {},
   "outputs": [
    {
     "data": {
      "text/plain": [
       "(0.0, 50.0)"
      ]
     },
     "execution_count": 295,
     "metadata": {},
     "output_type": "execute_result"
    },
    {
     "data": {
      "image/png": "[encoded data removed]",
      "text/plain": [
       "<Figure size 432x288 with 1 Axes>"
      ]
     },
     "metadata": {
      "needs_background": "light"
     },
     "output_type": "display_data"
    }
   ],
   "source": [
    "# b\n",
    "\n",
    "S = gen_antithetic_path(M)\n",
    "\n",
    "discountedPayoffs = [1/(1+r)**N * max(max(S[i, :]) - K, 0) \n",
    "                            for i in range(2*M)]\n",
    "\n",
    "n, bins, patches = plt.hist(x=discountedPayoffs, bins='auto', \n",
    "                            color='#607c8e', alpha=0.7, rwidth=0.85)\n",
    "plt.grid(axis='y', alpha = 0.75)\n",
    "plt.xlabel('$V_N$: Option Payoff')\n",
    "plt.ylabel('Frequency')\n",
    "plt.title('Lookback Option Payoff Histogram')\n",
    "maxfreq = n.max()\n",
    "plt.ylim(ymax=np.ceil(maxfreq / 10) * 10 if maxfreq % 10 else maxfreq + 10)"
   ]
  },
  {
   "cell_type": "code",
   "execution_count": 296,
   "metadata": {},
   "outputs": [
    {
     "name": "stdout",
     "output_type": "stream",
     "text": [
      "Sample mean: 14.453217117944009\n",
      "Sample standard deviation: 10.25912634345684\n"
     ]
    }
   ],
   "source": [
    "# c\n",
    "\n",
    "sample_mean = np.mean(discountedPayoffs)\n",
    "sample_std = np.std(discountedPayoffs)\n",
    "\n",
    "print('Sample mean: %s'%sample_mean)\n",
    "print('Sample standard deviation: %s'%sample_std)"
   ]
  },
  {
   "cell_type": "code",
   "execution_count": 297,
   "metadata": {},
   "outputs": [
    {
     "name": "stdout",
     "output_type": "stream",
     "text": [
      "The 99-percent CI is (11.806362521332144, 17.100071714555874).\n"
     ]
    }
   ],
   "source": [
    "# d\n",
    "\n",
    "CI = (sample_mean-2.58*sample_std/np.sqrt(M), \n",
    "         sample_mean+2.58*sample_std/np.sqrt(M))\n",
    "\n",
    "print('The 99-percent CI is %s.'%(CI,))"
   ]
  },
  {
   "cell_type": "markdown",
   "metadata": {},
   "source": [
    "4\\. The Black-Scholes model assumes that \n",
    "\n",
    "$$S_T = S_0 exp((r-0.5\\sigma^2)T + \\sigma \\sqrt{T}Z)$$\n",
    "\n",
    "where $Z$ is standard normal, independent of everything else and $\\sigma$ is the model parameter.\n",
    "\n",
    "\n",
    "Consider a European Call with strike $K = 45$ and maturity $T = 1/2$ for an asset with $S_0 = 50, \\sigma= 0.2$. The interest rate is $r = 0.04$ (here all parameters are in annual units). Because this is a European contract, for Monte Carlo purposes we can directly sample from the log-normal distribution of $S_T$. [As a reference, see pp. 4–6 in Glasserman\n",
    "Chapter 1]"
   ]
  },
  {
   "cell_type": "markdown",
   "metadata": {},
   "source": [
    "a) Using a sample of 25 Monte Carlo values (use the basic method, without any enhancements) for $S_T$ , estimate the value of this European Call and a 95% confidence interval.\n",
    "Compare to the true Black-Scholes price of the Call."
   ]
  },
  {
   "cell_type": "code",
   "execution_count": 299,
   "metadata": {},
   "outputs": [
    {
     "name": "stdout",
     "output_type": "stream",
     "text": [
      "The point estimate is 5.73695122810017.\n",
      "The 95-percent CI is (4.489648821858237, 6.984253634342103).\n"
     ]
    }
   ],
   "source": [
    "K = 45; T = 1/2; S0 = 50; sigma = 0.2; r = 0.04; M = 25\n",
    "\n",
    "def MC_bs_euro_call_payoff():\n",
    "    \n",
    "    ST = discountedPayoff = np.zeros(M)\n",
    "    for i in range(M):\n",
    "        Z = np.random.normal(0,1)\n",
    "        ST[i] = S0*np.exp((r - 0.5*sigma**2)*T + sigma*np.sqrt(T)*Z)\n",
    "        discountedPayoff = max(ST[i] - K, 0)/(1 + r)**T\n",
    "    \n",
    "    return discountedPayoff\n",
    "\n",
    "Payoff = MC_bs_euro_call_payoff()\n",
    "Vhat, CI = ptEstimate_and_95CI(K, Payoff)\n",
    "\n",
    "print('The point estimate is %s.'%Vhat)\n",
    "print('The 95-percent CI is %s.'%(CI,))\n",
    "\n",
    "allS = S0*(u/d)**np.arange(n)*d**n\n",
    "call_payoff = lambda s: max(s - K, 0)\n",
    "\n",
    "allS_payoffs = np.array(list(map(call_payoff, allS)))\n",
    "truePrice = sum(allS_payoffs*binom.pmf(np.arange(n), n, q))/(1+r)**n\n",
    "truePriceSq = sum(allS_payoffs**2*binom.pmf(np.arange(n), n, q))/(1+r)**(2*n)\n",
    "trueSd = np.sqrt(truePriceSq - truePrice**2)\n",
    "\n",
    "print('\\nTrue Black-Scholes price of the Call: %s\\nTrue standard deviation: %s'%(truePrice, trueSd))   \n"
   ]
  },
  {
   "cell_type": "markdown",
   "metadata": {},
   "source": [
    "b) Quasi-Monte Carlo: take $U = {0.02, 0.06, . . . , 0.98}$ to be a grid of length 25 in [0,1]. Use the inverse cdf method to compute the corresponding $S_T$ values ( eg the first\n",
    "sample is the 2% percentile of the standard normal, then use $qnorm()$ command to get the corresponding Z-value and plug into (1)). Average the resulting 25 payoffs to come up with a deterministic estimate of the Call price. Since the answer is deterministic, there is no confidence interval, just a point estimate.\n",
    "Show your work/code and discuss the results in relation to part a)"
   ]
  },
  {
   "cell_type": "code",
   "execution_count": 47,
   "metadata": {},
   "outputs": [
    {
     "data": {
      "text/plain": [
       "array([0.  , 0.02, 0.04, 0.06, 0.08, 0.1 , 0.12, 0.14, 0.16, 0.18, 0.2 ,\n",
       "       0.22, 0.24, 0.26, 0.28, 0.3 , 0.32, 0.34, 0.36, 0.38, 0.4 , 0.42,\n",
       "       0.44, 0.46, 0.48, 0.5 , 0.52, 0.54, 0.56, 0.58, 0.6 , 0.62, 0.64,\n",
       "       0.66, 0.68, 0.7 , 0.72, 0.74, 0.76, 0.78, 0.8 , 0.82, 0.84, 0.86,\n",
       "       0.88, 0.9 , 0.92, 0.94, 0.96, 0.98])"
      ]
     },
     "execution_count": 47,
     "metadata": {},
     "output_type": "execute_result"
    }
   ],
   "source": [
    "U = np.arange(0, 1, 0.02)\n",
    "U"
   ]
  },
  {
   "cell_type": "markdown",
   "metadata": {},
   "source": [
    "5\\. Basket options have payoffs that depend on the value of multiple underlying assets. For example, consider a payoff based on the Dow Jones Industrial Average. The DJIA is a price-weighted index, namely $$DJIA(T) = \\frac{\\sum_i S^i(T)}{0.146}$$ where $S^i(T)$ ) is the share price of the i-th component of the index. See wikipedia.org/wiki/Dow_Jones_Industrial_Average#Calculation The real-world Dow has 30 components, but for our purposes we will take $I = 5$ components. Assume that $S^i(0) = 10∗i$ (i.e. $S^1(0) = 10, S^2(0) = 20$ and so on), and each component follows an independent\n",
    "Black-Scholes model (1) with $r = 0.03$ and $\\sigma_i = 0.1 + 0.05 ∗ i$. Thanks to independence, simulation of $S^i(T)$ is straightforward (you just need to loop over $i$ and use the correct volatility $\\sigma_i$).\n",
    "There are no analytic formulas for Basket option values. Using Monte Carlo with $M = 500$, price a Basket Put with payoff $$V_T = max(\\frac{S^(T)+S^2(T)+S^3(T)+S^4(T)+S^5(T)}{5}-30, 0), \\; r = 0.03, \\; T=1.$$ Submit your code, histogram of the contract payoffs, estimated contract value today,\n",
    "and respective 98% CI."
   ]
  },
  {
   "cell_type": "code",
   "execution_count": 300,
   "metadata": {},
   "outputs": [
    {
     "data": {
      "text/plain": [
       "3048.80402"
      ]
     },
     "execution_count": 300,
     "metadata": {},
     "output_type": "execute_result"
    }
   ],
   "source": [
    "1210.9*2.5178"
   ]
  },
  {
   "cell_type": "markdown",
   "metadata": {},
   "source": [
    "6\\. Consider the CEV model $$dS_t = rS_tdt + \\sigma S^\\sigma_tdW_t.$$ This is a generalization of the GBM model that underlies (1) which has $\\alpha = 1.$ A path of $S_t$ can be simulated using an Euler method: $$S_{t+\\delta t} = S_t + r S_t \\delta t + \\sigma(S_t)^\\alpha Z_{\\delta t}, \\; Z_{\\delta t}~N(0, \\delta t) \\; i.i.d.$$ (Note that the above is already under the risk-neutral measure Q)\n",
    "Using Monte Carlo with antithetic paths, price a Hit Box option (see Hw1) on ($S_t$) across the period $T_1 = 1, T_2 = 2$ and levels $\\underline{S} = 95, \\overline{S}=97.$ Use $\\delta t = 0.05$ and $r=0.05, \\sigma=0.3, S_0=100$ with CEV-coefficient $\\alpha = 0.8$. \n",
    "\n",
    "Pick a large M"
   ]
  },
  {
   "cell_type": "code",
   "execution_count": 35,
   "metadata": {},
   "outputs": [],
   "source": [
    "s = np.array([[100, 154, 320, 230, 168],\n",
    "[100, 55, 65, 75, 56],\n",
    "[100, 194, 270, 215, 137],\n",
    "[100, 105, 123, 135, 109],\n",
    "[100, 87, 82, 96, 101],\n",
    "[100, 70, 65, 82, 114],\n",
    "[100, 111.7023435, 77.83686686, 89.90379786, 109.6277116],\n",
    "[100, 85.37067741, 116.8306191, 96.4572771, 75.43340288]])\n"
   ]
  },
  {
   "cell_type": "code",
   "execution_count": 36,
   "metadata": {},
   "outputs": [],
   "source": [
    "payoff = np.zeros(len(s))\n",
    "for i in range(len(s)):\n",
    "    payoff[i] = max(125 - sum(s[i, :])/5, 0)*np.exp(-0.03)\n",
    "    "
   ]
  },
  {
   "cell_type": "code",
   "execution_count": 37,
   "metadata": {},
   "outputs": [
    {
     "data": {
      "text/plain": [
       "23.456573575851074"
      ]
     },
     "execution_count": 37,
     "metadata": {},
     "output_type": "execute_result"
    }
   ],
   "source": [
    "np.mean(payoff)"
   ]
  },
  {
   "cell_type": "code",
   "execution_count": 39,
   "metadata": {},
   "outputs": [],
   "source": [
    "temp = np.array([[100, 154, 320, 230, 168],\n",
    "[100, 55, 65, 75, 56],\n",
    "[100, 194, 270, 215, 137],\n",
    "[100, 105, 123, 135, 109],\n",
    "[100, 87, 82, 96, 101],\n",
    "[100, 70, 65, 82, 114],\n",
    "[100, 111.7023435, 77.83686686, 89.90379786, 109.6277116],\n",
    "[100, 85.37067741, 116.8306191, 96.4572771, 75.43340288]])"
   ]
  },
  {
   "cell_type": "code",
   "execution_count": 40,
   "metadata": {},
   "outputs": [
    {
     "data": {
      "text/plain": [
       "array([[ 99.        , 153.        , 319.        , 229.        ,\n",
       "        167.        ],\n",
       "       [ 99.        ,  54.        ,  64.        ,  74.        ,\n",
       "         55.        ],\n",
       "       [ 99.        , 193.        , 269.        , 214.        ,\n",
       "        136.        ],\n",
       "       [ 99.        , 104.        , 122.        , 134.        ,\n",
       "        108.        ],\n",
       "       [ 99.        ,  86.        ,  81.        ,  95.        ,\n",
       "        100.        ],\n",
       "       [ 99.        ,  69.        ,  64.        ,  81.        ,\n",
       "        113.        ],\n",
       "       [ 99.        , 110.7023435 ,  76.83686686,  88.90379786,\n",
       "        108.6277116 ],\n",
       "       [ 99.        ,  84.37067741, 115.8306191 ,  95.4572771 ,\n",
       "         74.43340288]])"
      ]
     },
     "execution_count": 40,
     "metadata": {},
     "output_type": "execute_result"
    }
   ],
   "source": [
    "temp-1"
   ]
  },
  {
   "cell_type": "code",
   "execution_count": 41,
   "metadata": {},
   "outputs": [
    {
     "name": "stdout",
     "output_type": "stream",
     "text": [
      "%\n"
     ]
    }
   ],
   "source": []
  },
  {
   "cell_type": "code",
   "execution_count": null,
   "metadata": {},
   "outputs": [],
   "source": []
  }
 ],
 "metadata": {
  "kernelspec": {
   "display_name": "Python 3",
   "language": "python",
   "name": "python3"
  },
  "language_info": {
   "codemirror_mode": {
    "name": "ipython",
    "version": 3
   },
   "file_extension": ".py",
   "mimetype": "text/x-python",
   "name": "python",
   "nbconvert_exporter": "python",
   "pygments_lexer": "ipython3",
   "version": "3.6.8"
  }
 },
 "nbformat": 4,
 "nbformat_minor": 2
}
