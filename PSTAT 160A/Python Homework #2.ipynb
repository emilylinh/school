{
 "cells": [
  {
   "cell_type": "code",
   "execution_count": 327,
   "metadata": {},
   "outputs": [],
   "source": [
    "import numpy as np\n",
    "import math"
   ]
  },
  {
   "cell_type": "code",
   "execution_count": 328,
   "metadata": {},
   "outputs": [],
   "source": [
    "def randomSum(averageClaimSize, averageNumberOfClaims):\n",
    "    \n",
    "    sampleRandomSum = 0 \n",
    "    N = np.random.poisson(averageNumberOfClaims)\n",
    "    X = np.random.exponential(averageClaimSize, size = N)\n",
    "    \n",
    "#    print(\"N is \" + str(N))\n",
    "    \n",
    "    for i in range(N):\n",
    "  #      print(\"X[\"+str(i)+\"] is \"+str(X[i]))\n",
    "        sampleRandomSum += X[i]\n",
    "    \n",
    "    return sampleRandomSum"
   ]
  },
  {
   "cell_type": "code",
   "execution_count": 329,
   "metadata": {},
   "outputs": [
    {
     "data": {
      "text/plain": [
       "11867.954991050385"
      ]
     },
     "execution_count": 329,
     "metadata": {},
     "output_type": "execute_result"
    }
   ],
   "source": [
    "# Test your function \n",
    "randomSum(1000,20)"
   ]
  },
  {
   "cell_type": "code",
   "execution_count": 330,
   "metadata": {},
   "outputs": [],
   "source": [
    "def simulator(averageClaimSize, averageNumberOfClaims, M):\n",
    "    \n",
    "    samples = []\n",
    "    \n",
    "    for i in range(M):\n",
    "        Sn = randomSum(averageClaimSize, averageNumberOfClaims)\n",
    "        samples.append(Sn)\n",
    "    \n",
    "    return samples"
   ]
  },
  {
   "cell_type": "code",
   "execution_count": 331,
   "metadata": {},
   "outputs": [
    {
     "data": {
      "text/plain": [
       "[31521.330065581118,\n",
       " 29650.141624951437,\n",
       " 22165.09036783417,\n",
       " 19912.431358246275,\n",
       " 26479.06734230888,\n",
       " 16056.914674330354,\n",
       " 11202.388904076355,\n",
       " 25542.309726354342,\n",
       " 24824.90403469888,\n",
       " 32268.25183962345]"
      ]
     },
     "execution_count": 331,
     "metadata": {},
     "output_type": "execute_result"
    }
   ],
   "source": [
    "# Test your function\n",
    "simulator(1000,20,10)"
   ]
  },
  {
   "cell_type": "code",
   "execution_count": 332,
   "metadata": {},
   "outputs": [],
   "source": [
    "def MCsimulation(averageClaimSize, averageNumberOfClaims, M):\n",
    "    \n",
    "    samples = simulator(averageClaimSize, averageNumberOfClaims, M)\n",
    "    empiricalMean = 0\n",
    "    \n",
    "    for i in range(M):\n",
    "        empiricalMean += samples[i]\n",
    "#        print(\"samples[\"+str(i)+\"] is \"+str(samples[i]))\n",
    "    \n",
    "#    print (empiricalMean)\n",
    "    return (empiricalMean/M)"
   ]
  },
  {
   "cell_type": "code",
   "execution_count": 333,
   "metadata": {},
   "outputs": [
    {
     "data": {
      "text/plain": [
       "21276.905382149063"
      ]
     },
     "execution_count": 333,
     "metadata": {},
     "output_type": "execute_result"
    }
   ],
   "source": [
    "# Test your function \n",
    "MCsimulation(1000,20,10)"
   ]
  },
  {
   "cell_type": "code",
   "execution_count": 334,
   "metadata": {},
   "outputs": [
    {
     "name": "stdout",
     "output_type": "stream",
     "text": [
      "2896.8184366974274\n",
      "952.6317313617983\n",
      "173.10389028002828\n",
      "42.722914284371655\n",
      "66.40879473873792\n",
      "59.519033326912904\n"
     ]
    }
   ],
   "source": [
    "## Compute the absolute error\n",
    "print(np.absolute(MCsimulation(1000, 20, 10)-20000))\n",
    "print(np.absolute(MCsimulation(1000, 20, 100)-20000))\n",
    "print(np.absolute(MCsimulation(1000, 20, 1000)-20000))\n",
    "print(np.absolute(MCsimulation(1000, 20, 10000)-20000))\n",
    "print(np.absolute(MCsimulation(1000, 20, 20000)-20000))\n",
    "print(np.absolute(MCsimulation(1000, 20, 50000)-20000))"
   ]
  },
  {
   "cell_type": "code",
   "execution_count": 335,
   "metadata": {},
   "outputs": [],
   "source": [
    "def MCprobEstimation(averageClaimSize, averageNumberOfClaims, K, M):\n",
    "    \n",
    "    sN = simulator(averageClaimSize, averageNumberOfClaims, M)\n",
    "    empiricalProb = 0\n",
    "    \n",
    "    for i in range(M):\n",
    " #       print(\"sN[\"+str(i)+\"] is \"+str(sN[i]))\n",
    "        if sN[i] <= K:\n",
    "            empiricalProb += 1\n",
    "          #  print(sN[i])\n",
    "        else:\n",
    "            empiricalProb += 0\n",
    "    \n",
    "    return (empiricalProb/M)"
   ]
  },
  {
   "cell_type": "code",
   "execution_count": 336,
   "metadata": {},
   "outputs": [
    {
     "data": {
      "text/plain": [
       "0.5"
      ]
     },
     "execution_count": 336,
     "metadata": {},
     "output_type": "execute_result"
    }
   ],
   "source": [
    "## Test your function\n",
    "MCprobEstimation(1000, 20, 20000, 10)"
   ]
  },
  {
   "cell_type": "code",
   "execution_count": 337,
   "metadata": {},
   "outputs": [],
   "source": [
    "averageClaimSize = 1000\n",
    "averageNumberOfClaims = 20"
   ]
  },
  {
   "cell_type": "code",
   "execution_count": 338,
   "metadata": {},
   "outputs": [
    {
     "name": "stdout",
     "output_type": "stream",
     "text": [
      "0.55\n",
      "0.506\n",
      "0.5304\n"
     ]
    }
   ],
   "source": [
    "print(MCprobEstimation(averageClaimSize, averageNumberOfClaims, 20000, 100))\n",
    "print(MCprobEstimation(averageClaimSize, averageNumberOfClaims, 20000, 1000))\n",
    "print(MCprobEstimation(averageClaimSize, averageNumberOfClaims, 20000, 10000))"
   ]
  },
  {
   "cell_type": "code",
   "execution_count": 339,
   "metadata": {},
   "outputs": [
    {
     "name": "stdout",
     "output_type": "stream",
     "text": [
      "0.98\n",
      "0.996\n",
      "0.9966\n"
     ]
    }
   ],
   "source": [
    "print(MCprobEstimation(averageClaimSize, averageNumberOfClaims, 40000, 100))\n",
    "print(MCprobEstimation(averageClaimSize, averageNumberOfClaims, 40000, 1000))\n",
    "print(MCprobEstimation(averageClaimSize, averageNumberOfClaims, 40000, 10000))"
   ]
  },
  {
   "cell_type": "code",
   "execution_count": 340,
   "metadata": {},
   "outputs": [
    {
     "name": "stdout",
     "output_type": "stream",
     "text": [
      "1.0\n",
      "1.0\n",
      "1.0\n"
     ]
    }
   ],
   "source": [
    "print(MCprobEstimation(averageClaimSize, averageNumberOfClaims, 60000, 100))\n",
    "print(MCprobEstimation(averageClaimSize, averageNumberOfClaims, 60000, 1000))\n",
    "print(MCprobEstimation(averageClaimSize, averageNumberOfClaims, 60000, 10000))"
   ]
  }
 ],
 "metadata": {
  "kernelspec": {
   "display_name": "Python 3",
   "language": "python",
   "name": "python3"
  },
  "language_info": {
   "codemirror_mode": {
    "name": "ipython",
    "version": 3
   },
   "file_extension": ".py",
   "mimetype": "text/x-python",
   "name": "python",
   "nbconvert_exporter": "python",
   "pygments_lexer": "ipython3",
   "version": "3.6.5"
  }
 },
 "nbformat": 4,
 "nbformat_minor": 2
}
