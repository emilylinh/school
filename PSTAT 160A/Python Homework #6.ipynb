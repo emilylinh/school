{
 "cells": [
  {
   "cell_type": "code",
   "execution_count": 1,
   "metadata": {},
   "outputs": [],
   "source": [
    "import numpy as np \n",
    "import matplotlib.pyplot as plt \n",
    "from numpy import linalg \n",
    "import csv\n",
    "\n",
    "# Allows to render plots directly within the notebook\n",
    "%matplotlib inline\n",
    "\n",
    "np.random.seed(20180227)\n",
    "\n",
    "csvFile = 'Wind_Speeds.csv'   #specify the path to your csv file\n",
    "\n",
    "P = []\n",
    "with open( csvFile, 'r' ) as file:\n",
    "    reader = csv.reader( file )\n",
    "    for row in reader:\n",
    "        P.append( [ float( prob ) for prob in row ] )"
   ]
  },
  {
   "cell_type": "code",
   "execution_count": 2,
   "metadata": {},
   "outputs": [
    {
     "data": {
      "text/plain": [
       "array([[0.756, 0.113, 0.129, 0.002, 0.   , 0.   , 0.   ],\n",
       "       [0.174, 0.821, 0.004, 0.001, 0.   , 0.   , 0.   ],\n",
       "       [0.141, 0.001, 0.776, 0.082, 0.   , 0.   , 0.   ],\n",
       "       [0.003, 0.   , 0.192, 0.753, 0.052, 0.   , 0.   ],\n",
       "       [0.   , 0.   , 0.002, 0.227, 0.735, 0.036, 0.   ],\n",
       "       [0.   , 0.   , 0.   , 0.007, 0.367, 0.604, 0.022],\n",
       "       [0.   , 0.   , 0.   , 0.   , 0.053, 0.158, 0.789]])"
      ]
     },
     "execution_count": 2,
     "metadata": {},
     "output_type": "execute_result"
    }
   ],
   "source": [
    "P=np.array(P)\n",
    "P"
   ]
  },
  {
   "cell_type": "code",
   "execution_count": 3,
   "metadata": {},
   "outputs": [
    {
     "data": {
      "text/plain": [
       "(array([3.24586174e-01, 2.06604292e-01, 3.03930586e-01, 1.31889029e-01,\n",
       "        2.98620155e-02, 2.83256580e-03, 2.95338614e-04]),\n",
       " array([3.24586174e-01, 2.06604292e-01, 3.03930586e-01, 1.31889029e-01,\n",
       "        2.98620155e-02, 2.83256580e-03, 2.95338614e-04]))"
      ]
     },
     "execution_count": 3,
     "metadata": {},
     "output_type": "execute_result"
    }
   ],
   "source": [
    "### Problem 1a\n",
    "P250 = linalg.matrix_power(P,250)\n",
    "P250[0],P250[1] # two rows of P^250"
   ]
  },
  {
   "cell_type": "code",
   "execution_count": 4,
   "metadata": {},
   "outputs": [
    {
     "data": {
      "text/plain": [
       "array([3.24586174e-01, 2.06604292e-01, 3.03930586e-01, 1.31889029e-01,\n",
       "       2.98620155e-02, 2.83256580e-03, 2.95338614e-04])"
      ]
     },
     "execution_count": 4,
     "metadata": {},
     "output_type": "execute_result"
    }
   ],
   "source": [
    "### Problem 1b\n",
    "w, v = linalg.eig(P.transpose())\n",
    "v[:,0] /= v[:,0].sum()  # normalizes the eigenvector\n",
    "v[:,0] # stationary distribution"
   ]
  },
  {
   "cell_type": "code",
   "execution_count": 5,
   "metadata": {},
   "outputs": [],
   "source": [
    "### Problem 2 \n",
    "def simulate(start, N, P): \n",
    "    \n",
    "    timeZero = []\n",
    "    S = [0,1,2,3,4,5,6]\n",
    "    current = start\n",
    "    \n",
    "    for i in range(N):\n",
    "        for j in range(1,N):\n",
    "            path = np.random.choice(S, 1, p = P[current][:])\n",
    "            current = path[0]\n",
    "            if path[0] == 0:\n",
    "                timeZero.append(j)\n",
    "                break\n",
    "    \n",
    "    return timeZero    "
   ]
  },
  {
   "cell_type": "code",
   "execution_count": 6,
   "metadata": {},
   "outputs": [],
   "source": [
    "times = simulate(0, 10**5, P)"
   ]
  },
  {
   "cell_type": "code",
   "execution_count": 7,
   "metadata": {},
   "outputs": [
    {
     "data": {
      "text/plain": [
       "3.09642"
      ]
     },
     "execution_count": 7,
     "metadata": {},
     "output_type": "execute_result"
    }
   ],
   "source": [
    "sum(times)/len(times) # Estimate of expected return time to state 0 given X_0 = 0"
   ]
  },
  {
   "cell_type": "code",
   "execution_count": 8,
   "metadata": {},
   "outputs": [
    {
     "data": {
      "text/plain": [
       "3.0808459523258716"
      ]
     },
     "execution_count": 8,
     "metadata": {},
     "output_type": "execute_result"
    }
   ],
   "source": [
    "1/v[:,0][0] # To check estimate"
   ]
  },
  {
   "cell_type": "code",
   "execution_count": 9,
   "metadata": {},
   "outputs": [
    {
     "data": {
      "text/plain": [
       "array([[-49.25,   0.25,  50.  ,   0.  ],\n",
       "       [-49.5 ,   0.5 ,   0.  ,  50.  ],\n",
       "       [-49.5 ,   0.  ,  50.5 ,   0.  ],\n",
       "       [  0.  ,   0.5 ,   0.  ,   0.5 ]])"
      ]
     },
     "execution_count": 9,
     "metadata": {},
     "output_type": "execute_result"
    }
   ],
   "source": [
    "p = 100\n",
    "P2 = ([3/4 - 1/2*p,1/4,p/2,0],[1/2-p/2, 1/2, 0, p/2],[1/2-p/2,0,p/2+1/2,0],[0,1/2,0,1/2])\n",
    "P2 = np.array(P2)\n",
    "P2"
   ]
  },
  {
   "cell_type": "code",
   "execution_count": 13,
   "metadata": {},
   "outputs": [
    {
     "data": {
      "text/plain": [
       "array([ 7.3543474e+15, -3.6771737e+15, -3.6771737e+15])"
      ]
     },
     "execution_count": 13,
     "metadata": {},
     "output_type": "execute_result"
    }
   ],
   "source": [
    "P = ([0,1/2,1/2],[1/2,0,1/2],[1/2,1/2,0])\n",
    "P = np.array(P)\n",
    "w, v = linalg.eig(P.transpose())\n",
    "v[:,0] /= v[:,0].sum()  # normalizes the eigenvector\n",
    "v[:,0]"
   ]
  },
  {
   "cell_type": "code",
   "execution_count": null,
   "metadata": {},
   "outputs": [],
   "source": []
  }
 ],
 "metadata": {
  "kernelspec": {
   "display_name": "Python 3",
   "language": "python",
   "name": "python3"
  },
  "language_info": {
   "codemirror_mode": {
    "name": "ipython",
    "version": 3
   },
   "file_extension": ".py",
   "mimetype": "text/x-python",
   "name": "python",
   "nbconvert_exporter": "python",
   "pygments_lexer": "ipython3",
   "version": "3.6.5"
  }
 },
 "nbformat": 4,
 "nbformat_minor": 2
}
