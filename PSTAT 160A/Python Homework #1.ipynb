{
 "cells": [
  {
   "cell_type": "code",
   "execution_count": 3,
   "metadata": {},
   "outputs": [],
   "source": [
    "import numpy as np\n",
    "import math\n",
    "import matplotlib.pyplot as plt"
   ]
  },
  {
   "cell_type": "code",
   "execution_count": 4,
   "metadata": {},
   "outputs": [],
   "source": [
    "def exponentialRV(seed, mean, n):\n",
    "    \n",
    "    np.random.seed(seed) # Seeds the generator\n",
    "    u = np.random.random_sample(n) # Returns an array of floats between 0 and 1\n",
    "    exponentialSample = -mean*np.log(1-u)\n",
    "    \n",
    "    return exponentialSample"
   ]
  },
  {
   "cell_type": "code",
   "execution_count": 5,
   "metadata": {},
   "outputs": [],
   "source": [
    "def poissonRV(seed, mean, n):\n",
    "   \n",
    "    np.random.seed(seed) # Seeds the generator\n",
    "     # Returns an array of floats between 0 and 1\n",
    "    poissonSample = []  \n",
    "\n",
    "    for i in range(n):\n",
    "        u = np.random.random_sample()\n",
    "        x = 0 \n",
    "        cdf = 0 # Probability Mass Function\n",
    "        while cdf <= u: # Inverse Distribution Function \n",
    "            cdf += math.exp(-mean)*(mean**x)/np.math.factorial(x)\n",
    "            x += 1\n",
    "        poissonSample.append(x-1)\n",
    "                 \n",
    "    return poissonSample"
   ]
  },
  {
   "cell_type": "code",
   "execution_count": 6,
   "metadata": {},
   "outputs": [],
   "source": [
    "def funnyDiceRV(seed, n):\n",
    "    \n",
    "    np.random.seed(seed) # Seeds the generator\n",
    "    u = np.random.random_sample(n) # Returns an array of floats between 0 and 1\n",
    "    funnyDiceRV = []\n",
    "    \n",
    "    for i in range(n):\n",
    "        if 0.0 < u[i] <= 0.1: \n",
    "            funnyDiceRV.append(1)\n",
    "        elif 0.1 < u[i] <= 0.2:\n",
    "            funnyDiceRV.append(2)\n",
    "        elif 0.2 < u[i] <= 0.3:\n",
    "            funnyDiceRV.append(3)\n",
    "        elif 0.3 < u[i] <= 0.4:\n",
    "            funnyDiceRV.append(4)\n",
    "        elif 0.4 < u[i] <= 0.5:\n",
    "            funnyDiceRV.append(5) \n",
    "        else:\n",
    "            funnyDiceRV.append(6) # Appends 6 to the list if u[i] is any number between 0.5 to 1\n",
    "    \n",
    "    return funnyDiceRV"
   ]
  },
  {
   "cell_type": "code",
   "execution_count": 7,
   "metadata": {},
   "outputs": [
    {
     "name": "stdout",
     "output_type": "stream",
     "text": [
      "[1.07921167e+00 2.54825051e+00 2.28762717e-04 7.20025510e-01\n",
      " 3.17419190e-01]\n",
      "[2, 3, 0, 1, 1]\n",
      "[5, 6, 1, 4, 2]\n"
     ]
    }
   ],
   "source": [
    "print(exponentialRV(1, 2, 5)) \n",
    "print(poissonRV(1, 2,5))\n",
    "print(funnyDiceRV(1, 5))"
   ]
  },
  {
   "cell_type": "code",
   "execution_count": 8,
   "metadata": {},
   "outputs": [
    {
     "data": {
      "image/png": "[encoded data removed]",
      "text/plain": [
       "<Figure size 432x288 with 1 Axes>"
      ]
     },
     "metadata": {},
     "output_type": "display_data"
    },
    {
     "data": {
      "image/png": "[encoded data removed]",
      "text/plain": [
       "<Figure size 432x288 with 1 Axes>"
      ]
     },
     "metadata": {},
     "output_type": "display_data"
    },
    {
     "data": {
      "image/png": "[encoded data removed]",
      "text/plain": [
       "<Figure size 432x288 with 1 Axes>"
      ]
     },
     "metadata": {},
     "output_type": "display_data"
    }
   ],
   "source": [
    "numberSimulations=10000\n",
    "exponentialSamples=exponentialRV(1, 2,numberSimulations)\n",
    "poissonSamples=poissonRV(1, 4,numberSimulations)\n",
    "funnyDiceSamples=funnyDiceRV(1, numberSimulations)\n",
    "\n",
    "#np.histogram(exponentialSamples)\n",
    "plt.hist(exponentialSamples, bins='auto')\n",
    "plt.title(\"Histogram Exponential\")\n",
    "plt.show()\n",
    "plt.hist(poissonSamples, bins='auto')\n",
    "plt.title(\"Histogram Poisson\")\n",
    "plt.show()\n",
    "plt.hist(funnyDiceSamples, bins='auto')\n",
    "plt.title(\"Histogram Funny Dice\")\n",
    "plt.show()"
   ]
  },
  {
   "cell_type": "code",
   "execution_count": 9,
   "metadata": {},
   "outputs": [],
   "source": [
    "# Empirical Mean\n",
    "def empirical_mean(exp_RV):\n",
    "    \n",
    "    summation = 0 \n",
    "    length = len(exp_RV)\n",
    "    \n",
    "    for i in range(length):\n",
    "        summation += exp_RV[i] \n",
    "    \n",
    "    return summation/length   "
   ]
  },
  {
   "cell_type": "code",
   "execution_count": 10,
   "metadata": {},
   "outputs": [],
   "source": [
    "# Empirical Variance\n",
    "def empirical_var(exp_RV, u): \n",
    "    \n",
    "    summation = 0 \n",
    "    length = len(exp_RV)\n",
    "    \n",
    "    for i in exp_RV: \n",
    "        summation += (i - u)**2 \n",
    "        \n",
    "    return summation/length"
   ]
  },
  {
   "cell_type": "code",
   "execution_count": 11,
   "metadata": {},
   "outputs": [
    {
     "name": "stdout",
     "output_type": "stream",
     "text": [
      "1.9770938809848242\n",
      "3.8485810293246394\n"
     ]
    }
   ],
   "source": [
    "print(empirical_mean(exponentialSamples))\n",
    "u = empirical_mean(exponentialSamples) \n",
    "print(empirical_var(exponentialSamples,u))\n",
    "# Yes, my results were in line with what I expected it to be because I assumed the empirical mean to be approximately the same value as given mean. \n",
    "# Additionally, the calculated variance also was approximately around what I expected because variance is normally the square of the mean (lambda) for exponential RV. "
   ]
  }
 ],
 "metadata": {
  "kernelspec": {
   "display_name": "Python 3",
   "language": "python",
   "name": "python3"
  },
  "language_info": {
   "codemirror_mode": {
    "name": "ipython",
    "version": 3
   },
   "file_extension": ".py",
   "mimetype": "text/x-python",
   "name": "python",
   "nbconvert_exporter": "python",
   "pygments_lexer": "ipython3",
   "version": "3.6.5"
  }
 },
 "nbformat": 4,
 "nbformat_minor": 2
}
