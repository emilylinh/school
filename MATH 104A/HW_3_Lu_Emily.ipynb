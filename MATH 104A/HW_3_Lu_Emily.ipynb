{
 "cells": [
  {
   "cell_type": "markdown",
   "metadata": {},
   "source": [
    "## <center> MATH 104A - Homework 3 \n",
    "#### <center>By Emily Lu "
   ]
  },
  {
   "cell_type": "markdown",
   "metadata": {},
   "source": [
    "(Section 2.1)\n",
    "\n"
   ]
  },
  {
   "cell_type": "markdown",
   "metadata": {},
   "source": [
    "1\\. Use the Bisection method to find $p_3$ for $f(x) = \\sqrt(x) -\\text{cos} x=0$ on [0,1]. "
   ]
  },
  {
   "cell_type": "code",
   "execution_count": 1,
   "metadata": {},
   "outputs": [
    {
     "name": "stdout",
     "output_type": "stream",
     "text": [
      "p3 = 0.625\n"
     ]
    }
   ],
   "source": [
    "from math import * \n",
    "           \n",
    "def bisection(n, a, b): \n",
    "    \n",
    "    for i in range(n):\n",
    "        p = (a+b)/2 \n",
    "        fp = f(p)\n",
    "        if fp == 0: \n",
    "            break \n",
    "        elif f(a)*f(p) > 0:\n",
    "            a = p \n",
    "        else: \n",
    "            b = p \n",
    "            \n",
    "    return p \n",
    "\n",
    "f = lambda x: sqrt(x) - cos(x)\n",
    "print(\"p3 =\", bisection(3, 0, 1))           "
   ]
  },
  {
   "cell_type": "markdown",
   "metadata": {},
   "source": [
    "4\\. Use the Bisection method to find solutions accurate to within $10^{-2}$ for $x^4-2x^3-4x^2+4x+4=0$ on each interval: \n",
    "\n",
    "$\\;\\;\\;\\;$a. [-2, -1]$\\;\\;\\;\\;\\;\\;\\;\\;$b. [0, 2]$\\;\\;\\;\\;\\;\\;\\;\\;$c. [2, 3]$\\;\\;\\;\\;\\;\\;\\;\\;$d. [-1, 0] "
   ]
  },
  {
   "cell_type": "code",
   "execution_count": 2,
   "metadata": {
    "scrolled": true
   },
   "outputs": [
    {
     "name": "stdout",
     "output_type": "stream",
     "text": [
      "Solution for a. is p7 = -1.4140625\n",
      "Solution for b. is  p8 = 1.4140625\n",
      "Solution for c. is  p7 = 2.7265625\n",
      "Solution for d. is  p7 = -0.7265625\n"
     ]
    }
   ],
   "source": [
    "def Bisection(a, b, TOL):\n",
    "    n = 1\n",
    "    while True:\n",
    "        p = (a+b)/2\n",
    "        if f(p) == 0 or (b-a)/2 < TOL:\n",
    "            break\n",
    "        elif f(p)*f(a) > 0:\n",
    "            a = p \n",
    "        else:\n",
    "            b = p \n",
    "        n += 1 \n",
    "    return ['p'+str(n), p] \n",
    "\n",
    "def sol(a, b, TOL):\n",
    "    s = Bisection(a, b, TOL)\n",
    "    return(s[0] + ' = ' + str(s[1]))\n",
    "\n",
    "f = lambda x: x**4 - 2*x**3 - 4*x**2 + 4*x + 4\n",
    "\n",
    "print('Solution for a. is', sol(-2, -1, 0.01))\n",
    "print('Solution for b. is ', sol(0, 2, 0.01))\n",
    "print('Solution for c. is ', sol(2, 3, 0.01))\n",
    "print('Solution for d. is ', sol(-1, 0, 0.01))"
   ]
  },
  {
   "cell_type": "markdown",
   "metadata": {},
   "source": [
    "6\\. Use the Bisection method to find solutions, accurate to within $10^{-5}$ for the following problems. "
   ]
  },
  {
   "cell_type": "markdown",
   "metadata": {},
   "source": [
    "$\\;\\;\\;\\;$ b. $2x + 3\\text{cos}x - e^x = 0$ for $0\\leq x \\leq 1$\n",
    "\n"
   ]
  },
  {
   "cell_type": "code",
   "execution_count": 3,
   "metadata": {},
   "outputs": [
    {
     "name": "stdout",
     "output_type": "stream",
     "text": [
      "Solution for b. is  p17 = 0.9999923706054688\n"
     ]
    }
   ],
   "source": [
    "f = lambda x: 2*x + 3*cos(x) - e**x \n",
    "\n",
    "print('Solution for b. is ', sol(0, 1, 10**(-5)))"
   ]
  },
  {
   "cell_type": "markdown",
   "metadata": {},
   "source": [
    "$\\;\\;\\;\\;$ c. $x^2 -4x + 4 - \\text{ln}x = 0$ for $1\\leq x \\leq 2$ and $2\\leq x \\leq 4$ "
   ]
  },
  {
   "cell_type": "code",
   "execution_count": 4,
   "metadata": {},
   "outputs": [
    {
     "name": "stdout",
     "output_type": "stream",
     "text": [
      "Solution for 1 <= x<= 2 is p17 = 1.4123916625976562\n",
      "Solution for 2 <= x<= 4 is p18 = 3.0571060180664062\n"
     ]
    }
   ],
   "source": [
    "f = lambda x: x**2 - 4*x + 4 - log(x)\n",
    "\n",
    "print('Solution for 1 <= x<= 2 is', sol(1, 2, 10**(-5)))\n",
    "print('Solution for 2 <= x<= 4 is', sol(2, 4, 10**(-5)))"
   ]
  },
  {
   "cell_type": "markdown",
   "metadata": {},
   "source": [
    "11\\. Let $f(x) = (x+2)(x+1)x(x-1)^3(x-2)$. To which zero of $f$ does the Bisection method converge when applied on the following intervals? "
   ]
  },
  {
   "cell_type": "code",
   "execution_count": 5,
   "metadata": {},
   "outputs": [],
   "source": [
    "f = lambda x: (x+2) * (x+1) * x * (x-1)**3 * (x-2)"
   ]
  },
  {
   "cell_type": "markdown",
   "metadata": {},
   "source": [
    "$\\;\\;\\;\\;$ b. $[-2.5, \\; 3]$\n",
    "\n"
   ]
  },
  {
   "cell_type": "code",
   "execution_count": 6,
   "metadata": {},
   "outputs": [
    {
     "name": "stdout",
     "output_type": "stream",
     "text": [
      "The Bisection method converges to zero -2.0\n"
     ]
    }
   ],
   "source": [
    "print('The Bisection method converges to zero', Bisection(-2.5, 3, 0)[1])"
   ]
  },
  {
   "cell_type": "markdown",
   "metadata": {},
   "source": [
    "$\\;\\;\\;\\;$ d. $[-1.5, \\; 1.75]$ "
   ]
  },
  {
   "cell_type": "code",
   "execution_count": 7,
   "metadata": {},
   "outputs": [
    {
     "name": "stdout",
     "output_type": "stream",
     "text": [
      "The Bisection method converges to zero 1.0\n"
     ]
    }
   ],
   "source": [
    "print('The Bisection method converges to zero', Bisection(-1.5, 1.75, 0)[1])"
   ]
  },
  {
   "cell_type": "markdown",
   "metadata": {},
   "source": [
    "15\\. A trough of length $L$ has a cross section in the shape of a semicircle with radius $r$. (See the accompanying figure.) When filled with water to within a distance $h$, the volume $V$ of water\n",
    "is \n",
    "$$\\begin{eqnarray} V = L [0.5 \\pi r^2 - r^2 \\text{arcsin}(h/r) - h(r^2 - h^2)^{1/2}]. \\end{eqnarray}$$ Suppose $L=10\\text{ft}$, $r = 1\\text{ft}$ , and $V = 12.4 \\text{ft}^3$. Find the depth of the water in the trough to within $0.01 \\text{ft}$.  "
   ]
  },
  {
   "cell_type": "markdown",
   "metadata": {},
   "source": [
    "$\\;\\;\\;\\;$_Sol._ $$\\begin{eqnarray} &V& = L [0.5 \\pi r^2 - r^2 \\text{arcsin}(h/r) - h(r^2 - h^2)^{1/2}] \\\\ &\\Longleftrightarrow& 12.4 - 10[0.5 \\pi * 1^2 - 1^2 \\arcsin (h/1) - h(1^2 - h^2)^{1/2}] = 0 \\end{eqnarray}$$ Let $f(h) = 12.4 - 10[0.5\\pi - \\arcsin (h) - h(1 - h^2)^{1/2}]$. Given $f(0) \\approx -3.308$ and $f(1) = 12.4$, the Intermediate Value Theorem 1.11 implies there a number $p$ exists in (0, 1) with $f(p) = 0$. Applying the Bisection method below, we get the solution below.  "
   ]
  },
  {
   "cell_type": "code",
   "execution_count": 8,
   "metadata": {},
   "outputs": [
    {
     "name": "stdout",
     "output_type": "stream",
     "text": [
      "The depth of the water in the trough to within 0.01ft is approximately 0.8359375\n"
     ]
    }
   ],
   "source": [
    "f = lambda h: 12.4 - 10 * (0.5*pi - asin(h) - h*(1 - h**2)**(1/2))\n",
    "\n",
    "print('The depth of the water in the trough to within 0.01ft is approximately', \n",
    "     1-Bisection(0, 1, 0.01)[1])"
   ]
  },
  {
   "cell_type": "markdown",
   "metadata": {},
   "source": [
    "(Section 2.2) \n"
   ]
  },
  {
   "cell_type": "markdown",
   "metadata": {},
   "source": [
    "1\\. Use algebraic manipulation to show that each of the following functions has a fixed point at $p$ precisely when $f(p) = 0$, where $f(x) = x^4 + 2x^2 - x -3$. \n",
    "\n"
   ]
  },
  {
   "cell_type": "markdown",
   "metadata": {},
   "source": [
    "$\\;\\;\\;\\;$ b. $g_2(x) = (\\frac{x + 3 - x^4}{2})^{1/2}$\n",
    "\n",
    "\n",
    "\n"
   ]
  },
  {
   "cell_type": "markdown",
   "metadata": {},
   "source": [
    "$\\;\\;\\;\\;$_Sol._ We have a fixed point p at $g_2(p) = p$ if and only if for $g_2$,  $$\\begin{eqnarray} p = (\\frac{p + 3 - p^4}{2})^{1/2} &\\Longleftrightarrow& 2p^2 = p + 3 - p^4 \\\\ &\\Longleftrightarrow& p^4 + 2p^2 - x - 3 = 0 \\\\ &\\Longleftrightarrow& f(p) = 0. \\end{eqnarray}$$"
   ]
  },
  {
   "cell_type": "markdown",
   "metadata": {},
   "source": [
    "$\\;\\;\\;\\;$ d. $g_4(x) = \\frac{3x^4 + 2x^2 + 3}{4x^3 + 4x -1}$"
   ]
  },
  {
   "cell_type": "markdown",
   "metadata": {},
   "source": [
    "$\\;\\;\\;\\;$_Sol._ We have a fixed point p at $g_4(p) = p$ if and only if for $g_4$,  $$\\begin{eqnarray} p = \\frac{3p^4 + 2p^2 + 3}{4p^3 + 4p -1} &\\Longleftrightarrow& p(4p^3 + 4p -1) = 3p^4 + 2p^2 +  3 \\\\ &\\Longleftrightarrow& 4p^4 + 4p^2 - p - 3p^4 - 2p^2 - 3 = 0 \\\\ &\\Longleftrightarrow& p^4 + 2p^2 - p - 3 = 0\\\\ &\\Longleftrightarrow& f(p) = 0. \\end{eqnarray}$$"
   ]
  },
  {
   "cell_type": "markdown",
   "metadata": {},
   "source": [
    "3\\. Let $f(x) = x^3 - 2x +1$. To solve $f(x) = 0$, the following four fixed-point problems are proposed. Derive each fixed point method and compute $p_1, \\; p_2, \\;, p_3, \\; p_4$. Which methods seem to be appropriate? \n",
    "\n"
   ]
  },
  {
   "cell_type": "markdown",
   "metadata": {},
   "source": [
    "$\\;\\;\\;\\;$ a. $x = \\frac{1}{2}(x^3 +1), \\; p_0 = \\frac{1}{2}$\n",
    "\n"
   ]
  },
  {
   "cell_type": "markdown",
   "metadata": {},
   "source": [
    "$\\;\\;\\;\\;$_Sol._ To derive the fixed-point form of $x = \\frac{1}{2}(x^3 +1)$, $$\\begin{eqnarray} x^3 - 2x +1 = 0 &\\Longleftrightarrow& x^3 + 1 = 2x &\\Longleftrightarrow& x = \\frac{1}{2}(x^3 +1) \\end{eqnarray}$$"
   ]
  },
  {
   "cell_type": "code",
   "execution_count": 9,
   "metadata": {},
   "outputs": [
    {
     "name": "stdout",
     "output_type": "stream",
     "text": [
      "p1 = 0.5625\n",
      "p2 = 0.5889892578125\n",
      "p3 = 0.602162644566306\n",
      "p4 = 0.6091720424515518\n"
     ]
    }
   ],
   "source": [
    "g = lambda x: 1/2 * (x**3 + 1)\n",
    "\n",
    "print('p1 =', g(1/2))\n",
    "print('p2 =', g(g(1/2)))\n",
    "print('p3 =', g(g(g(1/2))))\n",
    "print('p4 =', g(g(g(g(1/2)))))"
   ]
  },
  {
   "cell_type": "markdown",
   "metadata": {},
   "source": [
    "$\\;\\;\\;\\;$ d. $x = - \\sqrt[3]{1-2x}, \\; p_0 = \\frac{1}{2}$"
   ]
  },
  {
   "cell_type": "markdown",
   "metadata": {},
   "source": [
    "$\\;\\;\\;\\;$_Sol._ To derive the fixed-point form of $x = \\frac{1}{2}(x^3 +1)$, $$\\begin{eqnarray} x^3 - 2x +1 = 0 &\\Longleftrightarrow& -x^3 = 1 - 2x &\\Longleftrightarrow& -x = \\sqrt[3]{1-2x} &\\Longleftrightarrow& x = - \\sqrt[3]{1-2x} \\end{eqnarray}.$$"
   ]
  },
  {
   "cell_type": "code",
   "execution_count": 10,
   "metadata": {},
   "outputs": [
    {
     "name": "stdout",
     "output_type": "stream",
     "text": [
      "p1 = -0.0\n",
      "p2 = -1.0\n",
      "p3 = -1.4422495703074083\n",
      "p4 = -1.5719727376444834\n"
     ]
    }
   ],
   "source": [
    "g = lambda x: -(1 - 2*x)**(1/3)\n",
    "\n",
    "print('p1 =', g(1/2))\n",
    "print('p2 =', g(g(1/2)))\n",
    "print('p3 =', g(g(g(1/2))))\n",
    "print('p4 =', g(g(g(g(1/2)))))"
   ]
  },
  {
   "cell_type": "markdown",
   "metadata": {},
   "source": [
    "4\\. Let $f(x) = x^4 + 3x^2 - 2$. To solve $f(x) = 0$, the following four fixed-point problems are proposed. Derive each fixed point method and compute $p_1, \\;, p_2, \\;, p_3, \\; p_4$. Which methods seem to be appropriate? \n",
    "\n"
   ]
  },
  {
   "cell_type": "markdown",
   "metadata": {},
   "source": [
    "$\\;\\;\\;\\;$ c. $x = \\frac{2-x^4}{3x}, \\; p_0 = 1$ \n",
    "\n"
   ]
  },
  {
   "cell_type": "markdown",
   "metadata": {},
   "source": [
    "$\\;\\;\\;\\;$_Sol._ To derive the fixed-point form of $x = \\frac{2-x^4}{3x}$, $$\\begin{eqnarray} x^4 + 3x^2 - 2 = 0 &\\Longleftrightarrow& 3x^2 = 2 - x^4 &\\Longleftrightarrow& x = \\frac{2-x^4}{3x}\\end{eqnarray}.$$"
   ]
  },
  {
   "cell_type": "code",
   "execution_count": 11,
   "metadata": {},
   "outputs": [
    {
     "name": "stdout",
     "output_type": "stream",
     "text": [
      "p1 = 0.3333333333333333\n",
      "p2 = 1.9876543209876543\n",
      "p3 = -2.2821844282642862\n",
      "p4 = 3.6700326270435832\n"
     ]
    }
   ],
   "source": [
    "g = lambda x: (2-x**4)/(3*x)\n",
    "\n",
    "print('p1 =', g(1))\n",
    "print('p2 =', g(g(1)))\n",
    "print('p3 =', g(g(g(1))))\n",
    "print('p4 =', g(g(g(g(1)))))"
   ]
  },
  {
   "cell_type": "markdown",
   "metadata": {},
   "source": [
    "$\\;\\;\\;\\;$ d. $x = \\sqrt[3]{\\frac{2-3x^2}{x}}, \\; p_0 = 1$ "
   ]
  },
  {
   "cell_type": "markdown",
   "metadata": {},
   "source": [
    "$\\;\\;\\;\\;$_Sol._ To derive the fixed-point form of $x = \\sqrt[3]{\\frac{2-3x^2}{x}}$, $$\\begin{eqnarray} x^4 + 3x^2 - 2 = 0 &\\Longleftrightarrow& x^4 = 2 - 3x^2 &\\Longleftrightarrow& x^3 = \\frac{2-3x^2}{x} &\\Longleftrightarrow& x = \\sqrt[3]{\\frac{2-3x^2}{x}} \\end{eqnarray}.$$"
   ]
  },
  {
   "cell_type": "code",
   "execution_count": 12,
   "metadata": {},
   "outputs": [
    {
     "name": "stdout",
     "output_type": "stream",
     "text": [
      "p1 = (0.5000000000000001+0.8660254037844386j)\n",
      "p2 = (1.3823440686876596-0.8703599970621304j)\n",
      "p3 = (1.177430536297548+1.1588058224143032j)\n",
      "p4 = (1.3062628653879496-1.1180184845227987j)\n"
     ]
    }
   ],
   "source": [
    "g = lambda x: ((2 - 3*x**2)/x)**(1/3)\n",
    "\n",
    "print('p1 =', g(1))\n",
    "print('p2 =', g(g(1)))\n",
    "print('p3 =', g(g(g(1))))\n",
    "print('p4 =', g(g(g(g(1)))))"
   ]
  },
  {
   "cell_type": "markdown",
   "metadata": {},
   "source": [
    "5\\. The following four methods are proposed to compute $21^{1/3}$. Rank them in order, based on their apparent speed of convergence, assuming $p_0 = 1$. \n",
    "\n"
   ]
  },
  {
   "cell_type": "markdown",
   "metadata": {},
   "source": [
    "$\\;\\;\\;\\;$ a. $p_n = \\frac{20p_{n-1} + 21/p_{n-1}^2}{21}$"
   ]
  },
  {
   "cell_type": "markdown",
   "metadata": {},
   "source": [
    "$\\;\\;\\;\\;$_Sol._ Let $g_1(x) = \\frac{20x + 21/x^2}{21}$, then $|g_1'(x)| = |\\frac{20}{21} + \\frac{2}{x^3}| \\leq |g_1'(21^{1/3})| = \\frac{20}{21} + \\frac{2}{21} = \\frac{6}{7}$. "
   ]
  },
  {
   "cell_type": "markdown",
   "metadata": {},
   "source": [
    "$\\;\\;\\;\\;$ b. $p_n = p_{n-1} - \\frac{p_{n-1}^3 - 21}{3p_{n-1}^2}$"
   ]
  },
  {
   "cell_type": "markdown",
   "metadata": {},
   "source": [
    "$\\;\\;\\;\\;$_Sol._ Let $g_2(x) = x - \\frac{x^3 - 21}{3x^2},$ then $|g_2'(x)|=|\\frac{2}{3} - \\frac{14}{x^3} = \\frac{2}{3} - \\frac{14}{21} = 0.$"
   ]
  },
  {
   "cell_type": "markdown",
   "metadata": {},
   "source": [
    "7\\. Use a fixed-point iteration method to determine a solution accurate to within $10^{-2}$ for $x^4-3x^2-3=0$ on $[1,\\;2]$. Use $p_0 = 1$. "
   ]
  },
  {
   "cell_type": "markdown",
   "metadata": {},
   "source": [
    "$\\;\\;\\;\\;$_Sol._ Let $g(x) = (3+3x^2)^{1/4}$, then we have that: "
   ]
  },
  {
   "cell_type": "code",
   "execution_count": 13,
   "metadata": {},
   "outputs": [
    {
     "name": "stdout",
     "output_type": "stream",
     "text": [
      "p6 = 1.9433169298986768\n"
     ]
    }
   ],
   "source": [
    "g = lambda x: (3 + 3*x**2)**(1/4)\n",
    "\n",
    "def fixed_point(p0, TOL, N0):\n",
    "    i = 1\n",
    "    while i <= N0:\n",
    "        p = g(p0)\n",
    "        if abs(p-p0) < TOL:\n",
    "            return ('p'+str(i)+' = '+str(p))\n",
    "        else:\n",
    "            i += 1\n",
    "            p0 = p\n",
    "        \n",
    "print(fixed_point(1, 0.01, 10))"
   ]
  },
  {
   "cell_type": "markdown",
   "metadata": {},
   "source": [
    "23\\. a. Use Theorem 2.4 to show that the sequence defined by $$x_n = \\frac{1}{2} x_{n-1} + \\frac{1}{x_{n-1}}, \\; \\text{for} \\; n\\geq1,$$ converges to $\\sqrt{2}$ whenever $x_0 > \\sqrt{2}$. \n"
   ]
  },
  {
   "cell_type": "markdown",
   "metadata": {},
   "source": [
    "$\\;\\;\\;\\;$ _Sol._ Let $x_0 > \\sqrt{2}$, then we have $x_1 - \\sqrt{2} = g(x_0) - g(x_1) = g'(\\epsilon)(x_0 - \\sqrt{2})$ where $\\sqrt{2} < \\epsilon  < x$ so $x_1 - \\sqrt{2} > 0 \\Longrightarrow x_1 > \\sqrt{2}$. Additonally, $x_1 = \\frac{x_0}{2} + \\frac{1}{x_0} < \\frac{x_0}{2} + \\frac{1}{\\sqrt{2}} = \\frac{x_0 + \\sqrt{2}}{2}$ and $\\sqrt{2} < x_1 < x_0$. Then by inductive argument, we have $\\sqrt{2} < x_{m+1} < x_m < ... < x_0$. $x_m$ is a decreasing sequence with a lower bound and it must converge. Let $p=\\lim_{m \\to \\infty}$, then $p = \\lim_{m\\to \\infty} \\Big ( \\frac{x_{m-1}}{2} + \\frac{1}{x_{m-1}} \\Big ) = \\frac{p}{2} + \\frac{1}{p}$ which implies $p \\pm \\sqrt{2}$. Since $x_m > \\sqrt{2}$ for all m, then $\\lim_{m \\to \\infty} x_m = \\sqrt{2}$. \n",
    "\n"
   ]
  },
  {
   "cell_type": "markdown",
   "metadata": {},
   "source": [
    "$\\;\\;\\;\\;$ b. Use the fact that $0<(x_0 - \\sqrt{2})^2$ whenever $x_0 \\neq \\sqrt{2}$ to show that if $0<x_0<\\sqrt{2}$ then $x_1 > \\sqrt{2}$. \n"
   ]
  },
  {
   "cell_type": "markdown",
   "metadata": {},
   "source": [
    "$\\;\\;\\;\\;$ _Sol._ $$\\begin{eqnarray} 0<(x_0 - \\sqrt{2})^2 &=& x_0^2 - 2x_0 \\sqrt{2} + 2 \\\\ &\\Longleftrightarrow& 2x_0 \\sqrt{2} < x_0^2 + 2 \\\\ &\\Longleftrightarrow& \\sqrt{2} < \\frac{x_0}{2} + \\frac{1}{x_0} = x_1 \\\\ &\\Longleftrightarrow& x_1 > \\sqrt{2} \\end{eqnarray}$$ "
   ]
  },
  {
   "cell_type": "markdown",
   "metadata": {},
   "source": [
    "$\\;\\;\\;\\;$ c. Use the results of part (a) and (b) to show that the sequence in (a) converges to $\\sqrt{2}$ whenver $x_0 > 0$. "
   ]
  },
  {
   "cell_type": "markdown",
   "metadata": {},
   "source": [
    "$\\;\\;\\;\\;$ _Sol._ For the case that $0<x_0<\\sqrt{2}$ which implies $\\sqrt{2} < x_1$ by part b,\n",
    "$0 < x_0 < \\sqrt{2} < x_{m+1} < x_m < ... < x_1$ and $\\lim_{m\\to \\infty}x_m = \\sqrt{2}$. For $x_0 = \\sqrt{2}$ which implies $x_m = \\sqrt{2}$ for all $m$, $\\lim_{m \\to \\infty}x_m = \\sqrt{2}$. For $x_0 > \\sqrt{2}$, part a implies that $\\lim_{m \\to \\infty}x_m = \\sqrt{2}$.  "
   ]
  },
  {
   "cell_type": "markdown",
   "metadata": {},
   "source": [
    "(Section 2.3)\n",
    "\n"
   ]
  },
  {
   "cell_type": "markdown",
   "metadata": {},
   "source": [
    "1\\. Let $f(x) = x^2 - 6$ and $p_0 = 1$. Use Newton's method ot find $p_2$. "
   ]
  },
  {
   "cell_type": "code",
   "execution_count": 14,
   "metadata": {},
   "outputs": [
    {
     "name": "stdout",
     "output_type": "stream",
     "text": [
      "p2 = 2.607142857142857\n"
     ]
    }
   ],
   "source": [
    "f = lambda x: x**2 - 6\n",
    "f1 = lambda x: 2*x\n",
    "\n",
    "p1 = 1-f(1)/f1(1)\n",
    "print('p2 =', p1 - f(p1)/f1(p1))"
   ]
  },
  {
   "cell_type": "markdown",
   "metadata": {},
   "source": [
    "3\\. Let $f(x) = x^2 - 6$. With $p_0 = 3$ and $p_1 = 2$, find $p_3$. "
   ]
  },
  {
   "cell_type": "markdown",
   "metadata": {},
   "source": [
    "$\\;\\;\\;\\;$ a. Use the Secant method. "
   ]
  },
  {
   "cell_type": "code",
   "execution_count": 15,
   "metadata": {},
   "outputs": [
    {
     "name": "stdout",
     "output_type": "stream",
     "text": [
      "p3 = 2.4545454545454546\n"
     ]
    }
   ],
   "source": [
    "def secant(p0, p1, TOL, N0):\n",
    "    i = 2\n",
    "    while i <= N0:\n",
    "        p = p1 - f(p1)*(p1 - p0)/(f(p1)-f(p0))\n",
    "        if abs(p - p1) < TOL:\n",
    "            break\n",
    "        i += 1 \n",
    "        p0 = p1 \n",
    "        p1 = p \n",
    "    \n",
    "    return p \n",
    "        \n",
    "\n",
    "f = lambda x: x**2 - 6\n",
    "print('p3 =', secant(3, 2, 0.001, 3))"
   ]
  },
  {
   "cell_type": "markdown",
   "metadata": {},
   "source": [
    "$\\;\\;\\;\\;$ b. Use the method of False Position. "
   ]
  },
  {
   "cell_type": "code",
   "execution_count": 16,
   "metadata": {},
   "outputs": [
    {
     "name": "stdout",
     "output_type": "stream",
     "text": [
      "p3 = 2.444444444444444\n"
     ]
    }
   ],
   "source": [
    "def false_pos(p0, p1, TOL, N0):\n",
    "    i = 2\n",
    "    while i <= N0:\n",
    "        p = p1 - f(p1)*(p1 - p0)/(f(p1) - f(p0))\n",
    "        if abs(p-p1) < TOL:\n",
    "            break \n",
    "        if f(p)*f(p1) < 0:\n",
    "            p0 = p1 \n",
    "        i += 1\n",
    "        p1 = p \n",
    "    return p\n",
    "            \n",
    "print('p3 =', false_pos(3, 2, 0.001, 3))   "
   ]
  },
  {
   "cell_type": "markdown",
   "metadata": {},
   "source": [
    "$\\;\\;\\;\\;$ c. Which of part (a) or (b) is closer to $\\sqrt{6}$? \n",
    "\n",
    "$\\;\\;\\;\\;$_Sol._ Part(b) is closer to $\\sqrt{6}$. "
   ]
  },
  {
   "cell_type": "markdown",
   "metadata": {},
   "source": [
    "5\\. Use Newton's method to find solutions accurate to within $10^{-4}$ for the following problems. "
   ]
  },
  {
   "cell_type": "code",
   "execution_count": 17,
   "metadata": {},
   "outputs": [],
   "source": [
    "def newton(p0, TOL, N0):\n",
    "    i = 1\n",
    "    while i <= N0:\n",
    "        p = p0 - f(p0)/f1(p0)\n",
    "        if abs(p-p0) < TOL:\n",
    "            return ('p'+str(i)+' = '+str(p)) \n",
    "            break\n",
    "        else:\n",
    "            i += 1\n",
    "            p0 = p "
   ]
  },
  {
   "cell_type": "markdown",
   "metadata": {},
   "source": [
    "$\\;\\;\\;\\;$ a. $x^3 - 2x^2 - 5 = 0, \\; [1,\\; 4]$ \n",
    "\n"
   ]
  },
  {
   "cell_type": "code",
   "execution_count": 18,
   "metadata": {},
   "outputs": [
    {
     "name": "stdout",
     "output_type": "stream",
     "text": [
      "p5 = 2.690647448517619\n"
     ]
    }
   ],
   "source": [
    "f = lambda x: x**3 - 2*x**2 - 5\n",
    "f1 = lambda x: 3*x**2 - 4*x \n",
    "\n",
    "print(newton(2, 0.001, 10))"
   ]
  },
  {
   "cell_type": "markdown",
   "metadata": {},
   "source": [
    "$\\;\\;\\;\\;$ b. $x^3 + 3x^2 -1 = 0, \\; [-3, \\; -2]$ \n"
   ]
  },
  {
   "cell_type": "code",
   "execution_count": 19,
   "metadata": {},
   "outputs": [
    {
     "name": "stdout",
     "output_type": "stream",
     "text": [
      "p3 = -2.8793852448366706\n"
     ]
    }
   ],
   "source": [
    "f = lambda x: x**3 + 3*x**2 - 1\n",
    "f1 = lambda x: 3*x**2 + 6*x\n",
    "\n",
    "print(newton(-3, 0.001, 10))"
   ]
  },
  {
   "cell_type": "markdown",
   "metadata": {},
   "source": [
    "$\\;\\;\\;\\;$ c. $x-\\cos x = 0, \\; [0, \\; \\pi/2]$"
   ]
  },
  {
   "cell_type": "code",
   "execution_count": 20,
   "metadata": {},
   "outputs": [
    {
     "name": "stdout",
     "output_type": "stream",
     "text": [
      "p4 = 0.7390851333852839\n"
     ]
    }
   ],
   "source": [
    "f = lambda x: x - cos(x)\n",
    "f1 = lambda x: 1 + sin(x)\n",
    "\n",
    "print(newton(0, 0.001, 10))"
   ]
  },
  {
   "cell_type": "markdown",
   "metadata": {},
   "source": [
    "$\\;\\;\\;\\;$ d. $x - 0.8 -0.2\\sin x = 0, \\; [0, \\;\\pi/2]$"
   ]
  },
  {
   "cell_type": "code",
   "execution_count": 21,
   "metadata": {},
   "outputs": [
    {
     "name": "stdout",
     "output_type": "stream",
     "text": [
      "p3 = 0.9643338890103157\n"
     ]
    }
   ],
   "source": [
    "f = lambda x: x - 0.8 - 0.2*sin(x)\n",
    "f1 = lambda x: 1 - 0.2*cos(x)\n",
    "\n",
    "print(newton(0, 0.001, 10))"
   ]
  },
  {
   "cell_type": "markdown",
   "metadata": {},
   "source": [
    "29\\. In the design of all-terrain vehicles, it is necessary to consider the failure ofthe vehicle when attempting to negotiate two types of obstacles. One type of failure is called _hang-up failure_ and occurs when the vehicle attempts to cross an obstacle that causes the bottom of the vehicle to touch the ground. The other type of failure is called _nose-in failure_ and occurs when the vehicle descends into a ditch and its nose touches the ground. \n",
    "\n",
    "The accompanying figure, adapted from [Bek], shows the components associated with the nose-in failure of a vehicle. In that reference, it is shown that the maximum angle $\\alpha$ that can be negotiated by a vehicle when $\\beta$ is the maximum angle at which hang-up failure does _not_ occur satisfies the equation $$A\\sin\\alpha\\cos\\alpha + B \\sin^2\\alpha - C \\cos\\alpha - E\\sin\\alpha = 0$$ where $$ A = l\\sin\\beta_1, \\; B = l\\cos\\beta_1, \\; C = (h+0.5D)\\sin\\beta_1 - 0.5D\\tan\\beta_1,$$ and $E = (h+0.5D)\\cos\\beta_1 - 0.5D$. "
   ]
  },
  {
   "cell_type": "markdown",
   "metadata": {},
   "source": [
    "$\\;\\;\\;\\;$ a. It is stated that when $l = 89$in., $h = 49$in., $D = 55$ in., and $\\beta_1 = 11.5^{\\circ}$, angle $\\alpha$ is approximately $33^{\\circ}$. Verify this result. "
   ]
  },
  {
   "cell_type": "markdown",
   "metadata": {},
   "source": [
    "$\\;\\;\\;\\;$_Sol._ Differentiating the hang-up failure criteria with respect to $\\alpha$ gives us $A[\\cos^2 \\alpha - \\sin^2 \\alpha] + B[2\\sin \\alpha \\cos \\alpha] + C \\sin \\alpha - E \\cos \\alpha$. Solving for $A$ and $B$, we get $A = 17.74$ and $B = 87.21$ which gives us that $C = 9.66$ and $E = 47.47$. With these values, we get that $$A\\sin\\alpha\\cos\\alpha + B \\sin^2\\alpha - C \\cos\\alpha - E\\sin\\alpha = 0.02$$ "
   ]
  },
  {
   "cell_type": "markdown",
   "metadata": {},
   "source": [
    "$\\;\\;\\;\\;$ b. Find $\\alpha$ for the situation when $l$, $h$, and $\\beta_1$ are the same as in part(a) but $D = 30$in. "
   ]
  },
  {
   "cell_type": "markdown",
   "metadata": {},
   "source": [
    "$\\;\\;\\;\\;$_Sol._ When $D = 30$, $C = 9.7078$ and $E = 47.7452$. $\\begin{eqnarray} p_3 &=& p_2 - \\frac{17.74\\sin(11.5)\\cos(11.15)+87.21\\sin^2(11.5) - 9.7078\\cos(11.5)-47.7152\\sin(11.5)}{17.74\\cos^2(11.5) - \\sin^2(11.5) + 87.21(2\\sin(11.5)\\cos(11.5))+9.7078\\sin(11.5)-47.71\\cos(11.5)} \\\\ &\\approx& \\; 33.2^\\circ \\end{eqnarray}$"
   ]
  }
 ],
 "metadata": {
  "kernelspec": {
   "display_name": "Python 3",
   "language": "python",
   "name": "python3"
  },
  "language_info": {
   "codemirror_mode": {
    "name": "ipython",
    "version": 3
   },
   "file_extension": ".py",
   "mimetype": "text/x-python",
   "name": "python",
   "nbconvert_exporter": "python",
   "pygments_lexer": "ipython3",
   "version": "3.6.8"
  }
 },
 "nbformat": 4,
 "nbformat_minor": 2
}
