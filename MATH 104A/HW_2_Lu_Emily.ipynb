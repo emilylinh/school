{
 "cells": [
  {
   "cell_type": "markdown",
   "metadata": {},
   "source": [
    "# <center> MATH 104A - Homework 2 \n",
    "#### <center>By Emily Lu "
   ]
  },
  {
   "cell_type": "markdown",
   "metadata": {},
   "source": [
    "1. Use three-digit chopping arithmetic to compute the following sums. For each part, which method is more accurate, and why?\n",
    "    \n",
    "   $\\;\\;\\;\\;$ b. $\\sum_{i = 1}^{10}  (1/i^2)$ first by $\\frac{1}{1}$ + $\\frac{1}{8}$ + ... + $\\frac{1}{1000}$ and then by $\\frac{1}{1000}$ + $\\frac{1}{729}$ + ... + $\\frac{1}{1}$.\n",
    "    \n",
    "    _Sol._ Let $\\frac{1}{1}$ + $\\frac{1}{8}$ + ... + $\\frac{1}{1000}$ be the \"first order arithmetic\" and $\\frac{1}{1000}$ + $\\frac{1}{729}$ + ... + $\\frac{1}{1}$ be the \"reverse order arithmetic\"."
   ]
  },
  {
   "cell_type": "code",
   "execution_count": 7,
   "metadata": {},
   "outputs": [
    {
     "name": "stdout",
     "output_type": "stream",
     "text": [
      "First order arithmetic is 1.16\n",
      "Reverse order arithmetic is 1.19\n",
      "Actual value is 1.197531985674193\n"
     ]
    }
   ],
   "source": [
    "def ChoppingArithmetic(n, lst):\n",
    "    \n",
    "    temp = 0 \n",
    "    for i in range(len(lst)):\n",
    "        temp += float(lst[i])\n",
    "        if temp > 1:\n",
    "            temp = str(temp)[0:n+1]\n",
    "        else:\n",
    "            temp = str(temp)[0:n+2]\n",
    "        temp = float(temp)\n",
    "\n",
    "    return temp \n",
    "\n",
    "original = [str(1/i**3)[0:5] for i in range(1, 11)]\n",
    "reverse = [str(1/i**3)[0:5] for i in range(10, 0, -1)]\n",
    "\n",
    "print('First order arithmetic is', ChoppingArithmetic(3, original))\n",
    "print('Reverse order arithmetic is', ChoppingArithmetic(3, reverse))\n",
    "print('Actual value is', sum([1/i**3 for i in range(1,11)]))"
   ]
  },
  {
   "cell_type": "markdown",
   "metadata": {},
   "source": [
    "$\\;\\;\\;\\;\\;\\;\\;\\;$ The \"reverse order arithmetic\" is more accurate since there is a smaller round-off error from adding the larger numbers first."
   ]
  },
  {
   "cell_type": "markdown",
   "metadata": {},
   "source": [
    "2\\. The number $e$ is defined by $\\sum_{n=0}^{\\infty} (1/n!)$, where $n! = n(n-1)\\cdot...\\cdot2\\cdot1$ for $n\\neq 0$ and $0! = 1$. Use four-digit chopping arithmetic to compute the following approximations to $e$ and determine the absolute and relative errors.\n",
    "\n",
    "$\\;\\;\\;\\;$ a. $e \\approx \\sum_{n = 0}^{5} \\frac{1}{n!} $ \n"
   ]
  },
  {
   "cell_type": "code",
   "execution_count": 2,
   "metadata": {},
   "outputs": [
    {
     "name": "stdout",
     "output_type": "stream",
     "text": [
      "Exact sum is 2.7166666666666663\n",
      "4-digit chopping sum is 2.715\n",
      "Absolute error is 0.0016666666666664831\n",
      "Relative error is 0.0006134969325152699\n"
     ]
    }
   ],
   "source": [
    "from math import*\n",
    "\n",
    "a = ChoppingArithmetic(4, [str(1/factorial(i))[0:6] for i in range(0, 6)])\n",
    "exact_a = sum([1/factorial(i) for i in range(0, 6)])\n",
    "\n",
    "print('Exact sum is', exact_a)\n",
    "print(\"4-digit chopping sum is\", a)\n",
    "print('Absolute error is', abs(exact_a - a))\n",
    "print('Relative error is', abs(exact_a - a)/abs(exact_a))"
   ]
  },
  {
   "cell_type": "markdown",
   "metadata": {},
   "source": [
    "$\\;\\;\\;\\;$ c. $e \\approx \\sum_{n=0}^{10} \\frac{1}{n!}$"
   ]
  },
  {
   "cell_type": "code",
   "execution_count": 3,
   "metadata": {},
   "outputs": [
    {
     "name": "stdout",
     "output_type": "stream",
     "text": [
      "Exact sum is 2.7182818011463845\n",
      "4-digit chopping sum is 2.716\n",
      "Absolute error is 0.0022818011463843213\n",
      "Relative error is 0.0008394277390305943\n"
     ]
    }
   ],
   "source": [
    "import numpy as np\n",
    "\n",
    "def format_float(num):\n",
    "    return np.format_float_positional(num, trim='-')\n",
    "\n",
    "c  = ChoppingArithmetic(4, [str(format_float(1/factorial(i)))[0:6] for i in range(0, 11)])\n",
    "exact_c = sum([1/factorial(i) for i in range(0, 11)])\n",
    "\n",
    "print('Exact sum is', exact_c)\n",
    "print(\"4-digit chopping sum is\", c)\n",
    "print('Absolute error is', abs(exact_c - c))\n",
    "print('Relative error is', abs(exact_c - c)/abs(exact_c))"
   ]
  },
  {
   "cell_type": "markdown",
   "metadata": {},
   "source": [
    "$\\;\\;\\;\\;$ d. $e \\approx \\sum_{j=1}^{10} \\frac{1}{(10-j)!}$"
   ]
  },
  {
   "cell_type": "code",
   "execution_count": 4,
   "metadata": {},
   "outputs": [
    {
     "name": "stdout",
     "output_type": "stream",
     "text": [
      "Exact sum is 2.7182818011463845\n",
      "4-digit chopping sum is 2.717\n",
      "Absolute error is 0.0012818011463844314\n",
      "Relative error is 0.00047154829416282584\n"
     ]
    }
   ],
   "source": [
    "d  = ChoppingArithmetic(4, [str(format_float(1/factorial(10 - j)))[0:6] for j in range(0, 11)])\n",
    "exact_d = sum([1/factorial(10 - j) for j in range(0, 11)])\n",
    "\n",
    "print('Exact sum is', exact_d)\n",
    "print(\"4-digit chopping sum is\", d)\n",
    "print('Absolute error is', abs(exact_d - d))\n",
    "print('Relative error is', abs(exact_d - d)/abs(exact_d))"
   ]
  },
  {
   "cell_type": "markdown",
   "metadata": {},
   "source": [
    "4\\. Exercise 3 details a rather inefficient means of obtaining an approximation to $\\pi$. The method can be improved substantially by observing that $\\frac{\\pi}{4}$ = arctan$\\frac{1}{2}$ $+$ arctan$\\frac{1}{3}$ and evaluating the series for the arctangent at $\\frac{1}{2}$ and at $\\frac{1}{3}$. Determine the number of terms that must be summed to ensure an approximation to $\\pi$ to be within $10^{-3}$.\n",
    "\n",
    "$\\;\\;\\;\\;$_Sol._ The Maclaurin series for the arctangent function converges for $-1<x\\leq1$ and is $$arctan(x) = \\lim_{n \\to \\infty} \\Big[\\sum_{i=1}^{n}(-1)^{i+1}\\frac{x^{2i-1}}{2i-1}\\Big]\\\\ = x - \\frac{x^3}{3}+\\frac{x^5}{5}-\\frac{x^7}{7}+...+(-1)^{i+1}\\frac{x^{2i-1}}{2i-1}.$$ This implies $\\frac{\\pi}{4} = \\sum_{i=1}^\\infty (-1)^{i+1} \\frac{\\frac{1}{2}^{2i-1}}{2i-1}+\\sum_{i=1}^{\\infty}(-1)^{i+1}\\frac{\\frac{1}{3}^{2i-1}}{2i-1}\\\\ \\Longleftrightarrow \\pi = 4\\sum_{i=1}^\\infty(-1)^{i+1}\\frac{\\frac{1}{2}^{2i-1}}{2i-1} + 4\\sum_{i=1}^\\infty(-1)^{i+1}\\frac{\\frac{1}{3}^{2i-1}}{2i-1}$ \n",
    "\n",
    "Since the second sum is smaller than the first sum, we'll just need to determine the minimum value of $i$ so that $$\\frac{4}{2^{2i-1}(2i-1)}<10^{-3} \\Longleftrightarrow 2^{2i-1}(2i-1) > 4000$$ Plugging in i=1, 2,..., we find that 5 terms would be enough to ensure an approximation to $\\pi$ to be within $10^{-3}$"
   ]
  },
  {
   "cell_type": "markdown",
   "metadata": {},
   "source": [
    "6\\. Find the rates of convergence of the following sequences as $n \\rightarrow \\infty$. \n",
    "\n",
    "$\\;\\;\\;\\;$ a. $\\lim_{n \\to \\infty} sin \\frac{1}{n} = 0$\n",
    "    \n",
    "$\\;\\;\\;\\;$_Sol._ Define $\\alpha_n = sin \\frac{1}{n}$ and $\\beta_{n} = \\frac{1}{n}$. We know that for $0\\leq x \\leq 1$, $sin(x) \\leq x$. Therefore, we have that $$|\\alpha_n - 0| = |sin \\frac{1}{n}| \\leq \\frac{1}{n} = \\beta_{n},$$ so as $n \\rightarrow 0$, $sin \\frac{1}{n}$ converges to its limit, 0, about as fast as $\\frac{1}{n}$ converges to 0. So, $\\alpha_n = 0 + O(\\beta_{n}).$ \n",
    "    \n",
    "$\\;\\;\\;\\;$ b. $\\lim_{n \\to \\infty} sin \\frac{1}{n^2} = 0$ \n",
    "    \n",
    "$\\;\\;\\;\\;$_Sol._ Define $\\alpha_n = sin \\frac{1}{n^2}$ and $\\beta_{n} = \\frac{1}{n^2}$. We know that for $0\\leq x \\leq 1$, $sin(x) \\leq x$. Therefore, we have that $$|\\alpha_n - 0| = |sin \\frac{1}{n^2}| \\leq \\frac{1}{n^2} = \\beta_{n},$$ so as $n \\rightarrow 0$, $sin \\frac{1}{n^2}$ converges to its limit, 0, about as fast as $\\frac{1}{n^2}$ converges to 0. So, $\\alpha_n = 0 + O(\\beta_{n}).$ \n",
    "    \n",
    "$\\;\\;\\;\\;$ c. $\\lim_{n \\to \\infty} (sin \\frac{1}{n})^2 = 0$\n",
    "    \n",
    "$\\;\\;\\;\\;$_Sol._ Define $\\alpha_n = (sin \\frac{1}{n})^2$ and $\\beta_{n} = \\frac{1}{n^2}$. We know that for $0\\leq x \\leq 1$, $sin(x) \\leq x$. From part (a), $|sin \\frac{1}{n}| \\leq \\frac{1}{n}$ is true so by squaring the inequality, we obtain $(sin \\frac{1}{n})^2 \\leq \\frac{1}{n^2}$  Therefore, we have that $$|\\alpha_n - 0| = |sin \\frac{1}{n}|^2 \\leq \\frac{1}{n^2} = \\beta_{n}$$ which implies $\\alpha_n = 0 + O(\\beta_{n})$. \n",
    "    \n",
    "$\\;\\;\\;\\;$ d. $\\lim_{n \\to \\infty} [ln(n+1) - ln(n)] = 0$\n",
    "    \n",
    "$\\;\\;\\;\\;$_Sol._ Define $\\alpha_n = ln(n+1) - ln(n) = ln(1 + \\frac{1}{n})$ and $\\beta_{n} = \\frac{1}{n}$. Since $|ln(1+x)| < |x|$ for $0 < x < 1$, then $$|\\alpha_n - 0| = |ln(n+1) - ln(n)| < \\frac{1}{n} \\Rightarrow \\alpha_n = 0 + O(\\beta_n).$$"
   ]
  },
  {
   "cell_type": "markdown",
   "metadata": {},
   "source": [
    "8\\. Suppose that $0 < q < p$ and that $\\alpha_n = \\alpha + O (n^{-p})$. \n",
    "\n",
    "$\\;\\;\\;\\;$ a. Show that $\\alpha_n = \\alpha + O (n^{-q})$. \n",
    "\n",
    "$\\;\\;\\;\\;$ _Sol._ By the rate of convergence definition, we have that $|\\alpha_n - \\alpha| \\leq Kn^{-p}$ for large n. Given $q < p$, then $n^{-p} < n^{-q}$ implies $Kn^{-p} < Kn^{-q}$. Therefore, $|\\alpha_n - \\alpha| \\leq Kn^{-q}$ which implies $\\alpha_n = \\alpha + O (n^{-q})$. \n",
    "    \n",
    "$\\;\\;\\;\\;$ b. Make a table listing 1/$n$, 1/$n^2$, 1/$n^3$, and 1/$n^4$ for $n = 5, 10, 100$, and $1000$ and discuss the varying rates of convergence of these sequences as n become large."
   ]
  },
  {
   "cell_type": "markdown",
   "metadata": {},
   "source": [
    "| n  | 5 | 10  | 100 | 1000 |\n",
    "| -- | ------------- | ------------- | ------------- | ------------- |\n",
    "| $\\frac{1}{n}$ | 0.2  | 0.1 | 0.01 | 0.001|\n",
    "| $\\frac{1}{n^2}$  | 0.04 | 0.01 | 0.0001 | 0.000001 |\n",
    "| $\\frac{1}{n^3}$  | 0.008 | 0.001 | 0.000001 | 0.000000001 |\n",
    "| $\\frac{1}{n^4}$  | 0.0016 | 0.0001 | 0.00000001 | 0.000000000001 | \n",
    "\n",
    "The table implies that $O(\\frac{1}{n^4})$ converges at a more rapid rate."
   ]
  },
  {
   "cell_type": "markdown",
   "metadata": {},
   "source": [
    "9\\. Suppose that $0 < q < p$ and that $F(h) = L + O(h^p)$. \n",
    "    \n",
    "$\\;\\;\\;\\;$ a. Show that $F(h) = L + O(h^q)$. \n",
    "\n",
    "$\\;\\;\\;\\;$ _Sol._ By definition 1.19 in the textbook, we have that $|F(h) - L| \\leq K|h^p|$ for sufficiently small $h$. Given $q < p$ and $|h| < 1$, then $|h^p| < |h^q|$ implies $K|h^p| < K|h^q|$. Therefore, $|F(h) - L| \\leq K|h^q|$ holds true which implies $F(h) = L + O(h^q)$.  \n",
    "\n",
    "    \n",
    "$\\;\\;\\;\\;$ b. Make a table listing $h$, $h^2$, $h^3$, and $h^4$ for $h = 0.5, 0.1, 0.01$, and $0.001$ and discuss the varying rates of convergence of these powers as h become large. "
   ]
  },
  {
   "cell_type": "markdown",
   "metadata": {},
   "source": [
    "| h  | 0.5 | 0.1  | 0.01 | 0.001 |\n",
    "| -- | ------------- | ------------- | ------------- | ------------- |\n",
    "| $h^2$  | 0.25 | 0.01 | 0.001 | 0.000001 |\n",
    "| $h^3$  | 0.125 | 0.001 | 0.000001 | 0.000000001 |\n",
    "| $h^4$  | 0.0625 | 0.0001 | 0.000000001 | 0.000000000001 |\n",
    "\n",
    "From the table above, $O(h^4)$ converges at a more rapid rate. "
   ]
  },
  {
   "cell_type": "markdown",
   "metadata": {},
   "source": [
    "10\\. Suppose that as $x$ approaches zero, $$F_{1}(x) = L_1 + O(x^{\\alpha}) \\; \\text{and} \\; F_2(x) = L_2 + O(x^\\beta).$$ Let $c_1$ and $c_2$ be nonzero constants and define $$F(x) = c_1F_1(x) + c_2F_2(x) \\; \\text{and} \\; G(x) = F_1(c_1x) + F_2(c_2x).$$ Show that if $\\gamma$ = minimum {$\\alpha$, $\\beta$}, then as $x$ approaches zero, \n",
    "\n",
    "$\\;\\;\\;\\;$ a. $F(x) = c_1L_1 + c_2L_2 + O(x^{\\gamma})$\n",
    "\n",
    "$\\;\\;\\;\\;$ _Sol._ $$\\begin{eqnarray} |F(x)-(c_1L_1 + c_2L_2)| = |c_1F_1(x) + c_2F_2(x) - (c_1L_1 + c_2L_2)|\\\\ = |c_1F_1(x) - c_1L_1 + c_2F_2(x) - c_2L_2| \\\\ = |c_1(F_1(x)-L_1) + c_2(F_2(x)-L_2)| \\\\ \\leq |c_1(F_1(x) - L_1)| + |c_2(F_2(x) - L_2)| \\\\ \\leq |c_1||F_1(x) - L_1| + |c_2||F_2(x) - L_2| \\\\ \\leq |c_1|\\cdot K_1|x^\\alpha| + |c_2|\\cdot K_2|x^\\beta| \\\\ \\leq c_1K_1|x|^\\alpha + c_2K_2|x|^\\beta \\end{eqnarray}$$ We choose $K$ = max{$K_1$, $K_2$}, $c$ = max{$c_1$, $c_2$} and $\\gamma$ = min{$\\alpha, \\;\\beta$} so that $|F(x)-(c_1L_1 + c_2L_2)|\\leq cK|x|^\\gamma$ implies $F(x) = c_1L_1 + c_2L_2 + O(x^\\gamma)$. \n",
    "    \n",
    "$\\;\\;\\;\\;$ b. $G(x) = L_1 + L_2 + O(x^\\gamma)$\n",
    "\n",
    "$\\;\\;\\;\\;$ _Sol._ $$\\begin{eqnarray} |G(x)-(L_1 + L_2)| = |F_1(c_1x) + F_2(c_2x) - (L_1 + L_2)|\\\\ = |F_1(c_1x) - L_1 + F_2(c_2x) - L_2| \\\\ \\leq |F_1(c_1x)-L_1| + |F_2(c_2x)-L_2| \\\\ \\leq K_1|c_1x|^\\alpha + K_2|c_2 x|^\\beta \\\\ \\leq K_1c_1^\\alpha|x|^\\alpha + K_2c_2^\\beta|x|^\\beta \\end{eqnarray}$$ We choose $K$ = max{$K_1$, $K_2$}, $c$ = max{$c_1$, $c_2$} and $\\gamma$ = min{$\\alpha, \\;\\beta$} so that $|G(x)-(L_1 + L_2)|\\leq Kc^\\gamma|x|^\\gamma$ implies $G(x) = L_1 + L_2 + O(x^\\gamma)$."
   ]
  },
  {
   "cell_type": "markdown",
   "metadata": {},
   "source": [
    "11\\. The sequence {$F_n$} described by $F_0 = 1$, $F_1 = 1$, and $F_{n+2} = F_n + F_{n+1}$, if $n \\geq 0$, is called a *Fibonacci sequence*. Its terms occur naturally in many botanical species, particularly those with petals or scales arranged in the form of a logarithmic spiral. Consider the sequence {$x_n$}, where $x_n = F_{n+1}/F_n$. Assuming that $\\lim_{n \\to \\infty}x_n = x$ exists, show that $x = (1 + \\sqrt{5})/2$. This number is called the *golden ratio*. "
   ]
  },
  {
   "cell_type": "markdown",
   "metadata": {},
   "source": [
    "$\\;\\;\\;\\;$ _Sol._ $x_{n+1} = \\frac{F_{(n+1)+1}}{F_{n+1}} = \\frac{F_{n+2}}{F_{n+1}} = \\frac{F_{n+1}+F_n}{F_{n+1}} = \\frac{F_{n+1}}{F_{n+1}}+\\frac{F_n}{F_{n+1}} = 1 + \\frac{F_n}{F_{n+1}} = 1 + \\frac{1}{x_n}$. Applying the limits on both side, gives us $$\\begin{eqnarray} \\lim_{n\\to\\infty} x_{n+1} &=& \\lim_{n\\to\\infty}(1+\\frac{1}{x_n}) \\\\ &\\Longleftrightarrow& x = 1 + \\frac{1}{n} \\Longleftrightarrow x = \\frac{x+1}{x} \\\\ &\\Longleftrightarrow& x^2 = x + 1 \\\\ &\\Longleftrightarrow& x^2 - x - 1 = 0 \\\\ &\\Longleftrightarrow& x = \\frac{1 \\pm \\sqrt{1-4\\cdot1\\cdot-1}}{2\\cdot1} \\\\ &\\Longleftrightarrow& x = \\frac{1\\pm \\sqrt{5}}{2} \\end{eqnarray}$$ which gives us $x = \\frac{1+ \\sqrt{5}}{2}$. "
   ]
  },
  {
   "cell_type": "markdown",
   "metadata": {},
   "source": [
    "12\\. Show that the Fibonacci sequence also satisfies the equation $$F_n \\equiv \\tilde{F_n} = \\frac{1}{\\sqrt{5}}\\Bigg[\\Big(\\frac{1+\\sqrt{5}}{2}\\Big)^n - \\Big(\\frac{1-\\sqrt{5}}{2}\\Big)^n\\Bigg].$$\n",
    "\n",
    "$\\;\\;\\;\\;$ _Sol._ Proof by induction: Let $P(n)$ be the statement that for all natural numbers n, $F_n \\equiv \\tilde{F_n} = \\frac{1}{\\sqrt{5}}\\Bigg[\\Big(\\frac{1+\\sqrt{5}}{2}\\Big)^n - \\Big(\\frac{1-\\sqrt{5}}{2}\\Big)^n\\Bigg].$\n",
    "\n",
    "Base Case: For $n = 0$, $F(0) = 1$ and $\\frac{1}{\\sqrt{5}}\\Bigg[\\Big(\\frac{1+\\sqrt{5}}{2}\\Big)^1 - \\Big(\\frac{1-\\sqrt{5}}{2}\\Big)^1\\Bigg] = \\frac{2\\sqrt{5}}{2\\sqrt{5}} = 1$. Now for $n = 1$, $F(1) = 1$ and $\\frac{1}{\\sqrt{5}}\\Bigg[\\Big(\\frac{1+\\sqrt{5}}{2}\\Big)^2 - \\Big(\\frac{1-\\sqrt{5}}{2}\\Big)^2\\Bigg] = \\frac{2\\sqrt{5}}{2\\sqrt{5}} = 1$. Therefore, $P(0)$ and $P(1)$ holds true. \n",
    "\n",
    "Inductive Step: We want to show that $$F(n+1) = \\frac{1}{\\sqrt{5}}\\Big[(\\frac{1+\\sqrt{5}}{2})^{n+2} - (\\frac{1-\\sqrt{5}}{2})^{n+2}\\Big].$$ By the induction assumption, $$\\begin{eqnarray} F(n+1)&=&F(n-1) + F(n) \\\\ &=& \\frac{1}{\\sqrt{5}}\\Bigg[\\Big(\\frac{1+\\sqrt{5}}{2}\\Big)^n - \\Big(\\frac{1-\\sqrt{5}}{2}\\Big)^n\\Bigg] + \\Bigg[\\Big(\\frac{1+\\sqrt{5}}{2}\\Big)^{n+1} - \\Big(\\frac{1-\\sqrt{5}}{2}\\Big)^{n+1}\\Bigg] \\\\ &=& \\frac{1}{\\sqrt{5}}\\Bigg[\\Big(\\frac{1+\\sqrt{5}}{2})^n \\Big(1+\\frac{1+\\sqrt{5}}{2}\\Big) - \\frac{1}{\\sqrt{5}}\\Big(\\frac{1-\\sqrt{5}}{2})^n \\Big(1+\\frac{1-\\sqrt{5}}{2}\\Big)\\Bigg] \\\\ &=& \\frac{1}{\\sqrt{5}}\\Bigg[\\Big(\\frac{1+\\sqrt{5}}{2}\\Big)^{n+2} -\\Big(\\frac{1-\\sqrt{5}}{2}\\Big)^{n+2}\\Bigg]  \\end{eqnarray}$$ Thus, since $P(n)$ holds true for all natural numbers of n, then $F_n \\equiv \\tilde{F_n} = \\frac{1}{\\sqrt{5}}\\Bigg[\\Big(\\frac{1+\\sqrt{5}}{2}\\Big)^n - \\Big(\\frac{1-\\sqrt{5}}{2}\\Big)^n\\Bigg]$ is true. "
   ]
  },
  {
   "cell_type": "markdown",
   "metadata": {},
   "source": [
    "13\\. Describe the output of the following algorithm. How does this algorithm compare to the illustration on page 32?\n",
    "\n",
    "$\\;\\;\\;\\;$ INPUT $n, x_1, x_2, ..., x_n$\n",
    "    \n",
    "$\\;\\;\\;\\;$ OUTPUT $\\text{SUM}$.\n",
    "    \n",
    "$\\;\\;\\;\\;$ *Step 1* Set $\\text{SUM} = x_1.$\n",
    "    \n",
    "$\\;\\;\\;\\;$ *Step 2* For $i = 2, 3, ..., n$ do Step 3. \n",
    "    \n",
    "$\\;\\;\\;\\;$ *Step 3* $\\text{SUM} = \\text{SUM} + x_i$. \n",
    "        \n",
    "$\\;\\;\\;\\;$ *Step 4* OUTPUT SUM; <br> $\\;\\;\\;\\;\\;\\;\\;\\;$ STOP.\n",
    "    \n",
    "$\\;\\;\\;\\;$ _Sol._ The output of the following algorithm is the total sum of the input defined, i.e. $\\sum_{i = 1}^n x_i$. Depending on what $x_i$ is defined to be, this algorithm could be or is similar to the illustration on page 32. "
   ]
  },
  {
   "cell_type": "markdown",
   "metadata": {},
   "source": [
    "15\\. a. How many multiplications and additions are required to determine a sum of the form $$\\sum_{i = 1}^n \\sum_{j=1}^i a_ib_j?$$\n",
    "\n",
    "$\\;\\;\\;\\;$ _Sol._ For each $i$, there are $i$ multiplications in $\\sum_{i = 1}^n \\sum_{j=1}^i a_ib_j$ since j ranges from 1 to $i$. There are exactly $n$ iterations which means there are a total of $\\sum_{i = 1}^n i = \\frac{n(n+1)}{2}$ multiplications. There are $\\sum_{i=1}^{n}(i-1_ = \\sum_{i=1}^{n}i - \\sum_{i=1}^{n}1 = \\frac{n(n+1)}{2} - n = \\frac{1}{2}n(n-1)$ number of additions. \n",
    "\n",
    "\n",
    "$\\;\\;\\;\\;$ b. Modify the sum in part (a) to an equivalent form that reduces the number of computations.\n",
    "\n",
    "$\\;\\;\\;\\;$ _Sol._ We could rewrite the double summation as $\\sum_{i=1}^{n}a_i\\sum_{j=1}^{i}b_j$, then there would still be $i-1$ additions for each $i$ but only one multiplication. Summing these terms gives us $n-1$ more additions, so $\\frac{1}{2}n(n-1) + n-1 = (n-1)(\\frac{n}{2}+1)$ number of additions. "
   ]
  }
 ],
 "metadata": {
  "kernelspec": {
   "display_name": "Python 3",
   "language": "python",
   "name": "python3"
  },
  "language_info": {
   "codemirror_mode": {
    "name": "ipython",
    "version": 3
   },
   "file_extension": ".py",
   "mimetype": "text/x-python",
   "name": "python",
   "nbconvert_exporter": "python",
   "pygments_lexer": "ipython3",
   "version": "3.6.8"
  }
 },
 "nbformat": 4,
 "nbformat_minor": 2
}
