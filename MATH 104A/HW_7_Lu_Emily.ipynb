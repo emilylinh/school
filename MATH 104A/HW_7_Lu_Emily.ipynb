{
 "cells": [
  {
   "cell_type": "markdown",
   "metadata": {},
   "source": [
    "Section (4.1) 1ab, 3, 5ad, 7, 22, 29 "
   ]
  },
  {
   "cell_type": "markdown",
   "metadata": {},
   "source": [
    "1\\. Use the forward-difference formulas and backward-difference formulas to determine each missing entry in the following tables"
   ]
  },
  {
   "cell_type": "markdown",
   "metadata": {},
   "source": [
    "$\\;\\;\\;\\;$ a. \n",
    "\n",
    "$x$ | $f(x)$ | $f'(x)$| \n",
    "--- | ------ | ------ |\n",
    "0.5 | 0.4794 | $\\;\\;$ |\n",
    "0.6 | 0.5646 | $\\;\\;$ |\n",
    "0.7 | 0.6442 | $\\;\\;$ |\n"
   ]
  },
  {
   "cell_type": "code",
   "execution_count": 3,
   "metadata": {},
   "outputs": [
    {
     "name": "stdout",
     "output_type": "stream",
     "text": [
      "By forward-difference, f'(0.5) = 0.852\n",
      "By backward-difference, f'(0.6) = 0.852\n",
      "By backward-difference, f'(0.7) = 0.796\n"
     ]
    }
   ],
   "source": [
    "def diff(fx, fxh, h):\n",
    "    return (fxh - fx)/h \n",
    "\n",
    "print(\"By forward-difference, f'(0.5) =\", diff(0.4794, 0.5646, 0.1))\n",
    "print(\"By backward-difference, f'(0.6) =\", diff(0.4794, 0.5646, 0.1))\n",
    "print(\"By backward-difference, f'(0.7) =\", diff(0.5646, 0.6442, 0.1))"
   ]
  },
  {
   "cell_type": "markdown",
   "metadata": {},
   "source": [
    "$\\;\\;\\;\\;$ b. \n",
    "\n",
    "$x$ | $f(x)$ | $f'(x)$| \n",
    "--- | ------ | ------ |\n",
    "0.0 | 0.00000 | $\\;\\;$ |\n",
    "0.2 | 0.74140 | $\\;\\;$ |\n",
    "0.4 | 1.3718 | $\\;\\;$ |\n"
   ]
  },
  {
   "cell_type": "code",
   "execution_count": 4,
   "metadata": {},
   "outputs": [
    {
     "name": "stdout",
     "output_type": "stream",
     "text": [
      "By forward-difference, f'(0.0) = 3.7069999999999994\n",
      "By forward-difference, f'(0.2) = 3.1519999999999997\n",
      "By backward-difference, f'(0.4) = 3.1519999999999997\n"
     ]
    }
   ],
   "source": [
    "print(\"By forward-difference, f'(0.0) =\", diff(0.0, 0.74140, 0.2))\n",
    "print(\"By forward-difference, f'(0.2) =\", diff(0.74140, 1.3718, 0.2))\n",
    "print(\"By backward-difference, f'(0.4) =\", diff(0.74140, 1.3718, 0.2))"
   ]
  },
  {
   "cell_type": "markdown",
   "metadata": {},
   "source": [
    "3\\. The data in Exercise I were taken from the following functions. Compute the actual errors in Exercise 1, and find error bounds using the error formulas."
   ]
  },
  {
   "cell_type": "markdown",
   "metadata": {},
   "source": [
    "$\\;\\;\\;\\;$ a. $f(x) = \\sin x$ \n"
   ]
  },
  {
   "cell_type": "code",
   "execution_count": 5,
   "metadata": {},
   "outputs": [
    {
     "name": "stdout",
     "output_type": "stream",
     "text": [
      "For f'(0.5), actual error is 0.02558256189037278 and error bound is 0.02823212366975177.\n",
      "For f'(0.6), actual error is 0.02666438509032165 and error bound is 0.02823212366975177.\n",
      "For f'(0.7), actual error is 0.031157812715511546 and error bound is 0.03221088436188455.\n"
     ]
    }
   ],
   "source": [
    "from math import* \n",
    "f1 = lambda x: cos(x)\n",
    "f2 = lambda x: -sin(x)\n",
    "\n",
    "def errBound(h, x0):\n",
    "    return abs(h)/2*max(abs(f2(x0)), abs(f2(x0+h)))\n",
    "\n",
    "print(\"For f'(0.5), actual error is\", abs(f1(0.5)-diff(0.4794, 0.5646, 0.1)),\n",
    "      'and error bound is', str(errBound(0.1, 0.5))+'.')\n",
    "print(\"For f'(0.6), actual error is\", abs(f1(0.6)-diff(0.4794, 0.5646, 0.1)), \n",
    "      'and error bound is', str(errBound(-0.1, 0.6))+'.')\n",
    "print(\"For f'(0.7), actual error is\", abs(f1(0.7)-diff(0.5646, 0.6442, 0.1)), \n",
    "      'and error bound is', str(errBound(-0.1, 0.7))+'.')"
   ]
  },
  {
   "cell_type": "markdown",
   "metadata": {},
   "source": [
    "$\\;\\;\\;\\;$ b. $f(x) = e^x - 2x^2 + 3x - 1$ "
   ]
  },
  {
   "cell_type": "code",
   "execution_count": 6,
   "metadata": {},
   "outputs": [
    {
     "name": "stdout",
     "output_type": "stream",
     "text": [
      "For f'(0.0), actual error is 2.7069999999999994 and error bound is 0.30000000000000004.\n",
      "For f'(0.2), actual error is 2.73059724183983 and error bound is 0.277859724183983.\n",
      "For f'(0.4), actual error is 3.2601753023587294 and error bound is 0.277859724183983.\n"
     ]
    }
   ],
   "source": [
    "f1 = lambda x: e**x - 4*x\n",
    "f2 = lambda x: e**x - 4\n",
    "\n",
    "print(\"For f'(0.0), actual error is\", abs(f1(0.0)-diff(0.0, 0.74140, 0.2)),\n",
    "      'and error bound is', str(errBound(0.2, 0.0))+'.')\n",
    "print(\"For f'(0.2), actual error is\", abs(f1(0.2)-diff(0.74140, 1.3718, 0.2)), \n",
    "      'and error bound is', str(errBound(0.2, 0.2))+'.')\n",
    "print(\"For f'(0.4), actual error is\", abs(f1(0.4)-diff(0.74140, 1.3718, 0.2)), \n",
    "      'and error bound is', str(errBound(-0.2, 0.4))+'.')"
   ]
  },
  {
   "cell_type": "markdown",
   "metadata": {},
   "source": [
    "5\\. Use the most accurate three-point formula to determine each missing entry in the following tables."
   ]
  },
  {
   "cell_type": "markdown",
   "metadata": {},
   "source": [
    "$\\;\\;\\;\\;$ a. \n",
    "\n",
    "$x$ | $f(x)$ | $f'(x)$| \n",
    "--- | ------ | ------ |\n",
    "1.1 | 9.025013 | $\\;\\;$ |\n",
    "1.2 | 11.02318 | $\\;\\;$ |\n",
    "1.3 | 13.46374 | $\\;\\;$ |\n",
    "1.4 | 16.44465 | $\\;\\;$ |"
   ]
  },
  {
   "cell_type": "code",
   "execution_count": 7,
   "metadata": {},
   "outputs": [
    {
     "name": "stdout",
     "output_type": "stream",
     "text": [
      "f'(1.1) = 17.769705000000016\n",
      "f'(1.2) = 22.193635\n",
      "f'(1.3) = 27.107349999999997\n",
      "f'(1.4) = 32.51085000000002\n"
     ]
    }
   ],
   "source": [
    "def which3pt(h, fx, fxh, fx2h = None, nfxh = None):\n",
    "    if fx2h != None:\n",
    "        endpt = 1/(2*h)*(-3*fx + 4*fxh - fx2h)\n",
    "        return endpt\n",
    "    else:\n",
    "        midpt = 1/(2*h)*(fxh - nfxh)\n",
    "        return midpt \n",
    "    \n",
    "print(\"f'(1.1) =\", which3pt(0.1, 9.025013, 11.02318, fx2h = 13.46374))\n",
    "print(\"f'(1.2) =\", which3pt(0.1, 11.02318, 13.46374, nfxh = 9.025013))\n",
    "print(\"f'(1.3) =\", which3pt(0.1, 13.46374, 16.44465, nfxh = 11.02318))\n",
    "print(\"f'(1.4) =\", which3pt(-0.1, 16.44465, 13.46374, fx2h = 11.02318))"
   ]
  },
  {
   "cell_type": "markdown",
   "metadata": {},
   "source": [
    "$\\;\\;\\;\\;$ d. \n",
    "\n",
    "$x$ | $f(x)$ | $f'(x)$| \n",
    "--- | ------ | ------ |\n",
    "2.0 | 3.6887983 | $\\;\\;$ |\n",
    "2.1 | 3.6905701 | $\\;\\;$ |\n",
    "2.2 | 3.6688192 | $\\;\\;$ |\n",
    "2.3 | 3.6245909 | $\\;\\;$ |"
   ]
  },
  {
   "cell_type": "code",
   "execution_count": 8,
   "metadata": {},
   "outputs": [
    {
     "name": "stdout",
     "output_type": "stream",
     "text": [
      "f'(2.0) = 0.1353314999999955\n",
      "f'(2.1) = -0.09989550000000014\n",
      "f'(2.2) = -0.32989600000000063\n",
      "f'(2.3) = -0.5546700000000038\n"
     ]
    }
   ],
   "source": [
    "print(\"f'(2.0) =\", which3pt(0.1, 3.6887983, 3.6905701, fx2h = 3.6688192))\n",
    "print(\"f'(2.1) =\", which3pt(0.1, 3.6905701, 3.6688192, nfxh = 3.6887983))\n",
    "print(\"f'(2.2) =\", which3pt(0.1, 3.6688192, 3.6245909, nfxh = 3.6905701))\n",
    "print(\"f'(2.3) =\", which3pt(-0.1, 3.6245909, 3.6688192, fx2h = 3.6905701))"
   ]
  },
  {
   "cell_type": "markdown",
   "metadata": {},
   "source": [
    "7\\. The data in Exercise 5 were taken from the following functions. Compute the actual errors in Exercise 5 and find error bounds using the error formulas."
   ]
  },
  {
   "cell_type": "markdown",
   "metadata": {},
   "source": [
    "$\\;\\;\\;\\;$ a. $f(x) = e^{2x}$  "
   ]
  },
  {
   "cell_type": "code",
   "execution_count": 9,
   "metadata": {},
   "outputs": [
    {
     "name": "stdout",
     "output_type": "stream",
     "text": [
      "For f'(1.1), actual error is 0.28032199886822795 and error bound is 0.3590330142667118.\n",
      "For f'(1.2), actual error is 0.14728223871680157 and error bound is 0.1795165071333559.\n",
      "For f'(1.3), actual error is 0.17987392999661722 and error bound is 0.21926195694796072.\n",
      "For f'(1.4), actual error is 0.37844354219406995 and error bound is 0.43852391389592127.\n"
     ]
    }
   ],
   "source": [
    "f1 = lambda x: 2*e**(2*x)\n",
    "f2 = lambda x: 4*e**(2*x)\n",
    "f3 = lambda x: 8*e**(2*x)\n",
    "\n",
    "def errBound3(h, x0, which):\n",
    "    if which == \"e\":\n",
    "        return h**2/3*max(f3(x0), f3(x0+2*h))\n",
    "    else:\n",
    "        return h**2/6*max(f3(x0-h), f3(x0+h))\n",
    "        \n",
    "print(\"For f'(1.1), actual error is\", abs(f1(1.1)-which3pt(0.1, 9.025013, 11.02318, fx2h = 13.46374)),\n",
    "      'and error bound is', str(errBound3(0.1, 1.1, 'e'))+'.')\n",
    "print(\"For f'(1.2), actual error is\", abs(f1(1.2)-which3pt(0.1, 11.02318, 13.46374, nfxh = 9.025013)), \n",
    "      'and error bound is', str(errBound3(0.1, 1.2, 'm'))+'.')\n",
    "print(\"For f'(1.3), actual error is\", abs(f1(1.3)-which3pt(0.1, 13.46374, 16.44465, nfxh = 11.02318)), \n",
    "      'and error bound is', str(errBound3(0.1, 1.3, 'm'))+'.')\n",
    "print(\"For f'(1.4), actual error is\", abs(f1(1.4)-which3pt(-0.1, 16.44465, 13.46374, fx2h = 11.02318)), \n",
    "      'and error bound is', str(errBound3(-0.1, 1.4, 'e'))+'.')"
   ]
  },
  {
   "cell_type": "markdown",
   "metadata": {},
   "source": [
    "$\\;\\;\\;\\;$ d. $f(x) = 2(\\ln x)^2 + 3 \\sin x$ "
   ]
  },
  {
   "cell_type": "code",
   "execution_count": 10,
   "metadata": {},
   "outputs": [
    {
     "name": "stdout",
     "output_type": "stream",
     "text": [
      "For f'(2.0), actual error is 0.002522351478467799 and error bound is 0.0041030361171171216.\n",
      "For f'(2.1), actual error is 0.0014303238388557737 and error bound is 0.0020515180585585608.\n",
      "For f'(2.2), actual error is 0.0020485147400910453 and error bound is 0.002600341639436687.\n",
      "For f'(2.3), actual error is 0.00437954126506046 and error bound is 0.005200683278873371.\n"
     ]
    }
   ],
   "source": [
    "f1 = lambda x: 4*log(x)*1/x + 3*cos(x)\n",
    "f2 = lambda x: 8/x**2 - 4*log(x)/x**2 - 3*sin(x)\n",
    "f3 = lambda x: -12/x**3 + 8*log(x)/x**3 - 3*cos(x)\n",
    "\n",
    "print(\"For f'(2.0), actual error is\", abs(f1(2.0)-which3pt(0.1, 3.6887983, 3.6905701, fx2h = 3.6688192)),\n",
    "      'and error bound is', str(errBound3(0.1, 2.0, 'e'))+'.')\n",
    "print(\"For f'(2.1), actual error is\", abs(f1(2.1)-which3pt(0.1, 3.6905701, 3.6688192, nfxh = 3.688798)), \n",
    "      'and error bound is', str(errBound3(0.1, 2.1, 'm'))+'.')\n",
    "print(\"For f'(2.2), actual error is\", abs(f1(2.2)-which3pt(0.1, 3.6688192, 3.6245909, nfxh = 3.6905701)), \n",
    "      'and error bound is', str(errBound3(0.1, 2.2, 'm'))+'.')\n",
    "print(\"For f'(2.3), actual error is\", abs(f1(2.3)-which3pt(-0.1, 3.6245909, 3.6688192, fx2h = 3.6905701)), \n",
    "      'and error bound is', str(errBound3(-0.1, 2.3, 'e'))+'.')"
   ]
  },
  {
   "cell_type": "markdown",
   "metadata": {},
   "source": [
    "22\\. In a circuit with impressed voltage $\\xi (t)$ and inductance $L,$ Kirchhoff's first law gives the relationship $$\\xi(t) = L \\frac{di}{dt} + Ri,$$ where $R$ is the resistance in the circuit and $i$ is the current. Suppose we measure the current for several values of $t$ and obtain\n",
    "\n",
    "$\\;$ | $\\;$ | $\\;$ | $\\;$ | $\\;$ |  $\\;$ | \n",
    "--- | ------ | ------- |  ------ | ------- |  ------- | \n",
    "$t$ | 1.00 | 1.01 | 1.02 | 1.03 | 1.04 | \n",
    "$i$ | 3.10 | 3.12 | 3.14 | 3.18 | 3.24 | \n",
    "\n",
    "where $t$ is measured in seconds, $i$ is in amperes, the inductance $L$ is a constant 0.98 henries, and resistance is 0.142 ohms. Approximate the voltage $\\xi(t)$ when $t$ = 1.00, 1.01, 1.02, 1.03, and 1.04."
   ]
  },
  {
   "cell_type": "code",
   "execution_count": 11,
   "metadata": {},
   "outputs": [
    {
     "name": "stdout",
     "output_type": "stream",
     "text": [
      "xi'(1.00) = 2.40019999999998\n",
      "xi'(1.01) = 2.4030400000000016\n",
      "xi'(1.02) = 3.3858800000000024\n",
      "xi'(1.03) = 5.351560000000026\n",
      "xi'(1.04) = 7.320080000000005\n"
     ]
    }
   ],
   "source": [
    "import numpy as np \n",
    "\n",
    "def xi(tvec, ivec):\n",
    "    xi = np.zeros(len(tvec))\n",
    "    for i in range(len(tvec)):\n",
    "        xi[i] = 0.98*tvec[i] + 0.142*ivec[i]\n",
    "        \n",
    "    return xi\n",
    "\n",
    "di_dt = [which3pt(0.01, 3.10, 3.12, fx2h = 3.14), which3pt(0.01, 3.12, 3.14, nfxh = 3.10),\n",
    "        which3pt(0.01, 3.14, 3.18, nfxh = 3.12), which3pt(-0.01, 3.18, 3.14, fx2h = 3.12), \n",
    "        which3pt(-0.01, 3.24, 3.18, fx2h = 3.14)]\n",
    "xis = xi(di_dt, [3.10, 3.12, 3.14, 3.18, 3.24])\n",
    "\n",
    "print(\"xi'(1.00) =\", xis[0])\n",
    "print(\"xi'(1.01) =\", xis[1])\n",
    "print(\"xi'(1.02) =\", xis[2])\n",
    "print(\"xi'(1.03) =\", xis[3])   \n",
    "print(\"xi'(1.04) =\", xis[4])  "
   ]
  },
  {
   "cell_type": "markdown",
   "metadata": {},
   "source": [
    "29\\. Consider the function $$e(h) = \\frac{\\varepsilon}{h} + \\frac{h^2}{6}M,$$ where $M$ is a bound for the third derivative of a function. Show that $e(h)$ has a minimum at $\\sqrt[3]{3\\varepsilon/M}.$ "
   ]
  },
  {
   "cell_type": "markdown",
   "metadata": {},
   "source": [
    "$\\;\\;\\;\\;$ _Sol._ Given $e'(h) = -\\frac{\\varepsilon}{h^2} + \\frac{h}{3}M$, $h =\\sqrt[3]{3\\varepsilon/M}$ if and only if $e'(h) = 0$. Since $e'(h) <0$ if $h < \\sqrt[3]{3\\varepsilon/M}$ and $e'(h) >0$ if $h > \\sqrt[3]{3\\varepsilon/M}$ also, then we have that the absolute minimum for $e(h)$ occurs at $h =\\sqrt[3]{3\\varepsilon/M}$. "
   ]
  },
  {
   "cell_type": "markdown",
   "metadata": {},
   "source": [
    "Section (4.3) 1adg, 3dg, 5ad, 15ad"
   ]
  },
  {
   "cell_type": "markdown",
   "metadata": {},
   "source": [
    "1\\. Approximate the following integrals using the Trapezoidal rule."
   ]
  },
  {
   "cell_type": "markdown",
   "metadata": {},
   "source": [
    "$\\;\\;\\;\\;$ a. $\\int_{0.5}^1 x^4 dx$"
   ]
  },
  {
   "cell_type": "code",
   "execution_count": 12,
   "metadata": {},
   "outputs": [
    {
     "name": "stdout",
     "output_type": "stream",
     "text": [
      "The answer to the following integral is 0.265625.\n"
     ]
    }
   ],
   "source": [
    "def trapezoidal(x0, x1):\n",
    "    h = x1 - x0\n",
    "    return h/2*(f(x0) + f(x1)) \n",
    "\n",
    "f = lambda x: x**4 \n",
    "\n",
    "print('The answer to the following integral is', str(trapezoidal(0.5, 1))+'.')"
   ]
  },
  {
   "cell_type": "markdown",
   "metadata": {},
   "source": [
    "$\\;\\;\\;\\;$ d. $\\int_{0}^1 x^2 e^{-x} dx$"
   ]
  },
  {
   "cell_type": "code",
   "execution_count": 13,
   "metadata": {},
   "outputs": [
    {
     "name": "stdout",
     "output_type": "stream",
     "text": [
      "The answer to the following integral is 0.18393972058572117.\n"
     ]
    }
   ],
   "source": [
    "f = lambda x: x**2*e**(-x)\n",
    "\n",
    "print('The answer to the following integral is', str(trapezoidal(0, 1))+'.')"
   ]
  },
  {
   "cell_type": "markdown",
   "metadata": {},
   "source": [
    "$\\;\\;\\;\\;$ g. $\\int_0^{\\pi/4} x\\sin x dx$"
   ]
  },
  {
   "cell_type": "code",
   "execution_count": 14,
   "metadata": {},
   "outputs": [
    {
     "name": "stdout",
     "output_type": "stream",
     "text": [
      "The answer to the following integral is 0.21808950623871498.\n"
     ]
    }
   ],
   "source": [
    "f = lambda x: x*sin(x)\n",
    "\n",
    "print('The answer to the following integral is', str(trapezoidal(0, pi/4))+'.')"
   ]
  },
  {
   "cell_type": "markdown",
   "metadata": {},
   "source": [
    "3\\. Find a bound for the error in Exercise 1 using the error formula and compare this to the actual error."
   ]
  },
  {
   "cell_type": "markdown",
   "metadata": {},
   "source": [
    "$\\;\\;\\;\\;$ d. $\\int_{0}^1 x^2 e^{-x} dx$"
   ]
  },
  {
   "cell_type": "code",
   "execution_count": 15,
   "metadata": {},
   "outputs": [
    {
     "name": "stdout",
     "output_type": "stream",
     "text": [
      "Error bound is 0.16666666666666666 and actual error is 0.023336926442932754.\n"
     ]
    }
   ],
   "source": [
    "import scipy.integrate as integrate\n",
    "f = lambda x: x**2*e**(-x)\n",
    "f1 = lambda x: 2*x*e**(-x) - x**2*e**(-x)\n",
    "f2 = lambda x: 2*e**(-x) -4*x*e**(-x) + x**2*e**(-x)\n",
    "\n",
    "def errBoundT(x0, x1):\n",
    "    h = x1 - x0\n",
    "    return h**3/12*max(f2(x0), f2(x1))\n",
    "\n",
    "print('Error bound is', errBoundT(0, 1), 'and actual error is', \n",
    "      str(abs(integrate.quad(f, 0, 1)[0] - trapezoidal(0, 1)))+'.')"
   ]
  },
  {
   "cell_type": "markdown",
   "metadata": {},
   "source": [
    "$\\;\\;\\;\\;$ g. $\\int_0^{\\pi/4} x\\sin x dx$"
   ]
  },
  {
   "cell_type": "code",
   "execution_count": 16,
   "metadata": {},
   "outputs": [
    {
     "name": "stdout",
     "output_type": "stream",
     "text": [
      "Error bound is 0.08074551218828077 and actual error is 0.06634309232196323.\n"
     ]
    }
   ],
   "source": [
    "f = lambda x: x*sin(x)\n",
    "f1 = lambda x: sin(x) + x*cos(x)\n",
    "f2 = lambda x: 2*cos(x) - x*sin(x)\n",
    "\n",
    "print('Error bound is', errBoundT(0, pi/4), 'and actual error is', \n",
    "      str(abs(integrate.quad(f, 0, pi/4)[0] - trapezoidal(0, pi/4)))+'.')"
   ]
  },
  {
   "cell_type": "markdown",
   "metadata": {},
   "source": [
    "5\\. Repeat Exercise 1 using Simpson's rule."
   ]
  },
  {
   "cell_type": "markdown",
   "metadata": {},
   "source": [
    "$\\;\\;\\;\\;$ a. $\\int_{0.5}^1 x^4 dx$"
   ]
  },
  {
   "cell_type": "code",
   "execution_count": 17,
   "metadata": {},
   "outputs": [
    {
     "name": "stdout",
     "output_type": "stream",
     "text": [
      "The answer to the following integral is 0.19401041666666666.\n"
     ]
    }
   ],
   "source": [
    "def simps(x0, x2):\n",
    "    h = (x2 - x0)/2\n",
    "    x1 = x0 + h \n",
    "    return h/3*(f(x0) + 4*f(x1) + f(x2))\n",
    "\n",
    "f = lambda x: x**4 \n",
    "\n",
    "print('The answer to the following integral is', str(simps(0.5, 1))+'.')"
   ]
  },
  {
   "cell_type": "markdown",
   "metadata": {},
   "source": [
    "$\\;\\;\\;\\;$ d. $\\int_{0}^1 x^2 e^{-x} dx$"
   ]
  },
  {
   "cell_type": "code",
   "execution_count": 18,
   "metadata": {},
   "outputs": [
    {
     "name": "stdout",
     "output_type": "stream",
     "text": [
      "The answer to the following integral is 0.1624016834806793.\n"
     ]
    }
   ],
   "source": [
    "f = lambda x: x**2*e**(-x)\n",
    "\n",
    "print('The answer to the following integral is', str(simps(0, 1))+'.')"
   ]
  },
  {
   "cell_type": "markdown",
   "metadata": {},
   "source": [
    "15\\. Approximate the following integrals using formulas (4.25) through (4.32). Are the accuracies of the\n",
    "approximations consistent with the error formulas?"
   ]
  },
  {
   "cell_type": "markdown",
   "metadata": {},
   "source": [
    "$\\;\\;\\;\\;$ a. $\\int_{0}^{0.1} \\sqrt{1+x} dx$"
   ]
  },
  {
   "cell_type": "code",
   "execution_count": 19,
   "metadata": {},
   "outputs": [
    {
     "name": "stdout",
     "output_type": "stream",
     "text": [
      "The approximations using formulas 4.25-4.32, respectively, are 0.1024404, 0.1024598, 0.1024598, 0.1024598, 0.1024695, 0.1024663, 0.1024598, 0.1024598.\n",
      "\n",
      "The errors of the approximations using formulas 4.25-4.32, respectively, are 1.9421991444459885e-05, 2.1991444457136744e-08, 2.1991444457136744e-08, 2.1991444457136744e-08, -9.678008555544237e-06, -6.478008555535486e-06, 2.1991444457136744e-08, 2.1991444457136744e-08.\n",
      "\n",
      "Based on the errors above, we could conclude the accuracies of the approximations are consistent with the error formulas.\n"
     ]
    }
   ],
   "source": [
    "def f427(x0, x3):\n",
    "    h = (x3 - x0)/3\n",
    "    return round(3*h/8*(f(x0)+3*f(x0+h)+3*f(x3-h)+f(x3)), 7)\n",
    "\n",
    "def f428(x0, x4):\n",
    "    h = (x4 - x0)/4\n",
    "    return round(2*h/45*(7*f(x0)+32*f(x0+h)+12*f(x0+2*h)+32*f(x4-h)+7*f(x4)), 7)\n",
    "\n",
    "def f429(nx1, x1):\n",
    "    h = (x1-nx1)/2\n",
    "    return round(2*h*f(nx1+h), 7)\n",
    "\n",
    "def f430(nx1, x2):\n",
    "    h = (x2 - nx1)/3 \n",
    "    return round(3*h/2*(f(nx1+h) + f(x2-h)), 7)\n",
    "\n",
    "def f431(nx1, x3):\n",
    "    h = (x3 - nx1)/4\n",
    "    return round(4*h/3*(2*f(nx1+h)-f(nx1+2*h)+2*f(x3-h)), 7)\n",
    "\n",
    "def f432(nx1, x4):\n",
    "    h = (x4 - nx1)/5\n",
    "    return round(5*h/24*(11*f(nx1+h)+f(nx1+2*h)+f(x4-2*h)+11*f(x4-h)), 7)\n",
    "\n",
    "f = lambda x: sqrt(1 + x)\n",
    "actual = integrate.quad(f, 0, 0.1)[0]\n",
    "\n",
    "print('The approximations using formulas 4.25-4.32, respectively, are', \n",
    "     str(round(trapezoidal(0, 0.1), 7))+',', str(round(simps(0, 0.1), 7))+',', \n",
    "      str(f427(0, 0.1))+',', str(f428(0, 0.1))+',', str(f429(0, 0.1))+',', \n",
    "      str(f430(0, 0.1))+',', str(f431(0, 0.1))+',', str(f432(0, 0.1))+'.')\n",
    "\n",
    "print('\\nThe errors of the approximations using formulas 4.25-4.32, respectively, are', \n",
    "     str(actual-round(trapezoidal(0, 0.1), 7))+',', str(actual-round(simps(0, 0.1), 7))+',', \n",
    "      str(actual-f427(0, 0.1))+',', str(actual-f428(0, 0.1))+',', str(actual-f429(0, 0.1))+',', \n",
    "      str(actual-f430(0, 0.1))+',', str(actual-f431(0, 0.1))+',', str(actual-f432(0, 0.1))+'.')\n",
    "\n",
    "print('\\nBased on the errors above, we could conclude the accuracies of the approximations are consistent with the error formulas.')"
   ]
  },
  {
   "cell_type": "markdown",
   "metadata": {},
   "source": [
    "$\\;\\;\\;\\;$ d. $\\int_{0}^1 x^{1/3} dx$"
   ]
  },
  {
   "cell_type": "code",
   "execution_count": 20,
   "metadata": {},
   "outputs": [
    {
     "name": "stdout",
     "output_type": "stream",
     "text": [
      "The approximations using formulas 4.25-4.32, respectively, are 0.5, 0.6958004, 0.7126032, 0.7306341, 0.7937005, 0.7834709, 0.7611137, 0.7593572.\n",
      "\n",
      "The errors of the approximations using formulas 4.25-4.32, respectively, are 0.24999999999999978, 0.05419959999999979, 0.037396799999999786, 0.019365899999999825, -0.04370050000000025, -0.03347090000000019, -0.011113700000000226, -0.009357200000000176.\n",
      "\n",
      "Based on the errors above, we could conclude the accuracies of the approximations are not consistent with the error formulas.\n"
     ]
    }
   ],
   "source": [
    "f = lambda x: x**(1/3)\n",
    "actual = integrate.quad(f, 0, 1)[0]\n",
    "\n",
    "print('The approximations using formulas 4.25-4.32, respectively, are', \n",
    "     str(round(trapezoidal(0, 1), 7))+',', str(round(simps(0, 1), 7))+',', \n",
    "      str(f427(0, 1))+',', str(f428(0, 1))+',', str(f429(0, 1))+',', \n",
    "      str(f430(0, 1))+',', str(f431(0, 1))+',', str(f432(0, 1))+'.')\n",
    "\n",
    "print('\\nThe errors of the approximations using formulas 4.25-4.32, respectively, are', \n",
    "     str(actual-round(trapezoidal(0, 1), 7))+',', str(actual-round(simps(0, 1), 7))+',', \n",
    "      str(actual-f427(0, 1))+',', str(actual-f428(0, 1))+',', str(actual-f429(0, 1))+',', \n",
    "      str(actual-f430(0, 1))+',', str(actual-f431(0, 1))+',', str(actual-f432(0, 1))+'.')\n",
    "\n",
    "print('\\nBased on the errors above, we could conclude the accuracies of the approximations are not consistent with the error formulas.')"
   ]
  },
  {
   "cell_type": "code",
   "execution_count": null,
   "metadata": {},
   "outputs": [],
   "source": []
  }
 ],
 "metadata": {
  "kernelspec": {
   "display_name": "Python 3",
   "language": "python",
   "name": "python3"
  },
  "language_info": {
   "codemirror_mode": {
    "name": "ipython",
    "version": 3
   },
   "file_extension": ".py",
   "mimetype": "text/x-python",
   "name": "python",
   "nbconvert_exporter": "python",
   "pygments_lexer": "ipython3",
   "version": "3.6.8"
  }
 },
 "nbformat": 4,
 "nbformat_minor": 2
}
