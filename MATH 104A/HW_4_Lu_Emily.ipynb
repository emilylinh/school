{
 "cells": [
  {
   "cell_type": "markdown",
   "metadata": {},
   "source": [
    "## <center> MATH 104A - Homework 4 \n",
    "#### <center>By Emily Lu "
   ]
  },
  {
   "cell_type": "markdown",
   "metadata": {},
   "source": [
    "(Section 2.4)"
   ]
  },
  {
   "cell_type": "markdown",
   "metadata": {},
   "source": [
    "1\\.  Use Newton's method to find solutions accurate to within $10^{-5}$ to the following problems. "
   ]
  },
  {
   "cell_type": "code",
   "execution_count": 1,
   "metadata": {},
   "outputs": [],
   "source": [
    "from math import * \n",
    "\n",
    "def newton(p0, TOL, N0):\n",
    "    i = 1\n",
    "    while i <= N0:\n",
    "        p = p0 - f(p0)/f1(p0)\n",
    "        if abs(p-p0) < TOL:\n",
    "            return ('p'+str(i)+' = '+str(p)) \n",
    "            break\n",
    "        else:\n",
    "            i += 1\n",
    "            p0 = p "
   ]
  },
  {
   "cell_type": "markdown",
   "metadata": {},
   "source": [
    "$\\;\\;\\;\\;$ a. $x^2 - 2xe^{-x} + e^{-2x} = 0, \\; \\text{for} \\; 0 \\leq x \\leq 1$ "
   ]
  },
  {
   "cell_type": "code",
   "execution_count": 2,
   "metadata": {},
   "outputs": [
    {
     "data": {
      "text/plain": [
       "'p13 = 0.5671348890149513'"
      ]
     },
     "execution_count": 2,
     "metadata": {},
     "output_type": "execute_result"
    }
   ],
   "source": [
    "f = lambda x: x**2 - 2*x*e**(-x) + e**(-2*x) \n",
    "f1 = lambda x: 2*x - 2*e**(-x) + 2*x*e**(-x) -2*e**(-2*x)\n",
    "\n",
    "newton(0.5, 10**(-5), 20)"
   ]
  },
  {
   "cell_type": "markdown",
   "metadata": {},
   "source": [
    "$\\;\\;\\;\\;$ d. $e^{6x} + 3(\\ln 2)^2 e^{2x} - (\\ln 8)e^{4x} - (\\ln 2)^3 = 0, \\; \\text{for} \\; -1 \\leq x \\leq 0$ "
   ]
  },
  {
   "cell_type": "code",
   "execution_count": 3,
   "metadata": {},
   "outputs": [
    {
     "data": {
      "text/plain": [
       "'p23 = -0.18327407153171052'"
      ]
     },
     "execution_count": 3,
     "metadata": {},
     "output_type": "execute_result"
    }
   ],
   "source": [
    "f = lambda x: e**(6*x) + 3*(log(2))**2 * e**(2*x) - log(8)*e**(4*x) - (log(2))**3 \n",
    "f1 = lambda x: 6*e**(6*x) + 6*(log(2))**2 * e**(2*x) - 4*log(8)*e**(4*x) \n",
    "\n",
    "newton(-0.5, 10**(-5), 30)"
   ]
  },
  {
   "cell_type": "markdown",
   "metadata": {},
   "source": [
    "5\\. Use Newton's method and the modified Newton's method described in Eq. (2.13) to find a solution accurate to within $10^{-5}$ to the problem $$e^{6x} + 1.441e^{2x} - 2.079e^{4x} - 0.3330 = 0, \\; \\text{for} \\; -1\\leq x \\leq 0.$$ This is the same problem as 1(d) with the coefficients replaced by their four-digit approximations. Compare the solutions to the results in 1(d) and 2(d)."
   ]
  },
  {
   "cell_type": "code",
   "execution_count": 4,
   "metadata": {},
   "outputs": [
    {
     "name": "stdout",
     "output_type": "stream",
     "text": [
      "Newton's method gives us, p13 = -0.1696065468990041\n",
      "Modified Newton's method gives us, p11 = -0.1696065479950535\n"
     ]
    }
   ],
   "source": [
    "def modifiedNewton(p0, TOL, N0):\n",
    "    i = 1\n",
    "    while i <= N0:\n",
    "        p = p0 - (f(p0)*f1(p0))/(f1(p0)**2 - f(p0)*f2(p0))\n",
    "        if abs(p-p0) < TOL:\n",
    "            return ('p'+str(i)+' = '+str(p)) \n",
    "            break\n",
    "        else:\n",
    "            i += 1\n",
    "            p0 = p \n",
    "            \n",
    "f = lambda x: e**(6*x) + 1.441*e**(2*x) - 2.079*e**(4*x) - 0.333\n",
    "f1 = lambda x: 6*e**(6*x) + 2.882*e**(2*x) - 4*2.079*e**(4*x)             \n",
    "f2 = lambda x: 36*e**(6*x) + 5.764*e**(2*x) - 16*2.079*e**(4*x)\n",
    "print(\"Newton's method gives us,\", newton(-0.5, 10**(-5), 20))\n",
    "print(\"Modified Newton's method gives us,\", modifiedNewton(-0.5, 10**(-5), 20))"
   ]
  },
  {
   "cell_type": "markdown",
   "metadata": {},
   "source": [
    "6\\. Show that the following sequences converge linearly to $p = 0$. How large much $n$ be before $|p_n - p| \\leq 5 \\times 10^{-2}$? "
   ]
  },
  {
   "cell_type": "markdown",
   "metadata": {},
   "source": [
    "$\\;\\;\\;\\;$ a. $p_n = \\frac{1}{n}, \\; n \\geq 1$"
   ]
  },
  {
   "cell_type": "markdown",
   "metadata": {},
   "source": [
    "$\\;\\;\\;\\;$_Sol._ $$\\begin{eqnarray} \\lim_{n\\to\\infty} \\frac{|p_{n+1} - p|}{|p_n - p|} &=& \\lim_{n\\to\\infty} \\frac{|\\frac{1}{n+1} - 0|}{|\\frac{1}{n} - 0|} \\\\ &=& \\lim_{n\\to\\infty} \\frac{|\\frac{1}{n+1}|}{|\\frac{1}{n}|} \\\\ &=& \\lim_{n\\to\\infty} \\Big |\\frac{n}{n+1} \\Big| \\\\ &=& \\lim_{n\\to\\infty} \\Bigg |\\frac{n}{n(1+\\frac{1}{n})} \\Bigg| \\\\ &=& \\lim_{n\\to\\infty} \\Bigg |\\frac{1}{1+\\frac{1}{n}} \\Bigg| \\\\ &=&  \\frac{\\lim_{n\\to\\infty} 1}{\\lim_{n\\to\\infty} 1+\\frac{1}{n}}  \\\\ &=&  \\frac{1}{\\lim_{n\\to\\infty} 1+ \\lim_{n\\to\\infty} \\frac{1}{n}} \\\\ &=&  \\frac{1}{1+ 0} = 1\\end{eqnarray}$$ Therefore, we have that $p_n$ converges linearly to $p=0$. To find the largest value of $n$ before $|p_n - p| \\leq 5 \\times 10^{-2}$, we need $$\\Big |\\frac{1}{n} - 0 \\Big| \\leq 5 \\times 10^{-2} \\Longleftrightarrow n \\geq \\frac{10^2}{5} \\Longleftrightarrow n \\geq 20.$$"
   ]
  },
  {
   "cell_type": "markdown",
   "metadata": {},
   "source": [
    "$\\;\\;\\;\\;$ b. $p_n = \\frac{1}{n^2}, \\; n\\geq 1$"
   ]
  },
  {
   "cell_type": "markdown",
   "metadata": {},
   "source": [
    "$\\;\\;\\;\\;$_Sol._ $$\\begin{eqnarray} \\lim_{n\\to\\infty} \\frac{|p_{n+1} - p|}{|p_n - p|} &=& \\lim_{n\\to\\infty} \\frac{\\Big|\\frac{1}{(n+1)^2} - 0 \\Big|}{\\Big|\\frac{1}{n^2} - 0 \\Big|} \\\\ &=& \\lim_{n\\to\\infty} \\frac{|\\frac{1}{(n+1)^2}|}{|\\frac{1}{n^2}|} \\\\ &=& \\lim_{n\\to\\infty} \\Big |\\frac{n^2}{(n+1)^2} \\Big| \\\\ &=& \\lim_{n\\to\\infty} \\Bigg |\\frac{n^2}{n^2(1 +\\frac{2}{n} + \\frac{1}{n^2})} \\Bigg| \\\\ &=& \\lim_{n\\to\\infty} \\Bigg |\\frac{1}{1 +\\frac{2}{n} + \\frac{1}{n^2}} \\Bigg| \\\\ &=&  \\frac{\\lim_{n\\to\\infty} 1}{\\lim_{n\\to\\infty} 1+ \\lim_{n\\to\\infty} \\frac{2}{n} + \\lim_{n\\to\\infty} \\frac{1}{n^2}}  \\\\ &=&  \\frac{1}{1+ 0 + 0} = 1\\end{eqnarray}$$ Therefore, we have that $p_n$ converges linearly to $p=0$. To find the largest value of $n$ before $|p_n - p| \\leq 5 \\times 10^{-2}$, we need $$\\Big |\\frac{1}{n^2} - 0 \\Big| \\leq 5 \\times 10^{-2} \\Longleftrightarrow n^2 \\geq \\frac{10^2}{5} \\Longleftrightarrow n \\geq \\sqrt{20}.$$"
   ]
  },
  {
   "cell_type": "markdown",
   "metadata": {},
   "source": [
    "8\\. a. Show that the sequence $p_n = 10^{-2^n}$ converges quadratically to 0.\n",
    "\n"
   ]
  },
  {
   "cell_type": "markdown",
   "metadata": {},
   "source": [
    "$\\;\\;\\;\\;$_Sol._ $$\\begin{eqnarray}\\lim_{n\\to\\infty} \\frac{|p_{n+1} - p|}{|p_n - p|^2} &=& \\lim_{n\\to\\infty}  \\frac{\\Big|10^{-2^{n+1}} - 0 \\Big|}{\\Big|10^{-2^n} - 0\\Big|^2} \\\\ &=& \\lim_{n\\to\\infty}  \\frac{\\Big|10^{-2^{n+1}}\\Big|}{\\Big|10^{-2^{n+1}}\\Big|} = 1\\end{eqnarray}$$ Therefore, we have that $p_n$ converges quadratically to 0. "
   ]
  },
  {
   "cell_type": "markdown",
   "metadata": {},
   "source": [
    "$\\;\\;$ b. Show that sequence $p_n = 10^{-n^k}$ does not converge to 0 quadratically, regardless of the size of the exponent $k>1$. "
   ]
  },
  {
   "cell_type": "markdown",
   "metadata": {},
   "source": [
    "$\\;\\;\\;\\;$_Sol._ $$\\begin{eqnarray}\\lim_{n\\to\\infty} \\frac{|p_{n+1} - p|}{|p_n - p|^2} &=& \\lim_{n\\to\\infty}  \\frac{|10^{-(n+1)^k} - 0|}{|10^{-n^k} - 0|^2} \\\\  &=& \\lim_{n\\to\\infty}  \\frac{10^{-(n+1)^k}}{10^{-2n^k}} \\\\  &=& \\lim_{n\\to\\infty} 10^{2n^k-(n+1)^k} = \\infty \\end{eqnarray}$$ "
   ]
  },
  {
   "cell_type": "markdown",
   "metadata": {},
   "source": [
    "(Section 3.1)"
   ]
  },
  {
   "cell_type": "markdown",
   "metadata": {},
   "source": [
    "1\\. For the given functions $f(x)$, let $x_0 = 0, \\; x_1 = 0.6,$ and $x_2 = 0.9$. Construct interpolation polynomials of degree at most one and at most two to approximate $f(0.45)$ and find the absolute error."
   ]
  },
  {
   "cell_type": "markdown",
   "metadata": {},
   "source": [
    "$\\;\\;\\;\\;$ a. $f(x) = \\cos x$"
   ]
  },
  {
   "cell_type": "code",
   "execution_count": 5,
   "metadata": {},
   "outputs": [
    {
     "name": "stdout",
     "output_type": "stream",
     "text": [
      "P_1(0.45) = 0.8690017111822588\n",
      "abs error with P_1(0.45) is 0.03144539117041811 \n",
      "\n",
      "P_2(0.45) = 0.8981000747057218\n",
      "abs error with P_2(0.45) is 0.0023470276469550466\n"
     ]
    }
   ],
   "source": [
    "def prod(lst):\n",
    "    p = 1\n",
    "    for i in lst:\n",
    "        p *= i\n",
    "    return p\n",
    "\n",
    "def P(lst1): \n",
    "    return lambda x: sum([prod([(x-x_i)/(x_k-x_i) for x_i in lst1 if x_i != x_k])*f(x_k) for x_k in lst1])\n",
    "\n",
    "f = lambda x: cos(x)\n",
    "\n",
    "print(\"P_1(0.45) =\", P([0, 0.6])(0.45))\n",
    "print('abs error with P_1(0.45) is', abs(cos(0.45)-P([0, 0.6])(0.45)), '\\n')\n",
    "print(\"P_2(0.45) =\", P([0, 0.6, 0.9])(0.45))\n",
    "print('abs error with P_2(0.45) is', abs(cos(0.45)-P([0, 0.6, 0.9])(0.45)))"
   ]
  },
  {
   "cell_type": "markdown",
   "metadata": {},
   "source": [
    "$\\;\\;\\;\\;$ d. $f(x) = \\tan x$"
   ]
  },
  {
   "cell_type": "code",
   "execution_count": 6,
   "metadata": {},
   "outputs": [
    {
     "name": "stdout",
     "output_type": "stream",
     "text": [
      "P_1(0.45) = 0.5131026062562692\n",
      "abs error with P_1(0.45) is 0.03004754063969084 \n",
      "\n",
      "P_2(0.45) = 0.45461435499681907\n",
      "abs error with P_2(0.45) is 0.028440710619759335\n"
     ]
    }
   ],
   "source": [
    "f = lambda x: tan(x)\n",
    "\n",
    "print(\"P_1(0.45) =\", P([0, 0.6])(0.45))\n",
    "print('abs error with P_1(0.45) is', abs(tan(0.45)-P([0, 0.6])(0.45)), '\\n')\n",
    "print(\"P_2(0.45) =\", P([0, 0.6, 0.9])(0.45))\n",
    "print('abs error with P_2(0.45) is', abs(tan(0.45) - P([0, 0.6, 0.9])(0.45))) "
   ]
  },
  {
   "cell_type": "markdown",
   "metadata": {},
   "source": [
    "2\\. For the given functions $f(x)$, let $x_0 = 1, \\; x_1 = 1.25,$ and $x_2 = 1.6$. Construct interpolation polynomials of degree at most one and at most two to approximate $f(1.4)$ and find the absolute error. "
   ]
  },
  {
   "cell_type": "markdown",
   "metadata": {},
   "source": [
    "$\\;\\;\\;\\;$ a. $f(x) = \\sin \\pi x$"
   ]
  },
  {
   "cell_type": "code",
   "execution_count": 7,
   "metadata": {
    "scrolled": true
   },
   "outputs": [
    {
     "name": "stdout",
     "output_type": "stream",
     "text": [
      "P_1(1.4) = -1.1313708498984756\n",
      "abs error with P_1(1.4) is 0.18031433360332205 \n",
      "\n",
      "P_2(1.4) = -0.9182280617406016\n",
      "abs error with P_2(1.4) is 0.03282845455455197\n"
     ]
    }
   ],
   "source": [
    "f = lambda x: sin(pi*x)\n",
    "\n",
    "print(\"P_1(1.4) =\", P([1, 1.25])(1.4))\n",
    "print('abs error with P_1(1.4) is', abs(sin(pi*1.4)-P([1, 1.25])(1.4)), '\\n')\n",
    "print(\"P_2(1.4) =\", P([1, 1.25, 1.6])(1.4))\n",
    "print('abs error with P_2(1.4) is', abs(sin(pi*1.4)-P([1, 1.25, 1.6])(1.4)))"
   ]
  },
  {
   "cell_type": "markdown",
   "metadata": {},
   "source": [
    "$\\;\\;\\;\\;$ b. $f(x) = \\sqrt[3]{x-1}$"
   ]
  },
  {
   "cell_type": "code",
   "execution_count": 8,
   "metadata": {},
   "outputs": [
    {
     "name": "stdout",
     "output_type": "stream",
     "text": [
      "P_1(1.4) = 1.0079368399158983\n",
      "abs error for P_1(1.4) is 0.271130540187821 \n",
      "\n",
      "P_2(1.4) = 0.8169446700381561\n",
      "abs error for P_2(1.4) is 0.08013837031007875\n"
     ]
    }
   ],
   "source": [
    "f = lambda x: (x-1)**(1/3)\n",
    "\n",
    "print(\"P_1(1.4) =\", P([1, 1.25])(1.4))\n",
    "print('abs error for P_1(1.4) is', abs((1.4-1)**(1/3)-P([1, 1.25])(1.4)), '\\n')\n",
    "print(\"P_2(1.4) =\", P([1, 1.25, 1.6])(1.4))\n",
    "print('abs error for P_2(1.4) is', abs((1.4-1)**(1/3)-P([1, 1.25, 1.6])(1.4)))"
   ]
  },
  {
   "cell_type": "markdown",
   "metadata": {},
   "source": [
    "3\\. Use Theorem 3.3 to find an error bound for the approximations in Exercise 1."
   ]
  },
  {
   "cell_type": "markdown",
   "metadata": {},
   "source": [
    "$\\;\\;\\;\\;$ a. _Sol._ $f(x) = \\cos x$ so $f'(x) = -\\sin x$, $f''(x) = -\\cos x$, and $f'''(x) = \\sin x$. Approximating $f(x)$ at the degree of one gives the error form: $$|\\frac{f''(\\xi)}{2!}(x-x_0)(x-x_1)| = |\\frac{f''(\\xi)}{2}(0.45-0)(0.45-0.6)|.$$ The maximum value of $|f''(x)|=\\cos x$ in (0, 0.6) is $\\cos 0 = 1$, therefore the error bound is $$|\\frac{f''(\\xi)}{2}(0.45-0)(0.45-0.6)| \\leq |\\frac{1}{2}(0.45-0)(0.45-0.6)| \\approx 0.03375.$$ \n",
    "\n",
    "Approximating $f(x)$ at the degree of two gives us the error form: $$|\\frac{f'''(\\xi)}{3!}(x-x_0)(x-x_1)(x-x_2| = |\\frac{f'''(\\xi)}{6}(0.45-0)(0.45-0.6)(0.45-0.9)|.$$ The maximum value at $|f'''(x)| = \\sin x$ in (0, 0.9) is $\\sin 0.9$, therefore the error bound is $$|\\frac{f'''(\\xi)}{6}(0.45-0)(0.45-0.6)(0.45-0.9)| \\leq |\\frac{\\sin0.9}{6}(0.45)(0.45-0.6)(0.45-0.9)| \\approx 0.00397.$$"
   ]
  },
  {
   "cell_type": "markdown",
   "metadata": {},
   "source": [
    "$\\;\\;\\;\\;$ d. _Sol._ $f(x) = \\tan x$ so $f'(x) = \\sec^2x$, $f''(x) = 2\\sec^2x\\tan x$, $f'''(x) = 2(\\sec^2x+3\\tan^2x\\sec^2x)$. Approximating $f(x)$ at the degree of one gives the error form: $$|\\frac{f''(\\xi)}{2!}(x-x_0)(x-x_1)| = |\\frac{f''(\\xi)}{2}(0.45-0)(0.45-0.6)|.$$ The maximum value of $|f''(x)| = 2\\sec^2x\\tan x$ in (0, 0.6) is $|f''(0.6)|$, therefore the error bound is $$|\\frac{f''(\\xi)}{2}(0.45-0)(0.45-0.6)| \\leq |\\frac{f''(0.6)}{2}(0.45-0)(0.45-0.6)| \\approx 0.06779.$$ \n",
    "\n",
    "Approximating $f(x)$ at the degree of two gives us the error form: $$|\\frac{f'''(\\xi)}{3!}(x-x_0)(x-x_1)(x-x_2| = |\\frac{f'''(\\xi)}{6}(0.45-0)(0.45-0.6)(0.45-0.9)|.$$ The maximum value at $|f'''(x)| = 2(\\sec^2x+3\\tan^2x\\sec^2x)$ in (0, 0.9) is $|f'''(0.9)$, therefore the error bound is $$|\\frac{f'''(\\xi)}{6}(0.45-0)(0.45-0.6)(0.45-0.9)| \\leq |\\frac{f'''(0.9)}{6}(0.45-0)(0.45-0.6)(0.45-0.9)| \\approx 0.151.$$ \n",
    "\n"
   ]
  },
  {
   "cell_type": "markdown",
   "metadata": {},
   "source": [
    "4\\. Use Theorem 3.3 to find an error bound for the approximations in Exercise 2."
   ]
  },
  {
   "cell_type": "markdown",
   "metadata": {},
   "source": [
    "$\\;\\;\\;\\;$ a. _Sol._ $f(x) = \\sin \\pi x$ so $f'(x) = \\pi \\cos\\pi x$, $f''(x) = -\\pi^2\\sin\\pi x$, and $f'''(x) = -\\pi^3\\cos\\pi x$. Approximating $f(x)$ at the degree of one gives the error form: $$|\\frac{f''(\\xi)}{2!}(x-x_0)(x-x_1)| = |\\frac{f''(\\xi)}{2}(1.4-1)(1.4-1.25)|.$$ The maximum value of $|f''(x)|=\\pi^2\\sin\\pi x$ in (1, 1.25) is $|f''(1.25)|$, therefore the error bound is $$|\\frac{f''(\\xi)}{2}(1.4-1)(1.4-1.25)| \\leq |\\frac{f''(1.25)}{2}(1.4-1)(1.4-1.25)| \\approx 0.20937.$$  \n",
    "\n",
    "Approximating $f(x)$ at the degree of two gives us the error form: $$|\\frac{f'''(\\xi)}{3!}(x-x_0)(x-x_1)(x-x_2| = |\\frac{f'''(\\xi)}{6}(1.4-1)(1.4-1.25)(1.4-1.6)|.$$ The maximum value at $|f'''(x)| = \\pi^3\\cos\\pi x$ in (1, 1.6) is $|f'''(1)|$, therefore the error bound is $$|\\frac{f'''(\\xi)}{6}(1.4-1)(1.4-1.25)(1.4-1.6)| \\leq |\\frac{f'''(1)}{6}(1.4-1)(1.4-1.25)(1.4-1.6)| \\approx 0.062013l.$$"
   ]
  },
  {
   "cell_type": "markdown",
   "metadata": {},
   "source": [
    "$\\;\\;\\;\\;$ b. _Sol._ $f(x) = \\sqrt[3]{x-1}$ so $f'(x) = \\frac{1}{3(x-1)^{2/3}}$, $f''(x) = -\\frac{2}{9(x-1)^{5/3}}$, and $f'''(x) = \\frac{10}{27(x-1)^{8/3}}$. Approximating $f(x)$ at the degree of one gives the error form: $$|\\frac{f''(\\xi)}{2!}(x-x_0)(x-x_1)| = |\\frac{f''(\\xi)}{2}(1.4-1)(1.4-1.25)|.$$ The maximum value of $|f''(x)|=\\frac{2}{9(x-1)^{5/3}}$ in (1, 1.25) is $|f''(1.25)|$, therefore the error bound is $$|\\frac{f''(\\xi)}{2}(1.4-1)(1.4-1.25)| \\leq |\\frac{f''(1.25)}{2}(1.4-1)(1.4-1.25)| \\approx 0.067196.$$  \n",
    "\n",
    "Approximating $f(x)$ at the degree of two gives us the error form: $$|\\frac{f'''(\\xi)}{3!}(x-x_0)(x-x_1)(x-x_2)| = |\\frac{f'''(\\xi)}{6}(1.4-1)(1.4-1.25)(1.4-1.6)|.$$ The maximum value at $|f'''(x)| = \\frac{10}{27(x-1)^{8/3}}$ in (1, 1.6) is $|f'''(1.25)|$, therefore the error bound is $$|\\frac{f'''(\\xi)}{6}(1.4-1)(1.4-1.25)(1.4-1.6)| \\leq |\\frac{f'''(1.25)}{6}(1.4-1)(1.4-1.25)(1.4-1.6)| \\approx 0.029865.$$"
   ]
  },
  {
   "cell_type": "markdown",
   "metadata": {},
   "source": [
    "11\\. Use the following values and four-digit rounding arithmetic to construct a third Lagrange polynomial approximation to $f(1.09)$. The function being approximated is $f(x) = \\log_{10}(\\tan x)$. Use this knowledge to find a bound for the error in the approximation. $$f(1.00) = 0.1924 \\; \\; f(1.05) = 0.2414 \\;\\; f(1.10) = 0.2933 \\;\\; f(1.15) = 0.3492$$ "
   ]
  },
  {
   "cell_type": "code",
   "execution_count": 9,
   "metadata": {},
   "outputs": [
    {
     "name": "stdout",
     "output_type": "stream",
     "text": [
      "The third Lagrange polynomial approximation to  𝑓(1.09) is 0.2826\n"
     ]
    }
   ],
   "source": [
    "from math import * \n",
    "\n",
    "def lagrange4digit(lst1): \n",
    "    return lambda x: sum([prod([(x-round(x_i, 4))/round((x_k-x_i), 4) for x_i in lst1 if x_i != x_k])*round(f(round(x_k, 4)), 4) for x_k in lst1])\n",
    "\n",
    "f = lambda x: log10(tan(x))\n",
    "\n",
    "print('The third Lagrange polynomial approximation to  𝑓(1.09) is', round(lagrange4digit([1.00, 1.05, 1.10, 1.15])(1.09), 4))"
   ]
  },
  {
   "cell_type": "markdown",
   "metadata": {},
   "source": [
    "The bound for the error is $$|\\frac{f^{(4)}(\\xi)}{4!}(x-x_0)(x-x_1)(x-x_2)(x-x_3)| = 7.4\\times10^{-6}$$"
   ]
  },
  {
   "cell_type": "markdown",
   "metadata": {},
   "source": [
    "18\\. In Exercise 24 of Section 1.1, a Maclaurin series was integrated to approximate erf(1), where erf(x) is the normal distribution error function defined by $$\\text{erf}(x) = \\frac{2}{\\sqrt{\\pi}} \\int_0^x e^{-t^2} dt.$$"
   ]
  },
  {
   "cell_type": "markdown",
   "metadata": {},
   "source": [
    "$\\;\\;\\;\\;$ a. Use the Maclaurin series to construct a table for erf($x$) that is accurate to within $10^{-4}$ for erf($x_i$), where $x_i = 0.2i$, for $i = 0, 1,...,5.$"
   ]
  },
  {
   "cell_type": "markdown",
   "metadata": {},
   "source": [
    "$\\;\\;\\;\\;$ _Sol._ $$\\begin{eqnarray} \\text{erf}(x) &=& \\frac{2}{\\sqrt{\\pi}} \\int_0^x e^{-x^2} dx \\\\ &=& \\frac{2}{\\sqrt{\\pi}}\\int_0^x \\Bigg(1-x^2+\\frac{x^4}{2} \\Bigg)dx \\\\ &=& \\frac{2}{\\sqrt{\\pi}} \\Bigg(x-\\frac{x^3}{3} \\Bigg). \\end{eqnarray}$$ Substituting $x_i = 0.2i$, for $i = 0, 1,...,5$, we get for erf($x$): "
   ]
  },
  {
   "cell_type": "markdown",
   "metadata": {},
   "source": [
    "<style> table {display: block} </style>\n",
    "\n",
    "| $i$ | $x_i$=$0.2i$ | erf$(x_i)$|\n",
    "| - | ------------------: | --------------------------- |\n",
    "| 0 | 0.0 $\\;\\;\\;\\;\\;\\;$ | 0.0000    |\n",
    "| 1 | 0.2 $\\;\\;\\;\\;\\;\\;$ | 0.2227   | \n",
    "| 2 | 0.4 $\\;\\;\\;\\;\\;\\;$ | 0.4284   |\n",
    "| 3 | 0.6 $\\;\\;\\;\\;\\;\\;$ | 0.6039  | \n",
    "| 4 | 0.8  $\\;\\;\\;\\;\\;\\;$| 0.7421   | \n",
    "| 5 | 1.0  $\\;\\;\\;\\;\\;\\;$| 0.8427  | "
   ]
  },
  {
   "cell_type": "markdown",
   "metadata": {},
   "source": [
    "$\\;\\;\\;\\;$ b. Use both linear interpolation and quadratic interpolation to obtain an approximation to erf($\\frac{1}{3}$). Which approach seems most feasible?"
   ]
  },
  {
   "cell_type": "code",
   "execution_count": 10,
   "metadata": {},
   "outputs": [
    {
     "name": "stdout",
     "output_type": "stream",
     "text": [
      "P_1(1/3) = 0.35907532606239423\n",
      "P_2(1/3) = 0.3630873408787339\n",
      "The quadratic interpolation (P_2(1/3)) is most feasible.\n"
     ]
    }
   ],
   "source": [
    "f = lambda x: 2/sqrt(pi) * (x - x**3/3)\n",
    "\n",
    "print('P_1(1/3) =', P([0.2, 0.4])(1/3))\n",
    "print('P_2(1/3) =', P([0.2, 0.4, 0.6])(1/3))\n",
    "print('The quadratic interpolation (P_2(1/3)) is most feasible.')"
   ]
  },
  {
   "cell_type": "markdown",
   "metadata": {},
   "source": [
    "23\\. The Bernstein polynomial of degree $n$ for $f\\in C[0, \\; 1]$ is given by $$B_n(x) = \\sum_{k = 0}^n \\begin{pmatrix} n \\\\ k \\end{pmatrix} f \\begin{pmatrix} \\frac{k}{n} \\end{pmatrix} x^k (1-x)^{n-k},$$ where $\\begin{pmatrix} n\\\\k \\end{pmatrix}$ denots $n!/k!(n-k)!.$ These polynomials can be used in a constructive proof of the Weierstrass Approximation Theorem 3.1 (see [Bart]) because $\\lim_{n \\to \\infty} B_n(x) = f(x)$, for each $x\\in [0, \\; 1].$"
   ]
  },
  {
   "cell_type": "markdown",
   "metadata": {},
   "source": [
    "$\\;\\;\\;\\;$ a. Find $B_3(x)$ for the functions\n",
    "\n",
    "$\\;\\;\\;\\;\\;\\;\\;\\;$ i. $f(x) = x$ $\\;\\;\\;\\;\\;\\;\\;\\;$ ii. $f(x) = 1$"
   ]
  },
  {
   "cell_type": "markdown",
   "metadata": {},
   "source": [
    "$\\;\\;\\;\\;\\;\\;\\;\\;$ i. _Sol._ For $f(x)=x$, we see that $$ \\begin{eqnarray} B_3(x) &=& \\sum_{k = 0}^3 \\begin{pmatrix} 3 \\\\ k \\end{pmatrix} f \\begin{pmatrix} \\frac{k}{3} \\end{pmatrix} x^k (1-x)^{3-k} \\\\ &=& 0 + \\begin{pmatrix} 3\\\\1 \\end{pmatrix} \\frac{1}{3}x(1-x)^2 + \\begin{pmatrix} 3\\\\2 \\end{pmatrix} \\frac{2}{3}x^2(1-x) + \\begin{pmatrix} 3\\\\3 \\end{pmatrix} \\\\ &=& x(1-x)^2+2x^2(1-x)+x^3 \\\\ &=& x-2x^2+x^3+2x^2-2x^3+x^3\\\\ &=& x. \\end{eqnarray}$$\n",
    "\n",
    "\n",
    "$\\;\\;\\;\\;\\;\\;\\;\\;$ ii. _Sol._ For $f(x) = 1$, we see that $$ \\begin{eqnarray} B_3(x) &=& \\sum_{k = 0}^3 \\begin{pmatrix} 3 \\\\ k \\end{pmatrix} f \\begin{pmatrix} \\frac{k}{3} \\end{pmatrix} x^k (1-x)^{3-k} \\\\ &=& \\begin{pmatrix} 3\\\\0 \\end{pmatrix} x^0(1-x)^3 + \\begin{pmatrix} 3\\\\1 \\end{pmatrix}x(1-x)^2 + \\begin{pmatrix} 3\\\\2 \\end{pmatrix}x^2(1-x) + \\begin{pmatrix} 3\\\\3 \\end{pmatrix}x^3(1-x)^0 \\\\ &=& (1-x)^3 +3x(1-x)^2 + 3x^2(1-x)+x^2 \\\\ &=& (1-2x+x^2)(1-x)+3x(1-2x+x^2)+3x(1-2x+x^2)+3x^2-3x^3+x^3 \\\\ &=& 1-3x+3x^2-x^3+3x-6x^2+3x^3+3x^2-3x^3+x^3 \\\\ &=& 1. \\end{eqnarray}$$"
   ]
  },
  {
   "cell_type": "markdown",
   "metadata": {},
   "source": [
    "$\\;\\;\\;\\;$ b. Show that for each $k \\geq n$, $$\\begin{pmatrix} n-1 \\\\ k -1 \\end{pmatrix} = \\Big (\\frac{k}{n} \\Big )\\begin{pmatrix} n\\\\ k \\end{pmatrix}.$$"
   ]
  },
  {
   "cell_type": "markdown",
   "metadata": {},
   "source": [
    "$\\;\\;\\;\\;$ _Sol._ $$\\begin{eqnarray} \\begin{pmatrix} n-1 \\\\ k -1 \\end{pmatrix} &=& \\frac{(n-1)!}{(k-1)!((n-1)-(k-1))!} \\\\ &=& \\frac{(n-1)!}{(k-1)!(n-1-k+1)!} \\\\ &=& \\frac{(n-1)!}{(k-1)!(n-k)!} \\\\ &=& \\frac{n(n-1)!}{n(k-1)!(n-k)!} \\\\ &=& \\frac{n!}{n(k-1)!(n-k)!} \\\\ &=& \\frac{kn!}{kn(k-1)!(n-k)!} \\\\ &=& \\frac{kn!}{nk!(n-k)!} \\\\ &=& \\frac{k}{n}\\frac{n!}{k!(n-k)!} \\\\ &=& \\Big (\\frac{k}{n} \\Big ) \\begin{pmatrix} n\\\\ k \\end{pmatrix}. \\end{eqnarray}$$"
   ]
  },
  {
   "cell_type": "markdown",
   "metadata": {},
   "source": [
    "$\\;\\;\\;\\;$ c. Use part(b) and the fact, from (ii) in part(a), that $$ 1 = \\sum_{k=0}^n \\begin{pmatrix} n \\\\ k \\end{pmatrix} x^k (1-x)^{n-k}, \\; \\text{ for each } n,$$ to show that, for $f(x) = x^2$, $$B_n(x) = \\Big ( \\frac{n-1}{n} \\Big ) x^2 + \\frac{1}{n}x.$$"
   ]
  },
  {
   "cell_type": "markdown",
   "metadata": {},
   "source": [
    "$\\;\\;\\;\\;$ _Sol._ Using the $k^2 = k + k(k-1)$ identity, we find that $$\\begin{eqnarray} B_n(x) &=& \\sum_{k = 0}^n \\begin{pmatrix} n \\\\ k \\end{pmatrix} f \\begin{pmatrix} \\frac{k}{n} \\end{pmatrix} x^k (1-x)^{n-k} \\\\ &=&  \\sum_{k = 0}^n \\begin{pmatrix} n \\\\ k \\end{pmatrix} \\frac{k^2}{n^2} x^k (1-x)^{n-k} \\\\ &=& \\frac{1}{n} \\sum_{k = 0}^n \\begin{pmatrix} n \\\\ k \\end{pmatrix} \\frac{k^2}{n} x^k(1-x)^{n-k} \\\\ &=& [\\frac{1}{n} \\sum_{k=0}^n \\begin{pmatrix} n \\\\ k \\end{pmatrix} \\frac{k}{n}x^k(1-x)^{n-k}] + [\\frac{1}{n}\\sum_{k=0}^n \\begin{pmatrix} n \\\\ k \\end{pmatrix} \\frac{k(k-1)}{n}x^k(1-x)^{n-k}] \\\\ &=& \\frac{1}{n}x + \\begin{pmatrix} n-1 \\\\ n \\end{pmatrix}x^2. \\end{eqnarray}$$"
   ]
  },
  {
   "cell_type": "markdown",
   "metadata": {},
   "source": [
    "$\\;\\;\\;\\;$ d. Use part (c) to estimate the value of $n$ necessary for $|B_n(x) - x^2| \\leq 10^{-6}$ to hold for all $x$ in [0, 1]. "
   ]
  },
  {
   "cell_type": "markdown",
   "metadata": {},
   "source": [
    "$\\;\\;\\;\\;$ _Sol._ Let $g(x) = B_n(x)-x^2=\\frac{1}{n}x(1-x)$ which has a maximum value at $x=\\frac{1}{2}$ so we have that $$|g(x)|\\leq |g(\\frac{1}{2})| = \\frac{1}{4n}$$ for all $x\\in [0,\\;1]$. Therefore, $$\\frac{1}{4n} \\leq 10^{-6} \\Longleftrightarrow 4n\\geq10^6 \\Longleftrightarrow n\\geq250,000.$$"
   ]
  },
  {
   "cell_type": "markdown",
   "metadata": {},
   "source": [
    "(Section 3.2)"
   ]
  },
  {
   "cell_type": "markdown",
   "metadata": {},
   "source": [
    "1\\. Use Neville's method to obtain the approximations for Lagrange interpolating polynomials of degrees one, two, and three to approximate each of the following:"
   ]
  },
  {
   "cell_type": "markdown",
   "metadata": {},
   "source": [
    "$\\;\\;\\;\\;$ _Sol._ Using Professor Atzberger's python function of the Neville's Method, "
   ]
  },
  {
   "cell_type": "code",
   "execution_count": 11,
   "metadata": {},
   "outputs": [],
   "source": [
    "import math\n",
    "import numpy as np\n",
    "import matplotlib.pyplot as plt\n",
    "\n",
    "def neville(x, vec_x, vec_f, Q_table = None, i0 = -1, j0 = -1):\n",
    "    n = np.size(vec_x) - 1;  # x0, x1, ..., xn.\n",
    "    \n",
    "    if (Q_table == None):\n",
    "        Q_table = np.zeros((n + 1, n + 1))\n",
    "    \n",
    "    for i in np.arange(0, n + 1):\n",
    "        Q_table[i][0] = vec_f[i]\n",
    "    \n",
    "    for j in np.arange(1, n + 1):\n",
    "        for i in np.arange(j, n + 1):\n",
    "            # compute Q_{i,j}\n",
    "            Q_table[i][j]  = 0.0\n",
    "            Q_table[i][j] += (x - vec_x[i - j])*Q_table[i][j - 1]\n",
    "            Q_table[i][j] -= (x - vec_x[i])*Q_table[i - 1][j - 1]\n",
    "            Q_table[i][j] /= (vec_x[i] - vec_x[i - j])\n",
    "    \n",
    "    return [Q_table[n][n], Q_table]"
   ]
  },
  {
   "cell_type": "markdown",
   "metadata": {},
   "source": [
    "$\\;\\;\\;\\;$ a. $f(8.4) \\; \\text{if} \\; f(8.1) = 16.94410, \\; f(8.3) = 17.56492, \\; f(8.6) = 18.50515, \\; f(8.7) = 18.82091$"
   ]
  },
  {
   "cell_type": "code",
   "execution_count": 12,
   "metadata": {},
   "outputs": [
    {
     "name": "stdout",
     "output_type": "stream",
     "text": [
      "P_1(8.4) is 17.875329999999998\n",
      "P_2(8.4) is 17.87713\n",
      "P_3(8.4) is 17.877142500000005\n"
     ]
    }
   ],
   "source": [
    "print('P_1(8.4) is', neville(8.4, [8.1, 8.3], [16.94410, 17.56492])[0])\n",
    "print('P_2(8.4) is', neville(8.4, [8.1, 8.3, 8.6], [16.94410, 17.56492, 18.50515])[0])\n",
    "print('P_3(8.4) is', neville(8.4, [8.1, 8.3, 8.6, 8.7], [16.94410, 17.56492, 18.50515, 18.82091])[0])"
   ]
  },
  {
   "cell_type": "markdown",
   "metadata": {},
   "source": [
    "$\\;\\;\\;\\;$ b. $f(\\frac{-1}{3}) \\; \\text{if} \\; f(-0.75) = -0.07181250, \\; f(-0.5) = -0.02475000, \\; f(-0.25) = 0.33493750, \\; f(0) = 1.10100000$"
   ]
  },
  {
   "cell_type": "code",
   "execution_count": 13,
   "metadata": {},
   "outputs": [
    {
     "name": "stdout",
     "output_type": "stream",
     "text": [
      "P_1(-1/3) is 0.006625000000000006\n",
      "P_2(-1/3) is 0.18030555555555558\n",
      "P_3(-1/3) is 0.17451851851851855\n"
     ]
    }
   ],
   "source": [
    "print('P_1(-1/3) is', neville(-1/3, [-0.75, -0.5], [-0.07181250, -0.02475000])[0])\n",
    "print('P_2(-1/3) is', neville(-1/3, [-0.75, -0.5, -0.25], [-0.07181250, -0.02475000, 0.33493750])[0])\n",
    "print('P_3(-1/3) is', neville(-1/3, [-0.75, -0.5, -0.25, 0], [-0.07181250, -0.02475000, 0.33493750, 1.10100000])[0])"
   ]
  },
  {
   "cell_type": "markdown",
   "metadata": {},
   "source": [
    "3\\. Use Neville's method to approximate $\\sqrt{3}$ with the following functions and values. "
   ]
  },
  {
   "cell_type": "markdown",
   "metadata": {},
   "source": [
    "$\\;\\;\\;\\;$ a. $f(x) = 3^x$ and the values $x_0 = -2, \\; x_1 = -1, \\; x_2 = 0, \\; x_3 = 1, \\; \\text{and} \\; x_4 = 2.$"
   ]
  },
  {
   "cell_type": "code",
   "execution_count": 14,
   "metadata": {},
   "outputs": [
    {
     "name": "stdout",
     "output_type": "stream",
     "text": [
      "Neville's approximation is 1.70833333 as shown in the Q-table below: \n",
      "\n",
      " [[0.11111111 0.         0.         0.         0.        ]\n",
      " [0.33333333 0.66666667 0.         0.         0.        ]\n",
      " [1.         1.33333333 1.5        0.         0.        ]\n",
      " [3.         2.         1.83333333 1.77777778 0.        ]\n",
      " [9.         0.         1.5        1.66666667 1.70833333]]\n"
     ]
    }
   ],
   "source": [
    "f = lambda x: 3**x\n",
    "fa = [f(-2), f(-1), f(0), f(1), f(2)]\n",
    "\n",
    "print(\"Neville's approximation is 1.70833333 as shown in the Q-table below: \\n\\n\", neville(0.5, [-2, -1, 0, 1, 2], fa)[1])"
   ]
  },
  {
   "cell_type": "markdown",
   "metadata": {},
   "source": [
    "$\\;\\;\\;\\;$ b. $f(x) = \\sqrt{x}$ and the values $x_0 = 0, \\; x_1 = 1, \\; x_2 = 2, \\; x_3 = 4, \\; \\text{and} \\; x_4 = 5.$"
   ]
  },
  {
   "cell_type": "code",
   "execution_count": 15,
   "metadata": {},
   "outputs": [
    {
     "name": "stdout",
     "output_type": "stream",
     "text": [
      "Neville's approximation is 1.6906067 as shown in the Q-table below: \n",
      "\n",
      " [[0.         0.         0.         0.         0.        ]\n",
      " [1.         3.         0.         0.         0.        ]\n",
      " [1.41421356 1.82842712 1.24264069 0.         0.        ]\n",
      " [2.         1.70710678 1.7475469  1.62132034 0.        ]\n",
      " [2.23606798 1.76393202 1.72604853 1.73679771 1.69060676]]\n"
     ]
    }
   ],
   "source": [
    "f = lambda x: x**(1/2)\n",
    "fb = [f(0), f(1), f(2), f(4), f(5)]\n",
    "\n",
    "print(\"Neville's approximation is 1.6906067 as shown in the Q-table below: \\n\\n\", neville(3, [0, 1, 2, 4, 5], fb)[1])"
   ]
  },
  {
   "cell_type": "markdown",
   "metadata": {},
   "source": [
    "$\\;\\;\\;\\;$ c. Compare the accuracy of the approximation in parts (a) and (b). "
   ]
  },
  {
   "cell_type": "code",
   "execution_count": 16,
   "metadata": {},
   "outputs": [
    {
     "name": "stdout",
     "output_type": "stream",
     "text": [
      "Absolute error of part a is 0.023717474235543712\n",
      "Absolute error of part b is 0.04144404294576076\n",
      "Therefore according to the absolute errors above, part a is more accurate.\n"
     ]
    }
   ],
   "source": [
    "\n",
    "a = neville(0.5, [-2, -1, 0, 1, 2], fa)[0]\n",
    "b = neville(3, [0, 1, 2, 4, 5], fb)[0]\n",
    "print(\"Absolute error of part a is\", abs(sqrt(3) - a))\n",
    "print(\"Absolute error of part b is\", abs(sqrt(3) - b))\n",
    "print(\"Therefore according to the absolute errors above, part a is more accurate.\")"
   ]
  },
  {
   "cell_type": "markdown",
   "metadata": {},
   "source": [
    "6\\. Neville's method is used to approximate $f(0.5)$, giving the following table.\n",
    "\n",
    "| $x_0 = 0$  | $P_0 = 0$ | $\\;\\;\\;\\;\\;\\;$  | $\\;\\;\\;\\;\\;\\;$   | \n",
    "| -- | ------------- | ------------- | ------------- |\n",
    "| $x_1 = 0.4$ | $P_1 = 2.8$  | $P_{0,1} = 3.5$ |\n",
    "| $x_2 = 0.7$  | $P_2$ | $P_{1,2}$ |    $P_{0,1,2} = \\frac{27}{7}$   | \n",
    "\n",
    "Determine $P_2 = f(0.7).$"
   ]
  },
  {
   "cell_type": "markdown",
   "metadata": {},
   "source": [
    "$\\;\\;\\;\\;$ _Sol._ Since $P_0 = Q_{0,0}, \\; P_1 = Q_{1,0}, \\; P_2 = Q_{2,0}, \\; P_{0,3}=Q_{1,1}, \\; P_{1,2}=Q_{2,3}, \\; P_{0,1,2}=Q_{2,2}$ So, given $Q_{0,0}=0, \\; Q_{1,0}=2.8, \\; Q_{1,1}=3.5,\\; Q_{2,2}=\\frac{27}{7}$, $$Q_{2,2}(0.5) = \\frac{(0.5-0)Q_{2,1}-(0.5-0.7)(3.5)}{0.7-0} \\Longleftrightarrow 27/7 = \\frac{(0.5)Q_{2,1}+0.7}{0.7} \\Longleftrightarrow Q_{2,1}=4$$ and $$Q_{2,1}(0.5)=\\frac{(0.5-0.4)Q_{2,0}-(0.5-0.7)(2.8)}{(0.7-0.4} \\Longleftrightarrow 4 = \\frac{(0.1)Q_{2,1}+0.56}{0.3} \\Longleftrightarrow Q_{2,0}=6.4.$$ Therefore, $P_2 = 6.4$. "
   ]
  },
  {
   "cell_type": "markdown",
   "metadata": {},
   "source": [
    "12\\. Use iterated inverse interpolation to find an approximation to the solution of $x - e^{-x} = 0$, using the data \n",
    "\n",
    "| $x$  | 0.3 | 0.4  | 0.5   | 0.6 | \n",
    "| -- | ------------- | ------------- | ------------- | -----|\n",
    "| $e^{-x}$ | 0.740818 | 0.670320 | 0.606531 | 0.548812 | "
   ]
  },
  {
   "cell_type": "code",
   "execution_count": 17,
   "metadata": {},
   "outputs": [
    {
     "name": "stdout",
     "output_type": "stream",
     "text": [
      "[[ 3.00000000e-01  0.00000000e+00  0.00000000e+00  0.00000000e+00]\n",
      " [ 4.00000000e-01 -3.46410162e-01  0.00000000e+00  0.00000000e+00]\n",
      " [ 5.00000000e-01 -4.47213595e-01 -2.96042340e-15  0.00000000e+00]\n",
      " [ 6.00000000e-01 -5.47722558e-01  4.29588981e-15 -2.04787132e-14]]\n",
      "\n",
      "The required approximation is Q_{0, 1, 2, 4}(0) = 0.56714235.\n"
     ]
    }
   ],
   "source": [
    "def inverseNeville(x, vec_x, vec_f, Q_table = None, i0 = -1, j0 = -1):\n",
    "    n = np.size(vec_x) - 1;  # x0, x1, ..., xn.\n",
    "    \n",
    "    if (Q_table == None):\n",
    "        Q_table = np.zeros((n + 1, n + 1))\n",
    "    \n",
    "    for i in np.arange(0, n + 1):\n",
    "        Q_table[i][0] = vec_x[i]\n",
    "    \n",
    "    for j in np.arange(1, n + 1):\n",
    "        for i in np.arange(j, n + 1):\n",
    "            # compute Q_{i,j}\n",
    "            Q_table[i][j]  = 0\n",
    "            Q_table[i][j] += (vec_f[i])*Q_table[i-1][j - 1]\n",
    "            Q_table[i][j] -= (vec_f[i-j])*Q_table[i][j - 1]\n",
    "            Q_table[i][j] /= (vec_f[i] - vec_f[i - j])\n",
    "    \n",
    "    return [Q_table[n][n], Q_table]\n",
    "\n",
    "print(inverseNeville(0, [0.3, 0.4, 0.5, 0.6], [f(0.3), f(0.4), f(0.5), f(0.6)])[1])\n",
    "print(\"\\nThe required approximation is Q_{0, 1, 2, 4}(0) = 0.56714235.\")"
   ]
  }
 ],
 "metadata": {
  "kernelspec": {
   "display_name": "Python 3",
   "language": "python",
   "name": "python3"
  },
  "language_info": {
   "codemirror_mode": {
    "name": "ipython",
    "version": 3
   },
   "file_extension": ".py",
   "mimetype": "text/x-python",
   "name": "python",
   "nbconvert_exporter": "python",
   "pygments_lexer": "ipython3",
   "version": "3.6.8"
  }
 },
 "nbformat": 4,
 "nbformat_minor": 2
}
