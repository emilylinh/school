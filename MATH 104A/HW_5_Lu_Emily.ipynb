{
 "cells": [
  {
   "cell_type": "markdown",
   "metadata": {},
   "source": [
    "## <center> MATH 104A - Homework 5 \n",
    "#### <center>By Emily Lu "
   ]
  },
  {
   "cell_type": "markdown",
   "metadata": {},
   "source": [
    "(Section 3.3)"
   ]
  },
  {
   "cell_type": "markdown",
   "metadata": {},
   "source": [
    "1\\. Use Eq. (3.10) or Algorithm 3.2 to construct interpolating polynomials of degree one, two, and three\n",
    "for the following data. Approximate the specified value using each of the polynomials."
   ]
  },
  {
   "cell_type": "code",
   "execution_count": 10,
   "metadata": {},
   "outputs": [],
   "source": [
    "import math\n",
    "import numpy as np\n",
    "\n",
    "\n",
    "def dividedDiff(x, vec_x, vec_f):\n",
    "#     n = np.size(vec_x)  # x0, x1, ..., xn.\n",
    "#     F = np.zeros((n, n+1))\n",
    "#     F[:,0] = vec_x[:]\n",
    "#     F[:,1] = vec_f[:]\n",
    "    \n",
    "#     for j in np.arange(2, n + 1):\n",
    "#         for i in np.arange(j-1, n):\n",
    "#             F[i, j] = (F[i, j - 1] - F[i - 1, j - 1])/(F[i,0] - F[i-j+1, 0])\n",
    "\n",
    "#     P = np.zeros(n)\n",
    "#     for k in range(0, n):\n",
    "#         P[k] = F[k, k+1]\n",
    "    \n",
    "#     f = lambda x: sum([P[i]*(x - vec[i])])\n",
    "    \n",
    "    \n",
    "    \n",
    "    return P\n",
    "    "
   ]
  },
  {
   "cell_type": "markdown",
   "metadata": {},
   "source": [
    "$\\;\\;\\;\\;$ a. $f(8.4) \\; \\text{if} \\; f(8.1) = 16.94410, \\; f(8.3) = 17.56492, \\; f(8.6) = 18.50515, \\; f(8.7) = 18.82091$\n"
   ]
  },
  {
   "cell_type": "code",
   "execution_count": 12,
   "metadata": {},
   "outputs": [
    {
     "name": "stdout",
     "output_type": "stream",
     "text": [
      "P_1(8.4) is\n",
      " [16.9441  3.1041]\n"
     ]
    }
   ],
   "source": [
    "print('P_1(8.4) is\\n', dividedDiff(8.4, [8.1, 8.3], [16.94410, 17.56492]))\n",
    "# print('P_2(8.4) is', neville(8.4, [8.1, 8.3, 8.6], [16.94410, 17.56492, 18.50515])[0])\n",
    "# print('P_3(8.4) is', neville(8.4, [8.1, 8.3, 8.6, 8.7], [16.94410, 17.56492, 18.50515, 18.82091])[0])"
   ]
  },
  {
   "cell_type": "markdown",
   "metadata": {},
   "source": [
    "$\\;\\;\\;\\;$ b. $f(0.9) \\; \\text{if} \\; f(0.6) = -0.17694460, \\; f(0.7) = 0.01375227, \\; f(0.8) = 0.22363362, \\; f(1.0) = 0.65809197$"
   ]
  },
  {
   "cell_type": "markdown",
   "metadata": {},
   "source": [
    "3\\. Use the Newton forward-difference formula to construct interpolating polynomials of degree one,\n",
    "two, and three for the following data. Approximate the specified value using each of the polynomials."
   ]
  },
  {
   "cell_type": "markdown",
   "metadata": {},
   "source": [
    "$\\;\\;\\;\\;$ a. $f(\\frac{-1}{3}) \\; \\text{if} \\; f(-0.75) = -0.07181250, \\; f(-0.5) = -0.02475000, \\; f(-0.25) = 0.33493750, \\; f(0) = 1.10100000$"
   ]
  },
  {
   "cell_type": "markdown",
   "metadata": {},
   "source": [
    "$\\;\\;\\;\\;$ b. $f(0.25) \\; \\text{if} \\; f(0.1) = -0.6249958,\\; f(0.2) = -0.28398668,\\; f(0.3) = 0.00660095,\\; f(0.4) = 0.24842440$  "
   ]
  },
  {
   "cell_type": "markdown",
   "metadata": {},
   "source": [
    "4\\. Use the Newton forward-difference formula to construct interpolating polynomials of degree one,\n",
    "two, and three for the following data. Approximate the specified value using each of the polynomials.\n",
    "\n",
    "$\\;\\;\\;\\;$ a. $f(0.43) \\; \\text{if} \\; f(0)=1,\\; f(0.25)=1.64872,\\; f(0.5)=2.71828,\\; f(0.75)=4.48169$\n",
    "\n",
    "$\\;\\;\\;\\;$ b. $f(0.18) \\; \\text{if} \\; f(0.1) = -0.29004986,\\; f(0.2) = -0.56079734, \\; f(0.3) = -0.81401972,\\; f(0.4) = -1.0526302$"
   ]
  },
  {
   "cell_type": "markdown",
   "metadata": {},
   "source": [
    "7\\. a. Use Algorithm 3.2 to construct the interpolating polynomial of degree three for the unequally\n",
    "spaced points given in the following table;\n"
   ]
  },
  {
   "cell_type": "markdown",
   "metadata": {},
   "source": [
    "x | $f(x)$ | \n",
    "--|------- |\n",
    "-0.1 | 5.30000 | \n",
    "0.0 | 2.00000 | \n",
    "0.2 | 3.19000 | \n",
    "0.3 | 1.00000 | "
   ]
  },
  {
   "cell_type": "markdown",
   "metadata": {},
   "source": [
    "$\\;\\;\\;\\;$ b. Add $f(0.35) = 0.97260$ to the table and construct the interpolating polynomial of degree four. "
   ]
  },
  {
   "cell_type": "markdown",
   "metadata": {},
   "source": [
    "10\\. a. Approximate $f(-0.05)$ using the following data and the Newton forward difference formula: \n",
    "\n",
    "x | -1.2 | -0.9 | -0.6 | -0.3 | 0.0 |\n",
    "-------- | --- | ---- | ---- | ---- | --- |\n",
    "$f(x)\\;$| 0.18232 | -0.105083 | -0.51036 | -1.20397 | -3.12145 | "
   ]
  },
  {
   "cell_type": "markdown",
   "metadata": {},
   "source": [
    "$\\;\\;\\;\\;$ b. Use the Newton backward-difference formula to approximate $f(-0.2)$."
   ]
  },
  {
   "cell_type": "markdown",
   "metadata": {},
   "source": [
    "$\\;\\;\\;\\;$ c. Use Stirling's formula to approximate $f(-0.43)$."
   ]
  },
  {
   "cell_type": "markdown",
   "metadata": {},
   "source": [
    "12\\. The following data are given for a polynomial $P(x)$ of unknown degree. \n",
    "\n",
    " |  |  |  | | \n",
    "--- | -- | -- | -- | -- |\n",
    "$x$ | 0 | 1 | 2 | 3| \n",
    "$P(x)\\;$ | 4 | 9 | 15 | 18 |"
   ]
  },
  {
   "cell_type": "markdown",
   "metadata": {},
   "source": [
    "18\\. The fastest time ever recorded in the Kentucky Derby was by a horse named Secretariat in 1973. He\n",
    "covered the $1\\frac{1}{4}$ mile track in 1:59$\\frac{2}{5}$ (1 minute and 59.4 seconds). Times at the quarter-mile, half-mile, and mile poles were 0:25$\\frac{1}{5},\\;$ 0:49$\\frac{1}{5},$ and 1:36$\\frac{2}{5}$."
   ]
  },
  {
   "cell_type": "markdown",
   "metadata": {},
   "source": [
    "$\\;\\;\\;\\;$ a. Use interpolation to predict the time at the three-quarter mile pole and compare this to the actual\n",
    "time of 1:13."
   ]
  },
  {
   "cell_type": "markdown",
   "metadata": {},
   "source": [
    "$\\;\\;\\;\\;$ b. Use the derivative of the interpolating polynomial to estimate the speed of Secretariat at the end\n",
    "of the race."
   ]
  },
  {
   "cell_type": "markdown",
   "metadata": {},
   "source": [
    "(Section 3.4) "
   ]
  },
  {
   "cell_type": "markdown",
   "metadata": {},
   "source": [
    "1\\. Use Theorem 3.9 or Algorithm 3.3 to construct an approximating polynomial for the following data"
   ]
  },
  {
   "cell_type": "markdown",
   "metadata": {},
   "source": [
    "$\\;\\;\\;\\;$ a. \n",
    "\n",
    "$x$ | $f(x)$ | $f'(x)$ | \n",
    "--- | ------ | ------- | \n",
    "8.3 | 17.56492 | 3.116256 | \n",
    "8.6 | 18.50515 | 3.151762 | "
   ]
  },
  {
   "cell_type": "markdown",
   "metadata": {},
   "source": [
    "$\\;\\;\\;\\;$ c.\n",
    "\n",
    "$x$ | $f(x)$ | $f'(x)$ | \n",
    "--- | ------ | ------- | \n",
    "-0.5 | -0.0247500 | 0.7510000 | \n",
    "-0.25 | 0.3349375 | 2.1890000 | \n",
    "0 | 1.1010000 | 4.0020000 | "
   ]
  },
  {
   "cell_type": "markdown",
   "metadata": {},
   "source": [
    "3\\. The data in Exercise I were generated using the following functions. Use the polynomials constructed in Exercise 1 for the given value of $x$ to approximate $f(x)$ and calculate the absolute error. "
   ]
  },
  {
   "cell_type": "markdown",
   "metadata": {},
   "source": [
    "$\\;\\;\\;\\;$ a. $f(x) = x\\ln x;$ approximate $f(8.4)$."
   ]
  },
  {
   "cell_type": "markdown",
   "metadata": {},
   "source": [
    "$\\;\\;\\;\\;$ c.$f(x) = x^3 + 4.001^2 + 4.0002x + 1.101;$ approximate $f(-1/3)$."
   ]
  },
  {
   "cell_type": "markdown",
   "metadata": {},
   "source": [
    "10\\. Let $z_0 = x_0, \\; z_1 = x_0, \\; z_2 = x_1,$ and $z_3 = x_1$. Form the following divided-difference table. "
   ]
  },
  {
   "cell_type": "markdown",
   "metadata": {},
   "source": [
    " | | | | \n",
    "---|----| ---- | ---- | ---- |\n",
    "$z_0 = x_0\\;\\;\\;\\;$ | $f[z_0] = f(x_0)\\;\\;\\;\\;\\;\\;$ | | | \n",
    " | | $f[z_0,\\; z_1] = f'(x_0)\\;\\;\\;\\;\\;\\;\\;\\;$ | | | \n",
    "$z_1 = x_0\\;\\;$ | $f[z_1] = f(x_0)\\;$ | | $f[z_0,\\; z_1,\\; z_2]\\;\\;\\;\\;$ | | \n",
    " | | $f[z_1,\\; z_2]\\;\\;$ | | | $f[z_0,\\; z_1,\\; z_2,\\; z_3]\\;\\;\\;\\;\\;\\;$ | \n",
    "$z_2 = x_1\\;\\;$ | $f[z_2] = f(x_1)\\;\\;$ | | $f[z_1,\\;z_2,\\;, z_3]\\;\\;\\;\\;\\;\\;$ | | \n",
    " | | $f[z_2,\\; z_3] = f'(x_1)\\;\\;$ | | | \n",
    "$z_3 = x_1\\;\\;$ | $f[z_3] = f(x_1)\\;\\;$ | | | |"
   ]
  },
  {
   "cell_type": "markdown",
   "metadata": {},
   "source": [
    "11\\. a. Show that $H_{2n+1}(x)$ is the unique polynomial of least degree agreeing with $f$ and $f'$ at $x_0,...,x_n.$ [_Hint_: Assume that $P(x)$ is another polynomial and consider $D = H_{2n+1} - P$ and $D'$ and $x_0,x_1,...,x_n.$]"
   ]
  },
  {
   "cell_type": "markdown",
   "metadata": {},
   "source": [
    "$\\;\\;\\;\\;$ b. Derive the error term in Theorem 3.9. [_Hint_: Use the same method as in the Lagrange error derivation, Theorem 3.3, defining $$g(t) = f(t) - H_{2n+1}(t) - \\frac{(t-x_0)^2...(t-x_n)^2}{(x-x_0)^2...(x-x_n)^2}[f(x) - H_{2n+1}(x)]$$ and using the fact that $g'(t)$ has $(2n+2)$ _distinct_ zeros in $[a,\\;b]$.]"
   ]
  },
  {
   "cell_type": "code",
   "execution_count": null,
   "metadata": {},
   "outputs": [],
   "source": []
  }
 ],
 "metadata": {
  "kernelspec": {
   "display_name": "Python 3",
   "language": "python",
   "name": "python3"
  },
  "language_info": {
   "codemirror_mode": {
    "name": "ipython",
    "version": 3
   },
   "file_extension": ".py",
   "mimetype": "text/x-python",
   "name": "python",
   "nbconvert_exporter": "python",
   "pygments_lexer": "ipython3",
   "version": "3.6.8"
  }
 },
 "nbformat": 4,
 "nbformat_minor": 2
}
