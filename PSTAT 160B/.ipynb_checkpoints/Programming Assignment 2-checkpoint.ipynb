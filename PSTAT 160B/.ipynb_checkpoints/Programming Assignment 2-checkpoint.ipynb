{
 "cells": [
  {
   "cell_type": "code",
   "execution_count": 1,
   "metadata": {},
   "outputs": [],
   "source": [
    "import numpy as np\n",
    "from numpy import linalg\n",
    "from scipy.linalg import expm"
   ]
  },
  {
   "cell_type": "markdown",
   "metadata": {},
   "source": [
    "1. Until T = 100, simulate a continuous-time Markov chain with generator matrix Q, starting from state 1. Find the stationary distribution by calculating the share of time spent in each state. Compare with the theoretical value."
   ]
  },
  {
   "cell_type": "code",
   "execution_count": 2,
   "metadata": {},
   "outputs": [
    {
     "name": "stdout",
     "output_type": "stream",
     "text": [
      "[0.5792756231961823, 0.11657500510271701, 0.31010426871398394]\n"
     ]
    }
   ],
   "source": [
    "np.random.seed(2)  # Seeds the generator\n",
    "Q = np.array([[-3,1,2], [2,-5,3], [5,0,-5]])  # Generator matrix\n",
    "\n",
    "pi = {s:0 for s in range(3)}  # Dictionary of share of time spent in each state\n",
    "T = 0 \n",
    "state = 0\n",
    "while T < 100:    \n",
    "    timesT = {s:0 for s in range(3)}  \n",
    "    for i in range(3):\n",
    "        if Q[state][i] <= 0:\n",
    "            timesT[i] = math.inf\n",
    "        else:\n",
    "            timesT[i] = np.random.exponential(1/(Q[state][i]))  # Simulated Exponential Clocks\n",
    "    interTime = min(timesT.values())  # Time spent in current state before moving to next state\n",
    "    \n",
    "    for i in range(3):  # Searches for which state does the interTime belongs to\n",
    "        if timesT[i] == interTime:  \n",
    "            pi[state] += interTime  # Sum of time spent in current state\n",
    "            state = i  # Next state\n",
    "            break\n",
    "    \n",
    "    T += interTime\n",
    "\n",
    "for i in range(3):\n",
    "    pi[i] /= 100\n",
    "\n",
    "print(list(pi.values()))  # Stationary Distribution"
   ]
  },
  {
   "cell_type": "code",
   "execution_count": 3,
   "metadata": {},
   "outputs": [
    {
     "data": {
      "text/plain": [
       "[0.581395348837152, 0.11627906976743044, 0.3023255813953194]"
      ]
     },
     "execution_count": 3,
     "metadata": {},
     "output_type": "execute_result"
    }
   ],
   "source": [
    "# Theoretical value of Stationary Distribution until T = 100\n",
    "list(expm(100*Q)[1]) "
   ]
  },
  {
   "cell_type": "markdown",
   "metadata": {},
   "source": [
    "Alternatively, <br/>\n",
    "$-3\\pi_{1} + 2\\pi_{2} + 5\\pi_{3} = 0$ <br/>\n",
    "$\\pi_{1} - 5\\pi_{2} = 0$ <br/>\n",
    "$2\\pi_{1} + 3\\pi_{2} - 5\\pi_{3} = 0$ <br/>\n",
    "$\\pi_{1} + \\pi_{2} + \\pi_{3} = 1$. <br/>\n",
    "Solving the system of linear equations, we get $\\pi_{1} = \\frac{25}{43} \\approx 0.581395$, $\\pi_{2} = \\frac{5}{43} \\approx 0.116279$, and $\\pi_{3} = \\frac{13}{43} \\approx 0.302325$. "
   ]
  },
  {
   "cell_type": "markdown",
   "metadata": {},
   "source": [
    "2. Simulate 1000 times, starting from state 2, a continuous-time Markov chain with generator matrix, Q. Find the empirical distribution of this chain at time t = 2. Compare with the theoretical value."
   ]
  },
  {
   "cell_type": "code",
   "execution_count": 4,
   "metadata": {},
   "outputs": [
    {
     "name": "stdout",
     "output_type": "stream",
     "text": [
      "[0.402, 0.598]\n"
     ]
    }
   ],
   "source": [
    "np.random.seed(2) # Seed the generator \n",
    "Q = np.array([[-3,3],[2,-2]]) # Generator Matrix\n",
    "\n",
    "proportions = {s:0 for s in range(2)}  # Dictionary of number of times spent in each state\n",
    "\n",
    "for k in range(1000):\n",
    "    T = 0 \n",
    "    n = 1 # Starts at state 2\n",
    "    while T < 2:\n",
    "        n = state \n",
    "        timesT = {s:0 for s in range(2)}  \n",
    "        for i in range(2):\n",
    "            if Q[n][i] <= 0:\n",
    "                timesT[i] = math.inf\n",
    "            else:\n",
    "                timesT[i] = np.random.exponential(1/(Q[state][i]))  # Simulated Exponential Clocks\n",
    "        interTime = min(timesT.values())  # Time spent in current state before moving to next state\n",
    "\n",
    "        for j in range(2):  # Searches for which state does the interTime belongs to\n",
    "            if timesT[j] == interTime:  \n",
    "                state = j  # Next state\n",
    "                break\n",
    "        T += interTime\n",
    "    proportions[n] += 1 # Adds up the count of which state is at t=2\n",
    "            \n",
    "for i in range(2):\n",
    "    proportions[i] /= 1000\n",
    "\n",
    "print(list(proportions.values()))   "
   ]
  },
  {
   "cell_type": "markdown",
   "metadata": {},
   "source": [
    "Computation of Theoretical Value:  \n",
    "\n",
    "First, solve for stationary distribution. $\\pi A = 0$.  $-3\\pi_{1} + 2\\pi_{2} = 0$ implies $\\pi_{1} = \\frac{2}{3}\\pi_{2}$  \n",
    "\n",
    "Plugging into $\\begin{eqnarray} \\pi_{1}+\\pi_{2}=1\\end{eqnarray}$ gives us $\\pi_{1} = \\frac{2}{5}$ and $\\pi_{2} = \\frac{3}{5}$, so $\\pi = [\\frac{2}{5} \\;\\; \\frac{3}{5}] $. \n"
   ]
  },
  {
   "cell_type": "markdown",
   "metadata": {},
   "source": [
    "Then we solve for the eigenvalues of Q: det$(A-\\lambda I_{2}) = 0$ so $\\lambda^{2} + 5\\lambda = 0$ which gives us $\\lambda_{1,2} = 0, -5$. Afterwards, we find the eigenvectors corresponding to $\\lambda_{2} = -5$ which is $u = [1 \\;\\;\\; -1]$ since $\\lambda_{1} = \\pi$. Next, we find $x(0) = c_{1}\\pi + c_{2}u$ which gives us $c_{1} = 1$ and $c_{2} = \\frac{-2}{5}$."
   ]
  },
  {
   "cell_type": "markdown",
   "metadata": {},
   "source": [
    "Therefore, $x_{1}(2) = \\frac{2}{5} + \\frac{-2}{5}e^{-10} \\approx 0.39998$ and $x_{2}(2) = \\frac{3}{5} + \\frac{-2}{5}e^{-10} \\approx 0.59998$. The rate of convergence is $e^{-10}$ since $t=2$. "
   ]
  }
 ],
 "metadata": {
  "kernelspec": {
   "display_name": "Python 3",
   "language": "python",
   "name": "python3"
  },
  "language_info": {
   "codemirror_mode": {
    "name": "ipython",
    "version": 3
   },
   "file_extension": ".py",
   "mimetype": "text/x-python",
   "name": "python",
   "nbconvert_exporter": "python",
   "pygments_lexer": "ipython3",
   "version": "3.6.8"
  }
 },
 "nbformat": 4,
 "nbformat_minor": 2
}
