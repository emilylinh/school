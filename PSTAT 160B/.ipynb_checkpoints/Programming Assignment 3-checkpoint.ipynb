{
 "cells": [
  {
   "cell_type": "markdown",
   "metadata": {},
   "source": [
    "### <center> Simulation of Stock Prices Modeled as Geometric Brownian Motion\n",
    "#### <center> Emily Lu"
   ]
  },
  {
   "cell_type": "code",
   "execution_count": 1,
   "metadata": {},
   "outputs": [],
   "source": [
    "import numpy as np"
   ]
  },
  {
   "cell_type": "markdown",
   "metadata": {},
   "source": [
    "1. The price of a stock is modeled as a geometric Brownian motion with drift $\\mu = −0.85$ and variance $\\sigma^{2} = 2.4$. If the current price is $\\$50$, find the probability that the price is under $\\$40$ in 2 years. Simulate the stock price, and compare with the exact value."
   ]
  },
  {
   "cell_type": "code",
   "execution_count": 2,
   "metadata": {},
   "outputs": [
    {
     "name": "stdout",
     "output_type": "stream",
     "text": [
      "0.738\n"
     ]
    }
   ],
   "source": [
    "np.random.seed(1) # Seeds the generator\n",
    "pUnder40 = 0 \n",
    "\n",
    "for i in range(1000): # 1000 trials \n",
    "    B2 = np.random.normal(0, np.sqrt(2)) # Simulation of standard Brownian Motion\n",
    "    S2 = 50*np.exp(-0.85*2 + np.sqrt(2.4)*B2) # Stock price in 2 years\n",
    "    if S2 < 40: \n",
    "        pUnder40 += 1 # Adds up counts of stock price under $40\n",
    "\n",
    "print(pUnder40/1000) # Probability of Stock Price being under $40 in 2 years"
   ]
  },
  {
   "cell_type": "markdown",
   "metadata": {},
   "source": [
    "Exact value:   \n",
    "Let $S_{t}$ denote the stock price at time $t$. In general, $S_{t} = S_{0}e^{X_{t}}$ where $X_{t}= -0.85t + \\sqrt{2.4}B_{t}$. Then the probability that the price is under \\$40 in 2 years is   \n",
    "\n",
    "$\\begin{eqnarray} P(S_{2} \\leq 40) & = & P(50e^{-1.7 + \\sqrt{2.4}B_{2}} \\leq 40) \\\\  \n",
    "& = & P(e^{-1.7 + \\sqrt{2.4}B_{2}} \\leq \\frac{4}{5}) \\\\  \n",
    "& = & P(B_{2} \\leq \\frac{ln(\\frac{4}{5}) + 1.7}{\\sqrt{2.4}})  \\\\\n",
    "& = & P(Z \\leq \\frac{\\frac{ln(\\frac{4}{5}) + 1.7}{\\sqrt{2.4}}}{\\sqrt{2}}) \\; \\; \\; \\; given \\; Z= \\frac{B_{2}}{\\sqrt{2}} \\sim N(0,1) \\\\ \n",
    "& = & \\Phi(0.67) \\; \\approx \\; 0.7486\\end{eqnarray}$  "
   ]
  },
  {
   "cell_type": "markdown",
   "metadata": {},
   "source": [
    "2. Find an empirical fair price of a *barrier option* which pays $\\$1$ if the price of a stock at some time until maturity $T = 2.5$ exceeds $K = 2$, if the initial price is $S_{0} = 1.4$, and the volatility is $\\sigma = 0.4$. Use step size 0.01 and 1000 simulations. \n"
   ]
  },
  {
   "cell_type": "code",
   "execution_count": 3,
   "metadata": {},
   "outputs": [
    {
     "name": "stdout",
     "output_type": "stream",
     "text": [
      "0.446\n"
     ]
    }
   ],
   "source": [
    "np.random.seed(9) # Seeds the generator\n",
    "\n",
    "def fairPrice(): # Function for simulating fair price of binary barrier option\n",
    "    t = 0 \n",
    "    fp = 0 # Fair price if stock price never exceeds K=2 \n",
    "    Bt = 0\n",
    "    while t < 2.5: # Loops until maturity \n",
    "        Bt += 0.1*np.random.normal(0, 1) # Calculates BM for each t\n",
    "        t += 0.01 # Increments of time t \n",
    "        St = 1.4*np.exp(-0.08*t + 0.4*Bt) # Stock price \n",
    "        if St > 2: \n",
    "            fp = 1 # Fair price if stock price exceeds K=2\n",
    "            break\n",
    "    return fp\n",
    "\n",
    "count = 0 \n",
    "for i in range(1000):\n",
    "    count += fairPrice() # Sum of prices within the 1000 trials \n",
    "\n",
    "print(count/1000) # Empirical Fair Price of Binary Barrier Option"
   ]
  }
 ],
 "metadata": {
  "kernelspec": {
   "display_name": "Python 3",
   "language": "python",
   "name": "python3"
  },
  "language_info": {
   "codemirror_mode": {
    "name": "ipython",
    "version": 3
   },
   "file_extension": ".py",
   "mimetype": "text/x-python",
   "name": "python",
   "nbconvert_exporter": "python",
   "pygments_lexer": "ipython3",
   "version": "3.6.8"
  }
 },
 "nbformat": 4,
 "nbformat_minor": 2
}
