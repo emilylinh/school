{
 "cells": [
  {
   "cell_type": "markdown",
   "metadata": {},
   "source": [
    "### Simulation of Stochastic Epidemic Model"
   ]
  },
  {
   "cell_type": "markdown",
   "metadata": {},
   "source": [
    "This project serves to demonstrate the integration of continuous-time Markov Chains (CTMCs) and edpidemic Models. More specificially, we will be simulating a SIR (Susceptible, Infectious & Recovered) stochastic model.\n",
    "\n",
    "Let $S(t)$, $I(t)$ and $R(t)$ demonstrate the number of susceptible, infectious and recovered individuals, respectively. The total population size will be constant, $ N = S(t) + I(t) + R(t)$, and the disease free equilibrium is $S = N$ &  $I = R = 0$. For the simplest model, there are only two possible outcomes: infection and recovery. \n",
    "\n",
    "Useful variables for simulating the SIR epidemic models are: \n",
    "* transmission rate $\\beta$\n",
    "* recovery rate $\\gamma$\n",
    "\n",
    "In the simulations below, the parameter values used are $\\beta = 0.3$, $\\gamma = 0.15$ and $N = 750$. Initial conditions are $S(0) = 748$ and $I(0) = 2$. "
   ]
  },
  {
   "cell_type": "code",
   "execution_count": 1,
   "metadata": {},
   "outputs": [],
   "source": [
    "import numpy as np\n",
    "import matplotlib.pyplot as plt\n",
    "\n",
    "# Allows to render plots directly within the notebook\n",
    "%matplotlib inline\n",
    "\n",
    "# Rate of transmission\n",
    "beta = np.float64(0.3) \n",
    "\n",
    "# Recovery rate \n",
    "gamma = np.float64(0.15) "
   ]
  },
  {
   "cell_type": "code",
   "execution_count": 2,
   "metadata": {
    "scrolled": false
   },
   "outputs": [
    {
     "name": "stderr",
     "output_type": "stream",
     "text": [
      "/Users/Emily/anaconda3/lib/python3.6/site-packages/ipykernel_launcher.py:33: RuntimeWarning: divide by zero encountered in double_scalars\n",
      "/Users/Emily/anaconda3/lib/python3.6/site-packages/ipykernel_launcher.py:14: RuntimeWarning: invalid value encountered in double_scalars\n",
      "  \n",
      "/Users/Emily/anaconda3/lib/python3.6/site-packages/ipykernel_launcher.py:17: RuntimeWarning: invalid value encountered in double_scalars\n"
     ]
    }
   ],
   "source": [
    "# Population size\n",
    "N = np.float64(750)\n",
    "\n",
    "# Initial values of Susceptible, Infected, Recovered\n",
    "S, I, R = np.float64(712), np.float64(38), np.float64(0) \n",
    "\n",
    "# Start time\n",
    "t = np.float64(0.0) \n",
    "\n",
    "val = [[S], [I], [R], [t]]\n",
    "\n",
    "while True:\n",
    "    # Probability of Infecting another Individual\n",
    "    pI = (beta*S*I/N)/(beta*S*I/N+gamma*I)\n",
    "\n",
    "    # Probability of Recovery \n",
    "    pR = (gamma*I)/(beta*S*I/N+gamma*I)\n",
    "    \n",
    "    if I == 0:\n",
    "        break \n",
    "    \n",
    "    if np.random.uniform(0,1) >= pR:\n",
    "        I = I - 1\n",
    "        R = R + 1\n",
    "    else:\n",
    "        S = S - 1\n",
    "        I = I + 1\n",
    "    \n",
    "    # Parameter of Interevent Time \n",
    "    lam = beta*I*S/N + gamma*I\n",
    "    \n",
    "    # Interevent Time \n",
    "    interT = -np.log(np.random.uniform(0,1))/lam \n",
    "    t += interT\n",
    "\n",
    "    val[0].append(S)\n",
    "    val[1].append(I)\n",
    "    val[2].append(R)\n",
    "    val[3].append(t)"
   ]
  },
  {
   "cell_type": "code",
   "execution_count": 3,
   "metadata": {},
   "outputs": [
    {
     "data": {
      "text/plain": [
       "Text(0.5,0,'Time (Days)')"
      ]
     },
     "execution_count": 3,
     "metadata": {},
     "output_type": "execute_result"
    },
    {
     "data": {
      "image/png": "[encoded data removed]",
      "text/plain": [
       "<Figure size 432x288 with 1 Axes>"
      ]
     },
     "metadata": {},
     "output_type": "display_data"
    }
   ],
   "source": [
    "# Plotting of the SIR CTMC model\n",
    "plt.plot(val[3], val[0], color = 'r', label = 'Susceptible')\n",
    "plt.plot(val[3], val[1], color = 'g', label = 'Infected')\n",
    "plt.plot(val[3], val[2], color = 'b', label = 'Recovered')\n",
    "legend = plt.legend()\n",
    "plt.title('SIR Stochastic Model')\n",
    "plt.ylabel('Number of Individuals')\n",
    "plt.xlabel('Time (Days)')"
   ]
  },
  {
   "cell_type": "markdown",
   "metadata": {},
   "source": [
    "__Another Simulation Sample:__"
   ]
  },
  {
   "cell_type": "code",
   "execution_count": 4,
   "metadata": {},
   "outputs": [
    {
     "name": "stderr",
     "output_type": "stream",
     "text": [
      "/Users/Emily/anaconda3/lib/python3.6/site-packages/ipykernel_launcher.py:33: RuntimeWarning: divide by zero encountered in double_scalars\n",
      "/Users/Emily/anaconda3/lib/python3.6/site-packages/ipykernel_launcher.py:14: RuntimeWarning: invalid value encountered in double_scalars\n",
      "  \n",
      "/Users/Emily/anaconda3/lib/python3.6/site-packages/ipykernel_launcher.py:17: RuntimeWarning: invalid value encountered in double_scalars\n"
     ]
    }
   ],
   "source": [
    "# Population size\n",
    "N = np.float64(100)\n",
    "\n",
    "# Initial values of Susceptible, Infected, Recovered\n",
    "S, I, R = np.float64(95), np.float64(5), np.float64(0) \n",
    "\n",
    "# Start time\n",
    "t = np.float64(0.0) \n",
    "\n",
    "val = [[S], [I], [R], [t]]\n",
    "\n",
    "while True:\n",
    "    # Probability of Infecting another Individual\n",
    "    pI = (beta*S*I/N)/(beta*S*I/N+gamma*I)\n",
    "\n",
    "    # Probability of Recovery \n",
    "    pR = (gamma*I)/(beta*S*I/N+gamma*I)\n",
    "    \n",
    "    if I == 0:\n",
    "        break \n",
    "    \n",
    "    if np.random.uniform(0,1) <= pR:\n",
    "        I = I - 1\n",
    "        R = R + 1\n",
    "    else:\n",
    "        S = S - 1\n",
    "        I = I + 1\n",
    "    \n",
    "    # Parameter of Interevent Time \n",
    "    lam = beta*I*S/N + gamma*I\n",
    "    \n",
    "    # Interevent Time \n",
    "    interT = -np.log(np.random.uniform(0,1))/lam \n",
    "    t += interT\n",
    "\n",
    "    val[0].append(S)\n",
    "    val[1].append(I)\n",
    "    val[2].append(R)\n",
    "    val[3].append(t)"
   ]
  },
  {
   "cell_type": "code",
   "execution_count": 5,
   "metadata": {},
   "outputs": [
    {
     "data": {
      "text/plain": [
       "Text(0.5,0,'Time (Days)')"
      ]
     },
     "execution_count": 5,
     "metadata": {},
     "output_type": "execute_result"
    },
    {
     "data": {
      "image/png": "[encoded data removed]",
      "text/plain": [
       "<Figure size 432x288 with 1 Axes>"
      ]
     },
     "metadata": {},
     "output_type": "display_data"
    }
   ],
   "source": [
    "# Plotting of the SIR CTMC model\n",
    "plt.plot(val[3], val[0], color = 'r', label = 'Susceptible')\n",
    "plt.plot(val[3], val[1], color = 'g', label = 'Infected')\n",
    "plt.plot(val[3], val[2], color = 'b', label = 'Recovered')\n",
    "legend = plt.legend()\n",
    "plt.title('SIR Stochastic Model')\n",
    "plt.ylabel('Number of Individuals')\n",
    "plt.xlabel('Time (Days)')"
   ]
  }
 ],
 "metadata": {
  "celltoolbar": "Raw Cell Format",
  "kernelspec": {
   "display_name": "Python 3",
   "language": "python",
   "name": "python3"
  },
  "language_info": {
   "codemirror_mode": {
    "name": "ipython",
    "version": 3
   },
   "file_extension": ".py",
   "mimetype": "text/x-python",
   "name": "python",
   "nbconvert_exporter": "python",
   "pygments_lexer": "ipython3",
   "version": "3.6.8"
  }
 },
 "nbformat": 4,
 "nbformat_minor": 2
}
