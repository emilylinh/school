{
 "cells": [
  {
   "cell_type": "code",
   "execution_count": 2,
   "metadata": {},
   "outputs": [],
   "source": [
    "import numpy as np"
   ]
  },
  {
   "cell_type": "markdown",
   "metadata": {},
   "source": [
    "1. Simulate the following Ito integral 1000 times with step size 0.01:\n",
    "$$\\int_0^2 e^{B_s}dB_s$$\n",
    "Calculate the empirical variance and compare with the true result."
   ]
  },
  {
   "cell_type": "code",
   "execution_count": 3,
   "metadata": {},
   "outputs": [
    {
     "name": "stdout",
     "output_type": "stream",
     "text": [
      "27.173818096174394\n"
     ]
    }
   ],
   "source": [
    "np.random.seed(7) # Seeds the generator \n",
    "t = [i/100 for i in range(0,201,1)] # List of t∈[0,2]\n",
    "itoIntegrals = [] # List of the Ito Integral\n",
    "\n",
    "def ItoIntegral(): # Function that solves the Ito Integral\n",
    "    summation = 0 \n",
    "    for i in range(1,201):\n",
    "        iBt = np.random.normal(0, np.sqrt(t[i]-t[i-1])) # Increment of BM Bt \n",
    "        Bt = np.random.normal(0, np.sqrt(t[i])) \n",
    "        summation += np.exp(Bt)*(iBt) # Riemann Sum \n",
    "    \n",
    "    return(summation)\n",
    "        \n",
    "for i in range(1000): # Simulation of the Ito Integral \n",
    "    itoIntegrals.append(ItoIntegral()) \n",
    "    \n",
    "print(np.var(itoIntegrals)) # Variance of the 1000 Ito Integrals"
   ]
  },
  {
   "cell_type": "markdown",
   "metadata": {},
   "source": [
    "True value is:  \n",
    "$$\\begin{eqnarray} Var(\\int_0^2 e^{B_s}dB_s)& = & \\int_0^2 e^{2Bs}ds \\\\\n",
    "& = & \\frac{e^4 - e^0}{2}  \\approx \\ 26.799\\end{eqnarray}$$ since by the properties of Ito Integral, $$\\begin{eqnarray} Var(\\int_0^2 X_s dB_s) = E[(\\int_0^2 X_s dB_s)^2)] = \\int_0^2 E[{X_s}^2]ds \\end{eqnarray}$$ and $X_s = e^{B_s}$. "
   ]
  },
  {
   "cell_type": "markdown",
   "metadata": {},
   "source": [
    "2.  Simulate the following Ornstein-Uhlenbweck process: $$dX_t = -2X_tdt + 3dB_t, \\; X_0 = 2,$$ with step 0.01, for time horizon $T = 1$. Repeat this 1000 times. Find empirical mean $E(X_1)$, and compare with the true value."
   ]
  },
  {
   "cell_type": "code",
   "execution_count": 8,
   "metadata": {},
   "outputs": [
    {
     "name": "stdout",
     "output_type": "stream",
     "text": [
      "0.27162692028785673\n"
     ]
    }
   ],
   "source": [
    "np.random.seed(54) # Seeds the generator \n",
    "\n",
    "def Xi(): # Ftn to find solution of the Ornstein-Uhlenbweck process above\n",
    "    Xi = 2\n",
    "    for i in range(100): # Since 1/0.01 = 100\n",
    "        Zi = np.random.normal(0,1)\n",
    "        Xi = Xi - 2*Xi*0.01 + 3*np.sqrt(0.01)*Zi \n",
    "    return(Xi)\n",
    "\n",
    "X1 = []\n",
    "for x in range(1000): # Simulations of Ornstein-Uhlenbweck process solution \n",
    "    X1.append(Xi())\n",
    "\n",
    "print(np.mean(X1)) # Mean of X1 "
   ]
  },
  {
   "cell_type": "markdown",
   "metadata": {},
   "source": [
    "True value is $E(X_1) = 2e^{-2} \\approx 0.2706$. "
   ]
  },
  {
   "cell_type": "code",
   "execution_count": null,
   "metadata": {},
   "outputs": [],
   "source": []
  }
 ],
 "metadata": {
  "kernelspec": {
   "display_name": "Python 3",
   "language": "python",
   "name": "python3"
  },
  "language_info": {
   "codemirror_mode": {
    "name": "ipython",
    "version": 3
   },
   "file_extension": ".py",
   "mimetype": "text/x-python",
   "name": "python",
   "nbconvert_exporter": "python",
   "pygments_lexer": "ipython3",
   "version": "3.6.8"
  }
 },
 "nbformat": 4,
 "nbformat_minor": 2
}
