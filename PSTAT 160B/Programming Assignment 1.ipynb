{
 "cells": [
  {
   "cell_type": "markdown",
   "metadata": {},
   "source": [
    "1. Simulate 1000 times the first 50 jumps of a Poisson process $(N_t)_{t>0}$ with intensity $\\lambda = 2$. Calculate the empirical expectation $E[{N_1}{N_2}]$, and compare it with the true value. "
   ]
  },
  {
   "cell_type": "code",
   "execution_count": 1,
   "metadata": {
    "scrolled": true
   },
   "outputs": [
    {
     "data": {
      "text/plain": [
       "9.993"
      ]
     },
     "execution_count": 1,
     "metadata": {},
     "output_type": "execute_result"
    }
   ],
   "source": [
    "import numpy as np\n",
    "\n",
    "# Seeds the generator\n",
    "np.random.seed(0) \n",
    "\n",
    "# Product of simulated Poisson processes, N1 and N2 \n",
    "N1N2 = [] \n",
    "\n",
    "# Simulation of 1000 trials\n",
    "for i in range(1000): \n",
    "    N1 = 0 \n",
    "    N2 = 0\n",
    "    Sn = 0\n",
    "    \n",
    "    # Simulation of 50 interarrival times\n",
    "    S50 = np.random.exponential(1/2, 50) \n",
    "   \n",
    "    # This is to go through the first 50 jumps. \n",
    "    for i in range(50):  \n",
    "        \n",
    "        # Adds up the interarrival times to find time of the n-th arrival/jump\n",
    "        Sn += S50[i]  \n",
    "        \n",
    "        if Sn <= 1: \n",
    "            # Counts the jumps to find total jumps at time 1 \n",
    "            N1 += 1 \n",
    "        \n",
    "        if Sn <= 2:\n",
    "            # Counts the jumps to find total jumps at time 2\n",
    "            N2 += 1 \n",
    "    \n",
    "    N1N2.append(N1*N2) \n",
    "\n",
    "# Empirical expectation; outputs 9.993\n",
    "sum(N1N2)/1000  "
   ]
  },
  {
   "cell_type": "markdown",
   "metadata": {},
   "source": [
    "True value of the Empirical expecation: \n",
    "\n",
    "$\\begin{eqnarray}\n",
    "E[{N_1}{N_2}] & = & E[{N_1} {N_2} - {N_1}^2 + {N_1}^2]\\\\\n",
    "& = & E[{N_1} ({N_2} - {N_1}) + {N_1}^2]\\\\ & = & E[{N_1}] E[{N_2} - {N_1}] + E[{N_1}^2] \\\\ & = & E[{N_1}] E[{N_2} - {N_1}] + Var({N_1}) + (E[{N_1}])^2\\\\ & = & 2\\times2+2+2^2\\\\ & = & 10\n",
    "\\end{eqnarray}$  \n",
    "\n",
    "2. Investors purchase \\$1000 dollar bonds at the random times of a Poisson process with parameter $\\lambda$. If the interest rate is $r$, then the present value of an investment purchased at time $t$ is $1000e^{−rt}$. Then the expected total present value of the bonds purchased by time *t* is $1000(1 − e^{−rt})\\frac{\\lambda}{r}$.  \n",
    "Simulate the expected total present value of bonds if the interest rate is $4%$, the Poisson parameter is $\\lambda = 50$, and $t = 10$. Compare with the exact value."
   ]
  },
  {
   "cell_type": "code",
   "execution_count": 2,
   "metadata": {
    "scrolled": true
   },
   "outputs": [
    {
     "data": {
      "text/plain": [
       "407465.8439561748"
      ]
     },
     "execution_count": 2,
     "metadata": {},
     "output_type": "execute_result"
    }
   ],
   "source": [
    "# Seeds the generator\n",
    "np.random.seed(0) \n",
    "\n",
    "# To-be list of all simulated continuous time up to time 10 \n",
    "Sn = [] \n",
    "\n",
    "Sk = 0\n",
    "while True:\n",
    "    \n",
    "    # Adds up interarrival times to find time of k-th arrival\n",
    "    Sk += np.random.exponential(1/50) \n",
    "    \n",
    "    # Used to find times of the k-th arrival up to time 10\n",
    "    if Sk <= 10: \n",
    "        Sn.append(Sk)  \n",
    "    \n",
    "    else: \n",
    "        break \n",
    "\n",
    "\n",
    "totalPV = 0\n",
    "for i in Sn: \n",
    "    \n",
    "    # Adds up all the Present Value (PV) of bonds for each time i in Sn\n",
    "    totalPV += 1000*np.exp(-0.04*i) \n",
    "\n",
    "# Expected total PV of bonds; outputs 407465.8439561748\n",
    "totalPV "
   ]
  },
  {
   "cell_type": "markdown",
   "metadata": {},
   "source": [
    "Exact value of expected total present value (PV) of bonds:\n",
    "\n",
    "$\\begin{eqnarray}\n",
    "E[{\\tt Total \\tt ~PV \\tt ~of \\tt ~Bonds}] & = & 1000(1 - e^{-0.04\\times10})\\frac{50}{0.04}\\\\ & \\approx & 412,099.942\n",
    "\\end{eqnarray}$  \n",
    "\n",
    "3. Simulate 1000 times the first 50 jumps of a compound Poisson process $(C_t)_{t\\ge0}$ with increments $Z_1$, $Z_2$,... distributed as $N(2.5, 4)$, and intensity $\\lambda = 0.5$. Use this to find empirical value $Var(C_4)$, and compare this with the true value."
   ]
  },
  {
   "cell_type": "code",
   "execution_count": 3,
   "metadata": {},
   "outputs": [
    {
     "data": {
      "text/plain": [
       "20.89102736252864"
      ]
     },
     "execution_count": 3,
     "metadata": {},
     "output_type": "execute_result"
    }
   ],
   "source": [
    "# Seeds the generator \n",
    "np.random.seed(0) \n",
    "\n",
    "# To-be list of all the simulated compound Poisson process C4 \n",
    "C4s = []  \n",
    "\n",
    "# Simulation of 1000 trials \n",
    "for i in range(1000): \n",
    "    N4 = 0\n",
    "    Sn = 0\n",
    "    \n",
    "    # Ensures that we are only going through the first 50 jumps \n",
    "    for i in range(50):  \n",
    "        \n",
    "        # Sums interarrival times to find time of n-th arrival\n",
    "        Sn += np.random.exponential(2) \n",
    "       \n",
    "        if Sn <= 4: \n",
    "            # Counts the jumps to find total jumps at time 4 \n",
    "            N4 += 1 \n",
    "        \n",
    "        else:\n",
    "            # C4 = Sum of Z1,...,ZN4 ~ N(2.5,4)) \n",
    "            C4s.append(sum(np.random.normal(2.5, 2, N4)))    \n",
    "            break\n",
    "\n",
    "# Empirical variance of C4; outputs 20.89102736252864\n",
    "np.std(C4s, ddof=1)**2 "
   ]
  },
  {
   "cell_type": "markdown",
   "metadata": {},
   "source": [
    "True value of $Var(C_{4})$:\n",
    "\n",
    "$\\begin{eqnarray}\n",
    "Var(C_{4}) & = & E[{N_4}] Var({Z_4}) + Var({N_4}) (E[{Z_4}])^2 \\\\  & = & 2\\times4 + 2\\times2.5^2 \\\\ & = & 20.5\n",
    "\\end{eqnarray}$  "
   ]
  }
 ],
 "metadata": {
  "kernelspec": {
   "display_name": "Python 3",
   "language": "python",
   "name": "python3"
  },
  "language_info": {
   "codemirror_mode": {
    "name": "ipython",
    "version": 3
   },
   "file_extension": ".py",
   "mimetype": "text/x-python",
   "name": "python",
   "nbconvert_exporter": "python",
   "pygments_lexer": "ipython3",
   "version": "3.6.8"
  }
 },
 "nbformat": 4,
 "nbformat_minor": 2
}
