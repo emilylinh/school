{
 "cells": [
  {
   "cell_type": "markdown",
   "metadata": {},
   "source": [
    "__Problem 3__ The file IBM-MSFT-HAS.csv on Gauchospace provides the closing daily prices for IBM, MSFT (Microsoft) and HAS (Hasbro) over the past year. We will use this data to empirically estimate market portfolios within the Markowitz framework."
   ]
  },
  {
   "cell_type": "markdown",
   "metadata": {},
   "source": [
    "a) Consider the last 6 months: from Nov 1, 2017 to Apr 30, 2018. Using this subset of the data, estimate the monthly average return, variance and covariance among the three assets. To obtain monthly returns, estimate the daily returns and rescale by a factor of 20 (=number of trading days per month)."
   ]
  },
  {
   "cell_type": "code",
   "execution_count": 1,
   "metadata": {},
   "outputs": [
    {
     "name": "stdout",
     "output_type": "stream",
     "text": [
      "monthly average returns = \n",
      "IBM    -0.004541\n",
      "MSFT    0.023690\n",
      "HAS     0.000764\n",
      "dtype: float64\n",
      "\n",
      "monthly variance = \n",
      "IBM     0.086371\n",
      "MSFT    0.116455\n",
      "HAS     0.120840\n",
      "dtype: float64\n",
      "\n",
      "monthly covariance matrix = \n",
      "           IBM      MSFT       HAS\n",
      "IBM   0.086371  0.056839  0.016176\n",
      "MSFT  0.056839  0.116455  0.022038\n",
      "HAS   0.016176  0.022038  0.120840\n"
     ]
    }
   ],
   "source": [
    "import pandas as pd\n",
    "import numpy as np \n",
    "import itertools \n",
    "import timeit\n",
    "from scipy.stats import binom\n",
    "%matplotlib inline\n",
    "\n",
    "\n",
    "data = pd.read_csv('IBM-MSFT-HAS.csv')\n",
    "data['Date'] = pd.to_datetime(data['Date'])\n",
    "start_date = '10/31/2017'; end_date = '4/30/2018'\n",
    "subset = data.loc[(data['Date'] > start_date) & (data['Date'] <= end_date)]\n",
    "subset.set_index('Date', inplace = True)\n",
    "\n",
    "returns = subset.pct_change()[1:]\n",
    "\n",
    "print('monthly average returns = \\n%s'%(20*returns.mean(axis = 0), ))\n",
    "print('\\nmonthly variance = \\n%s'%((20*returns).var()))\n",
    "print('\\nmonthly covariance matrix = \\n%s'%((20*returns).cov(), ))"
   ]
  },
  {
   "cell_type": "markdown",
   "metadata": {},
   "source": [
    "\n",
    "b) Using above information, compute the weights of the Market portfolio, assuming interest rate of $r = 0.02$. Report also the risk and return of $K_M$."
   ]
  },
  {
   "cell_type": "code",
   "execution_count": 2,
   "metadata": {},
   "outputs": [
    {
     "name": "stdout",
     "output_type": "stream",
     "text": [
      "3b) The market portfolio weight is [-9.03707    10.55650116 -0.51943116]; its associated\n",
      "expected return is 0.26747251169224334 and standard deviation is 3.021506674082392.\n"
     ]
    }
   ],
   "source": [
    "from numpy.linalg import det, inv \n",
    "\n",
    "def muX(w, mm):\n",
    "    return np.dot(np.transpose(w), np.transpose(mm))\n",
    "\n",
    "def sigmaX(w, co):\n",
    "    w = np.transpose(w)\n",
    "    return np.sqrt(np.dot(np.dot(w, co), np.transpose(w)))\n",
    "\n",
    "r = (1.02)**(1/12) - 1\n",
    "\n",
    "mu = np.array(20*returns[1:].mean(axis = 0))\n",
    "C = np.array((20*returns).cov())\n",
    "\n",
    "uVec = np.transpose(np.array([1, 1, 1]))\n",
    "wMarket = np.dot((mu - r*uVec), inv(C))/sum(np.dot((mu - r*uVec), inv(C)))\n",
    "mu_Mk = muX(np.transpose(wMarket), mu); sigma_Mk = sigmaX(np.transpose(wMarket), C)\n",
    "\n",
    "print('3b) The market portfolio weight is %s; its associated'%(wMarket,))\n",
    "print('expected return is %s and standard deviation is %s.'%(mu_Mk, sigma_Mk))"
   ]
  },
  {
   "cell_type": "markdown",
   "metadata": {},
   "source": [
    "c) Repeat above for the dataset from May 1, 2017 to Oct 31, 2017. How similar are the weights/risk/return profile of KM compared to part b)?\n"
   ]
  },
  {
   "cell_type": "code",
   "execution_count": 3,
   "metadata": {},
   "outputs": [
    {
     "name": "stdout",
     "output_type": "stream",
     "text": [
      "3c) The market portfolio weight is [-0.0527191   1.53341932 -0.48070022]; its associated\n",
      "expected return is 0.05197235963521041 and standard deviation is 0.3079243991428129.\n",
      "Compared to part b, the weights are quite different in terms of ratio. However, the return and risk profile seem to be adjusted accordingly.\n"
     ]
    }
   ],
   "source": [
    "start_date = '4/30/2017'; end_date = '10/31/2017'\n",
    "subset1 = data.loc[(data['Date'] > start_date) & (data['Date'] <= end_date)]\n",
    "subset1.set_index('Date', inplace = True)\n",
    "\n",
    "returns = subset1.pct_change()[1:]\n",
    "mu = np.array(20*returns[1:].mean(axis = 0))\n",
    "C = np.array((20*returns).cov())\n",
    "\n",
    "uVec = np.transpose(np.array([1, 1, 1]))\n",
    "wMarket = np.dot((mu - r*uVec), inv(C))/sum(np.dot((mu - r*uVec), inv(C)))\n",
    "mu_Mk = muX(np.transpose(wMarket), mu); sigma_Mk = sigmaX(np.transpose(wMarket), C)\n",
    "\n",
    "print('3c) The market portfolio weight is %s; its associated'%(wMarket,))\n",
    "print('expected return is %s and standard deviation is %s.'%(mu_Mk, sigma_Mk))\n",
    "print('Compared to part b, the weights are quite different in terms of ratio. However, the return and risk profile seem to be adjusted accordingly.')"
   ]
  },
  {
   "cell_type": "markdown",
   "metadata": {},
   "source": [
    "\n",
    "d) Repeat once more for the full dataset over the entire last year."
   ]
  },
  {
   "cell_type": "code",
   "execution_count": 4,
   "metadata": {},
   "outputs": [
    {
     "name": "stdout",
     "output_type": "stream",
     "text": [
      "3c) The market portfolio weight is [-2.48388543  4.81629912 -1.33241369]; its associated\n",
      "expected return is 0.1462475688360461 and standard deviation is 1.2478715579317763.\n"
     ]
    }
   ],
   "source": [
    "start_date = '4/30/2017'; end_date = '4/30/2018'\n",
    "subset2 = data.loc[(data['Date'] > start_date) & (data['Date'] <= end_date)]\n",
    "subset2.set_index('Date', inplace = True)\n",
    "\n",
    "returns = subset2.pct_change()[1:]\n",
    "mu = np.array(20*returns[1:].mean(axis = 0))\n",
    "C = np.array((20*returns).cov())\n",
    "\n",
    "uVec = np.transpose(np.array([1, 1, 1]))\n",
    "wMarket = np.dot((mu - r*uVec), inv(C))/sum(np.dot((mu - r*uVec), inv(C)))\n",
    "mu_Mk = muX(np.transpose(wMarket), mu); sigma_Mk = sigmaX(np.transpose(wMarket), C)\n",
    "\n",
    "print('3c) The market portfolio weight is %s; its associated'%(wMarket,))\n",
    "print('expected return is %s and standard deviation is %s.'%(mu_Mk, sigma_Mk))"
   ]
  },
  {
   "cell_type": "markdown",
   "metadata": {},
   "source": [
    "__Problem 4__ Consider a binomial tree with $u = 1.1, d = 0.92, S_0 = 20$ and $r = 0.04$. The physical probability is $p = 0.5$. We consider an exponential utility maximization problem. Let $U(x) = −2e^{−x/2}$.\n",
    "\n",
    "a) Find the optimal terminal wealth $X^∗_N$ that maximizes E[$U(X_N$)] as a function of number of periods $N$ and initial wealth $X_0$. Write out explicitly $X^∗_3$ for the three-period model $N = 3$ and initial wealth $X_0 = 10$ (i.e. give the numerical value of $X_3(HHH)$, $X_3(HHT)$, et cetera.) Compute the resulting expected utility $v(X_0) = E[U(X^∗_3$)] at $X_0 = 10$."
   ]
  },
  {
   "cell_type": "code",
   "execution_count": 5,
   "metadata": {},
   "outputs": [
    {
     "name": "stdout",
     "output_type": "stream",
     "text": [
      "Optimal terminal wealth is [14.02122872 12.63493436 12.63493436 11.24864    12.63493436 11.24864\n",
      " 11.24864     9.86234564].\n",
      "Expected utility is -0.006090215230644724.\n"
     ]
    }
   ],
   "source": [
    "S0 = 20; u = 1.1; r = 0.04; d = 0.92; n = 3; M = 3; p = 0.5 \n",
    "q = (1+r-d)/(u-d)\n",
    "\n",
    "def permgrid(n, u, d):\n",
    "    inds = np.indices((2,) * n)\n",
    "    inds = inds.reshape(n, -1).T\n",
    "    inds = d*inds\n",
    "    return np.where(inds == 0, u, inds)\n",
    "\n",
    "def binomialPath(M):\n",
    "    PQ = permgrid(M, u, d)\n",
    "    S = np.zeros((2**n, n+1))\n",
    "    S[:, 0] = S0 \n",
    "    \n",
    "    for i in range(n):\n",
    "        S[:, i+1] = S[:, i]*PQ[:, i]\n",
    "              \n",
    "    return S \n",
    "\n",
    "def expandgrid(*itrs):\n",
    "    \n",
    "    product = list(itertools.product(*itrs))\n",
    "    \n",
    "    return np.transpose(np.array([[x[i] for x in product] for i in range(len(itrs))]))\n",
    "    \n",
    "    \n",
    "def optimal_w(N, x0):\n",
    "    w = expandgrid(*[[0, 1]]*N); pd = 1\n",
    "    ZN = np.zeros(2**N); XiN = np.zeros(2**N)\n",
    "    Q = np.zeros(2**N); VT = np.zeros(2**N)\n",
    "    \n",
    "    for i in range(2**N):\n",
    "        H = sum(w[i, :] == 1)\n",
    "        T = sum(w[i, :] == 0)\n",
    "        ZN[i] = (q/p)**H*((1-q)/(1-p))**T\n",
    "        XiN[i] = ZN[i]*(1+r)**(-N)\n",
    "        Q[i] = q**H*(1-q)**T\n",
    "        pd = pd*(XiN[i])**Q[i]\n",
    "    \n",
    "    l = np.exp(-0.5*x0*(1+r)**N)/pd; UT = 0 \n",
    "    for i in range(2**N):\n",
    "        VT[i] = -2*np.log(l*XiN[i])\n",
    "        UT = UT + (p**N)*(-2*np.exp(-VT[i]/2))\n",
    "    \n",
    "    return VT, UT\n",
    "\n",
    "S = binomialPath(M)\n",
    "\n",
    "VT, UT = optimal_w(3, 10)\n",
    "\n",
    "print('Optimal terminal wealth is %s.'%(VT,))\n",
    "print('Expected utility is %s.' %UT)  "
   ]
  },
  {
   "cell_type": "markdown",
   "metadata": {},
   "source": [
    "b) [276 students only] Starting from your answer in part (a), compute the optimal investment portfolios along the scenario $THH$: report $\\Delta_0$, $\\Delta_1(T)$, $\\Delta_2(TH)$ the corresponding bond investments $B$’s and the wealth $X_0 = 10, X_1(T), X_2(T H), X_3(THH)$."
   ]
  },
  {
   "cell_type": "code",
   "execution_count": 6,
   "metadata": {},
   "outputs": [
    {
     "name": "stdout",
     "output_type": "stream",
     "text": [
      "X2(HH) = 9.927349768512894\n",
      "X2(HT) = 11.260325115743555\n",
      "X2(TH) = 11.260325115743555\n",
      "X2(TT) = 12.593300462974215\n"
     ]
    }
   ],
   "source": [
    "def xi(xi_T, xi_H):\n",
    "    return (xi_H*q + xi_T*(1-q))/(1+r)\n",
    "\n",
    "X2HH = xi(*VT[6:8]); X2HT = xi(*VT[4:6])\n",
    "X2TH = xi(*VT[2:4]); X2TT = xi(*VT[0:2])\n",
    "\n",
    "print('X2(HH) = %s' %(X2HH))\n",
    "print('X2(HT) = %s' %(X2HT))\n",
    "print('X2(TH) = %s' %(X2TH))\n",
    "print('X2(TT) = %s' %(X2TT))"
   ]
  },
  {
   "cell_type": "code",
   "execution_count": 7,
   "metadata": {
    "scrolled": true
   },
   "outputs": [
    {
     "name": "stdout",
     "output_type": "stream",
     "text": [
      "X1(H) = 9.972764311785046\n",
      "X1(T) = 11.25447137642991\n",
      "X0 = 10.0\n",
      "delta2(TH) = -0.380515580017536\n",
      "delta1(T) = -0.40246840194162414\n",
      "delta0 = -0.35602974017912925\n"
     ]
    }
   ],
   "source": [
    "def delta(x1, x2, s1, s2):\n",
    "    return (x1 - x2)/(s1 - s2)\n",
    "X1H = xi(X2HT, X2HH) \n",
    "X1T = xi(X2TT, X2TH)\n",
    "\n",
    "print('X1(H) = %s' %(X1H))\n",
    "print('X1(T) = %s' %(X1T))\n",
    "\n",
    "X0 = xi(X1T, X1H)\n",
    "print('X0 = %s' %(X0))\n",
    "print('delta2(TH) = %s' %delta(VT[3], VT[2], S[4, 3], S[5, 3]))\n",
    "print('delta1(T) = %s' %delta(X2TH, X2TT, S[5, 2], S[6, 2]))\n",
    "print('delta0 = %s' %delta(X1H, X1T, S[1, 1], S[6, 1]))"
   ]
  },
  {
   "cell_type": "markdown",
   "metadata": {},
   "source": [
    "c) [276 students only] Repeat for $U(x) = −5e^{−x/5}$ – how do the new investment portfolios compare to the answers in (b)? Discuss in terms of the risk-aversion parameter $\\gamma$ in $U(x) = −\\frac{1}{\\gamma}e^{−\\gamma x}$."
   ]
  },
  {
   "cell_type": "code",
   "execution_count": 8,
   "metadata": {},
   "outputs": [
    {
     "name": "stdout",
     "output_type": "stream",
     "text": [
      "Optimal terminal wealth is [18.18011181 14.7143759  14.7143759  11.24864    14.7143759  11.24864\n",
      " 11.24864     7.7829041 ].\n",
      "Expected utility is -0.4447739406806444.\n",
      "X2(HH) = 8.594374421282229\n",
      "X2(HT) = 11.926812789358884\n",
      "X2(TH) = 11.926812789358884\n",
      "X2(TT) = 15.25925115743554\n",
      "X1(H) = 9.331910779462609\n",
      "X1(T) = 12.536178441074778\n",
      "X0 = 9.999999999999998\n",
      "delta2(TH) = -0.9512889500438415\n",
      "delta1(T) = -1.0061710048540622\n",
      "delta0 = -0.8900743504478253\n"
     ]
    }
   ],
   "source": [
    "def optimal_w(N, x0):\n",
    "    w = expandgrid(*[[0, 1]]*N); pd = 1\n",
    "    ZN = np.zeros(2**N); XiN = np.zeros(2**N)\n",
    "    Q = np.zeros(2**N); VT = np.zeros(2**N)\n",
    "    \n",
    "    for i in range(2**N):\n",
    "        H = sum(w[i, :] == 1)\n",
    "        T = sum(w[i, :] == 0)\n",
    "        ZN[i] = (q/p)**H*((1-q)/(1-p))**T\n",
    "        XiN[i] = ZN[i]*(1+r)**(-N)\n",
    "        Q[i] = q**H*(1-q)**T\n",
    "        pd = pd*(XiN[i])**Q[i]\n",
    "    \n",
    "    l = np.exp(-0.2*x0*(1+r)**N)/pd; UT = 0 \n",
    "    for i in range(2**N):\n",
    "        VT[i] = -5*np.log(l*XiN[i])\n",
    "        UT = UT + (p**N)*(-5*np.exp(-VT[i]/5))\n",
    "    \n",
    "    return VT, UT\n",
    "\n",
    "VT, UT = optimal_w(3, 10)\n",
    "\n",
    "print('Optimal terminal wealth is %s.'%(VT,))\n",
    "print('Expected utility is %s.' %UT)  \n",
    "\n",
    "X2HH = xi(*VT[6:8]); X2HT = xi(*VT[4:6])\n",
    "X2TH = xi(*VT[2:4]); X2TT = xi(*VT[0:2])\n",
    "\n",
    "print('X2(HH) = %s' %(X2HH))\n",
    "print('X2(HT) = %s' %(X2HT))\n",
    "print('X2(TH) = %s' %(X2TH))\n",
    "print('X2(TT) = %s' %(X2TT))\n",
    "\n",
    "X1H = xi(X2HT, X2HH) \n",
    "X1T = xi(X2TT, X2TH)\n",
    "\n",
    "print('X1(H) = %s' %(X1H))\n",
    "print('X1(T) = %s' %(X1T))\n",
    "\n",
    "X0 = xi(X1T, X1H)\n",
    "print('X0 = %s' %(X0))\n",
    "print('delta2(TH) = %s' %delta(VT[3], VT[2], S[4, 3], S[5, 3]))\n",
    "print('delta1(T) = %s' %delta(X2TH, X2TT, S[5, 2], S[6, 2]))\n",
    "print('delta0 = %s' %delta(X1H, X1T, S[1, 1], S[6, 1]))"
   ]
  },
  {
   "cell_type": "markdown",
   "metadata": {},
   "source": [
    "Compared to part (b), the expected utility is less; however, the optimal wealth is comparably higher on average than the optimal wealth presented in part (b). It seems that $\\gamma$ correlates with the optimal terminal wealth values."
   ]
  }
 ],
 "metadata": {
  "kernelspec": {
   "display_name": "Python 3",
   "language": "python",
   "name": "python3"
  },
  "language_info": {
   "codemirror_mode": {
    "name": "ipython",
    "version": 3
   },
   "file_extension": ".py",
   "mimetype": "text/x-python",
   "name": "python",
   "nbconvert_exporter": "python",
   "pygments_lexer": "ipython3",
   "version": "3.6.8"
  }
 },
 "nbformat": 4,
 "nbformat_minor": 2
}
