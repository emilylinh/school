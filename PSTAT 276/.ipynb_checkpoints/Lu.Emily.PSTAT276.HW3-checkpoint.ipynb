{
 "cells": [
  {
   "cell_type": "markdown",
   "metadata": {},
   "source": [
    "__Problem 1: Stratified Sampling__\n",
    "\n",
    "\n",
    "The point of this problem is to illustrate stratification with non-uniform strata. We will price an Out-of-the-money Call in a Black-Scholes model (i.e. lognormal ST ). The parameters are: $S_0 = 50, r = 0.02, T = 0.5, \\sigma = 0.25$. The Call strike is $K = 55$.\n",
    "The stratification will be on the underlying U’s, and the strata are $A_1 = [0, 0.4]$, $A_2 = [0.4, 0.6]$, $A_3 = [0.6, 0.8]$, $A_4 = [0.8, 1]$. So the corresponding $p_i$\n",
    "’s are: $p_1 = 0.4, p_2 = p_3 = p_4 = 0.2$.\n",
    "We wish to use a total of M = 100 samples, split across the strata as $N_1 = 10, N_2 = N_3 = N_4 = 30$. Note that the split is not proportional to the $p_i$, but this is ok: it only matters for estimating the conditional mean $\\hat{\\mu}_i$ and variance $\\hat{\\sigma}^2_i$\n",
    "in each strata."
   ]
  },
  {
   "cell_type": "markdown",
   "metadata": {},
   "source": [
    "To hand in:\n",
    "\n",
    "1. code implementing above.\n",
    "\n",
    "2. Estimated $\\hat{\\mu}_i, \\hat{\\sigma}_i$ for $i = 1, 2, 3, 4$\n",
    "3. Overall estimated option value $\\hat{V}$ (recall that it’s weighted average of $\\hat{\\mu}$’s)\n",
    "4. Standard error $\\hat{\\sigma}^{str}$ of $\\hat{V}$ (recall that's weighted average of $\\hat{\\sigma}^2$'s, plus divide by $M$)"
   ]
  },
  {
   "cell_type": "code",
   "execution_count": 1,
   "metadata": {},
   "outputs": [
    {
     "name": "stdout",
     "output_type": "stream",
     "text": [
      "1.2)\n",
      "\tmu_1 = 8.668182540587505, sigma_1 = 1.1842378929335002e-15\n",
      "\tmu_2 = 0.0, sigma_2 = 0.0\n",
      "\tmu_3 = 0.0, sigma_3 = 0.0\n",
      "\tmu_4 = 0.0, sigma_4 = 0.0\n",
      "\n",
      "1.3) V_hat = 3.4672730162350023\n",
      "\n",
      "1.4) standard error of V_hat = 1.5389853104779785e-09\n"
     ]
    }
   ],
   "source": [
    "import numpy as np \n",
    "from scipy.stats import binom, norm, gamma\n",
    "\n",
    "S0 = 50; r = 0.02; T = 0.5; sigma = 0.25; K = 55; M = 100\n",
    "S = np.zeros(M); V0 = np.zeros(M); Z = np.zeros(M)\n",
    "\n",
    "U1 = np.random.uniform(0, 0.4, size = 10) \n",
    "U2 = np.random.uniform(0.4, 0.6, size = 30) \n",
    "U3 = np.random.uniform(0.6, 0.8, size = 30) \n",
    "U4 = np.random.uniform(0.8, 1, size = 30)\n",
    "\n",
    "U = np.concatenate([U1, U2, U3, U4])\n",
    "\n",
    "for i in range(M):\n",
    "    Z[i] = norm.isf(U[i]) # inverse cdf \n",
    "    S[i] = S0*np.exp((r - sigma**2/2)*T + sigma*np.sqrt(T)*Z[i])\n",
    "    V0[i] = max(S[i] - K, 0)/np.exp(r*T)\n",
    "\n",
    "def mu(V0, N):\n",
    "    return sum(V0)/N\n",
    "\n",
    "def std(V0, N, mu):\n",
    "    return np.sqrt((sum(V0 - mu)**2) / (N - 1))    \n",
    "\n",
    "mu1 = mu(V0[0:10], 10); sigma1 = std(V0[0:10], 10, mu1)\n",
    "mu2 = mu(V0[10:40], 30); sigma2 = std(V0[10:40], 30, mu2)\n",
    "mu3 = mu(V0[40:70], 30); sigma3 = std(V0[40:70], 30, mu3)\n",
    "mu4 = mu(V0[70:99], 30); sigma4 = std(V0[70:99], 30, mu4)\n",
    "\n",
    "print('1.2)\\n\\tmu_1 = %s, sigma_1 = %s'%(mu1, sigma1))\n",
    "print('\\tmu_2 = %s, sigma_2 = %s'%(mu2, sigma2))\n",
    "print('\\tmu_3 = %s, sigma_3 = %s'%(mu3, sigma3))\n",
    "print('\\tmu_4 = %s, sigma_4 = %s'%(mu4, sigma4))\n",
    "\n",
    "print('\\n1.3) V_hat = %s\\n'%(mu1*0.4 + 0.2*(mu2+mu3+mu4)))\n",
    "\n",
    "stdE = np.sqrt(sigma1*0.2 + 0.4*(sigma2+sigma3+sigma4))/np.sqrt(M)\n",
    "print('1.4) standard error of V_hat = %s'%(stdE))"
   ]
  },
  {
   "cell_type": "markdown",
   "metadata": {},
   "source": [
    "__Problem 2: Monte Carlo for Aggregate Stop-Loss contracts__ \n",
    "\n",
    "In insurance context, the\n",
    "insurer often uses a stop-loss contract: i.e. small losses are paid by the insured, while large losses are paid by the company. In many cases, this stop-loss operates on aggregate claims: e.g. in medical insurance there are several claims that are filed, but insurance is on the total amount to be claimed.\n",
    "This is modeled by a compound distribution: $$Loss = Y_1 + Y_2 +...+Y_N = \\sum_{i=1}^N Y_i$$ where $Y_i$ are i.i.d. and $N$ is the random number of claims, independent of Y ’s (covered extensively in PSTAT 173 using analytic methods).\n",
    "\n",
    "Consider the following typical situation:\n",
    "\n",
    "- If losses are small (less than $\\$1000$, called the deductible), then the insurance company pays $\\$0$;\n",
    "- For total losses between $\\$1000$ and $\\$2500$, the insurance pays $50\\%$ above the deductible (eg if Loss = 1500, insurance will pay $0.5 ∗ (1500 − 1000) = \\$250$.)\n",
    "- The maximum cost to the consumer is $\\$2500$ - the insurer will pay 100% above this cap (eg\n",
    "if Loss = 4000 then insurance will pay $\\$1500$ due to the cap, plus (2500 − 1000) ∗ 0.5 = 750\n",
    "using rule (b) above, for a total payment of $2250).\n",
    "\n",
    "We assume that $N \\sim Bin(n = 12, p = 0.4)$ and $Y_i$’s follow a Gamma mixture distribution with\n",
    "shape=5 and rate of either 0.01 (Large claims, on average $\\$500$) or shape=4, rate=0.02 (Medium\n",
    "claims, on ave $\\$200$). Specifically, 25% of the claims are Large, and 75% of the claims are Medium. (This is captured by an independent coin flip each time a claim is simulated).\n",
    "Using above setup, and at least $M \\geq 1000$ simulations (one simulation means: simulate $N$, then simulate $N \\;Y$’s, compute Loss and finally Cost to insurance company):\n",
    "\n",
    "1. Estimate probability that the insurance company doesn’t need to pay anything (ie Cost is\n",
    "zero);\n",
    "2. Estimate the expected cost to the insurer;\n",
    "3. Estimate the probability that the insurer will have to pay out more than $1000;\n",
    "\n",
    "Note: there is no analytical solution here; for a back-of-the-envelope calculation, $E[Loss] =\n",
    "12 ∗ 0.4 ∗ (0.25 ∗ 500 + 0.75 ∗ 200) = 1320$, so roughly the company should expect to pay about $\\$160$, but as you will see the spread of actual Costs is very wide and strongly affected by the deductible\n",
    "and stop-loss level."
   ]
  },
  {
   "cell_type": "code",
   "execution_count": 2,
   "metadata": {},
   "outputs": [
    {
     "name": "stdout",
     "output_type": "stream",
     "text": [
      "2.1) P(cost = 0) = 0.43200000000000005\n",
      "2.2) E[cost] = 154.59843634397916\n",
      "2.3) P(cost > 1000) = 0.004\n"
     ]
    }
   ],
   "source": [
    "import random\n",
    "\n",
    "def insurancePayout(loss):\n",
    "    if loss < 1000:\n",
    "        return 0 \n",
    "    elif 1000 < loss < 7500:\n",
    "        return 0.5*(loss - 1000)\n",
    "    elif loss > 7500:\n",
    "        return loss - 1750\n",
    "    \n",
    "# Monte Carlo simulation of Loss + Cost calculation \n",
    "M = 1000; cost = np.zeros(M); \n",
    "for i in range(M):\n",
    "    \n",
    "    N = np.random.binomial(12, 0.4) # number of losses\n",
    "    m = sum(random.choices([0, 1], weights = (0.25, 0.75), k = N)) # medium number of claims\n",
    "    \n",
    "    Y = np.zeros(N)\n",
    "    Y[0:m] = gamma.rvs(4, scale = 1/0.02, size = m) # medium claims\n",
    "    Y[m:N] = np.random.gamma(4, scale = 1/0.01, size = N-m) # large claims \n",
    " \n",
    "    total_loss = sum(Y)\n",
    "    cost[i] = insurancePayout(total_loss)\n",
    "    \n",
    "largeCosts = np.where(cost > 1000, 1, 0)\n",
    "    \n",
    "print('2.1) P(cost = 0) = %s'%(1 - np.count_nonzero(cost)/M))\n",
    "print('2.2) E[cost] = %s'%(sum(cost)/M))\n",
    "print('2.3) P(cost > 1000) = %s'%(sum(largeCosts)/M))"
   ]
  },
  {
   "cell_type": "markdown",
   "metadata": {},
   "source": [
    "__Problem 3__ Consider two securities with $\\mu_1 = 0.1, \\mu_2 = 0.2$ and the covariance matrix $$\\Sigma = \\begin{pmatrix} 0.16 & 0.1 \\\\ 0.1 & 0.25 \\end{pmatrix}.$$ \n",
    "1. Using R, generate a plot of the efficient frontier for this model to cover the range $\\mu_V \\in [0, 0.3]$. You should have at least 50 points on the frontier. Indicate which part of the frontier corresponds to portfolios without short-selling.\n",
    "2. Suppose I want the portfolio that maximizes $\\mu_V = 0.3\\sigma_V$ . What should be my allocation? (you can use trial and error to do this)"
   ]
  },
  {
   "cell_type": "markdown",
   "metadata": {},
   "source": [
    "Since $$\\begin{eqnarray} \\mu_V &=& 0.1w_1 + 0.2w_2 \\\\ &=& 0.1w_1 + 0.2(1-w_1) \\\\ &=& 0.2 - 0.1w_1, \\end{eqnarray}$$ then $0\\leq \\mu_V \\leq 0.3$ implies $\\mu_V \\in [0, 0.3] \\Longleftrightarrow w_1\\in [-1, 2].$"
   ]
  },
  {
   "cell_type": "code",
   "execution_count": 174,
   "metadata": {
    "scrolled": true
   },
   "outputs": [
    {
     "data": {
      "image/png": "[encoded data removed]",
      "text/plain": [
       "<Figure size 720x360 with 1 Axes>"
      ]
     },
     "metadata": {
      "needs_background": "light"
     },
     "output_type": "display_data"
    }
   ],
   "source": [
    "import matplotlib.pyplot as plt\n",
    "\n",
    "def muX(w, mm):\n",
    "    return np.dot(np.transpose(w), np.transpose(mm))\n",
    "\n",
    "def sigmaX(w, co):\n",
    "    w = np.transpose(w)\n",
    "    return np.sqrt(np.dot(np.dot(w, co), np.transpose(w)))\n",
    "\n",
    "def plotW(w, co, mm, c = None, label = None):\n",
    "    plt.scatter(sigmaX(w, co), muX(w, mm), c = c, label = None)\n",
    "    \n",
    "mu = np.array([0.1, 0.2])\n",
    "CC = np.array([[0.16, 0.1], [0.1, 0.25]])\n",
    " \n",
    "plt.figure(figsize=(10, 5))\n",
    "plt.title('Efficient Frontier Plot')\n",
    "plt.ylabel('Mu')\n",
    "plt.xlabel('Sigma')\n",
    "\n",
    "for w1 in np.arange(-1, 2, 0.01):\n",
    "    if 0 < w1 < 1:\n",
    "        plotW(np.array([w1, 1-w1]), CC, mu, c = 'black')\n",
    "    else:\n",
    "        plotW(np.array([w1, 1-w1]), CC, mu) # short-selling"
   ]
  },
  {
   "cell_type": "code",
   "execution_count": 4,
   "metadata": {},
   "outputs": [
    {
     "name": "stdout",
     "output_type": "stream",
     "text": [
      "Weights allocation should be w1 = -0.16 and w2 = 1.16.\n"
     ]
    }
   ],
   "source": [
    "import pandas as pd\n",
    "\n",
    "table = pd.DataFrame({'w1': np.arange(-1, 2, 0.01), 'w2': 1 - np.arange(-1, 2, 0.01)})\n",
    "table['mu_V'] = np.array([muX(np.array([table['w1'][i], table['w2'][i]]), mu)\n",
    "                          for i in range(len(table['w1']))])\n",
    "table['sigma_V'] = np.array([sigmaX(np.array([table['w1'][i], table['w2'][i]]), CC)\n",
    "                          for i in range(len(table['w1']))])\n",
    "table['mu_V - 0.3sigma_V'] = table['mu_V'] - 0.3*table['sigma_V']\n",
    "\n",
    "idx = table['mu_V - 0.3sigma_V'].idxmax() # index of the row that satisfies max. cond. \n",
    "w1 = round(table.iloc[idx, 0], 2)\n",
    "w2 = round(table.iloc[idx, 1], 2)\n",
    "\n",
    "print('Weights allocation should be w1 = %s and w2 = %s.'%(w1, w2))"
   ]
  },
  {
   "cell_type": "markdown",
   "metadata": {},
   "source": [
    "__Problem 4__ Consider three stocks with the following rate of returns $m = [\\mu_1, \\mu_2, \\mu_3] = [0.1 \\; 0.12 \\; 0.16]$ and covariance matrix $$C = \\begin{pmatrix} 0.09 & -0.03 & 0 \\\\ -0.03 & 0.16 & 0.04 \\\\ 0 & 0.04 & 0.16 \\end{pmatrix}.$$\n",
    "\n",
    "1. Find the portfolio weights $w = (w_1, w_2, w_3)$ that minimize total portfolio variance.\n",
    "2. Suppose you have a target return $\\mu_V = 0.15$. Find the portfolio with minimal variance under this constraint. What is the associated portfolio standard deviation?\n",
    "3. If the risk-free rate is $r_F = 0.04$, find the market portfolio, together with its expected return and standard deviation."
   ]
  },
  {
   "cell_type": "code",
   "execution_count": 107,
   "metadata": {},
   "outputs": [
    {
     "name": "stdout",
     "output_type": "stream",
     "text": [
      "4.1) The portfolio weights that minimize total portfolio variance is \n",
      "\t[0.53179191 0.30057803 0.16763006].\n",
      "\n",
      "4.2) The portfolio weights with the target return of 0.15 is \n",
      "\t[0.09134615 0.11298077 0.79567308] and its associated\n",
      "portfolio standard deviation is 0.33265756821739.\n",
      "\n",
      "4.3) The market portfolio weight is [0.42553191 0.25531915 0.31914894]; its associated\n",
      "expected return is 0.12425531914893614 and standard deviation is 0.20742225713964152.\n"
     ]
    }
   ],
   "source": [
    "from numpy.linalg import det, inv \n",
    "\n",
    "def effPort(myMu, mm, co):\n",
    "    \n",
    "    uVec = np.transpose(np.array([1 for i in range(len(CC[0, :]))]))\n",
    "    aa = np.array([[1.0, 1.0], [1.0, 1.0]]);  bb = np.array([[1.0, 1.0], [1.0, 1.0]])\n",
    "    cc = np.array([[1.0, 1.0], [1.0, 1.0]])\n",
    "    \n",
    "    aa[0, 1] = (uVec.dot(inv(co))).dot(np.transpose(mm))\n",
    "    aa[1, 0] = myMu\n",
    "    aa[1, 1] = np.matmul(np.matmul(mm, inv(co)), np.transpose(mm))\n",
    "    \n",
    "    bb[0, 0] = np.matmul(np.matmul(uVec, inv(co)), np.transpose(uVec))\n",
    "    bb[1, 0] = np.matmul(np.matmul(mm, inv(co)), np.transpose(uVec))\n",
    "    bb[1, 1] = myMu\n",
    "    \n",
    "    cc[0, 0] = bb[0, 0]\n",
    "    cc[0, 1] = aa[0, 1]\n",
    "    cc[1, 0] = bb[1, 0]\n",
    "    cc[1, 1] = aa[1, 1]\n",
    "\n",
    "    myW = (np.dot(det(aa)*uVec, inv(co)) + np.dot(det(bb)*mm, inv(co)))/det(cc)\n",
    "    \n",
    "    return myW\n",
    "\n",
    "mu = np.array([0.1, 0.12, 0.16])\n",
    "CC = np.array([[0.09, -0.03, 0], [-0.03, 0.16, 0.04], [0, 0.04, 0.16]])\n",
    "uVec = np.transpose(np.array([1, 1, 1]))\n",
    "\n",
    "wMin = np.dot(uVec, inv(CC))\n",
    "wMin = wMin/(np.dot(np.dot(uVec, inv(CC)), np.transpose(uVec)))\n",
    "print('4.1) The portfolio weights that minimize total portfolio variance is \\n\\t%s.'%(wMin,))\n",
    "\n",
    "target_w = effPort(0.15, mu, CC)/sum(effPort(0.15, mu, CC))\n",
    "print('\\n4.2) The portfolio weights with the target return of 0.15 is \\n\\t%s and its associated'\n",
    "                      %(target_w,))\n",
    "print('portfolio standard deviation is %s.'%sigmaX(target_w, CC))\n",
    "\n",
    "wMarket = np.dot((mu - 0.04), inv(CC))/sum(np.dot((mu - 0.04), inv(CC)))\n",
    "mu_Mk = muX(wMarket, mu); sigma_Mk = sigmaX(wMarket, CC)\n",
    "print('\\n4.3) The market portfolio weight is %s; its associated'%(wMarket,))\n",
    "print('expected return is %s and standard deviation is %s.'%(mu_Mk, sigma_Mk))"
   ]
  },
  {
   "cell_type": "markdown",
   "metadata": {},
   "source": [
    "__Problem 5__ Consider three stocks with the following rate of returns $m = [\\mu_1, \\mu_2, \\mu_3] = [0.06, \\; 0.08, \\; 0.12]$ and covariance matrix $$C = \\begin{pmatrix} 0.04 & 0.01 & -0.01 \\\\ 0.01 & 0.09 & 0 \\\\ -0.01 & 0 & 0.25 \\end{pmatrix}.$$\n",
    "\n",
    "a) Plot the efficient frontier for portfolios using all 3 assets in the range $\\sigma_X \\in [0, 0.6]$. What is the minimal portfolio variance possible?\n",
    "\n",
    "b) Now draw (on the same plot) the efficient frontier for portfolios consisting only of Asset 1 and Asset 2. Repeat for portfolios of Asset 2+3 and Asset 1+3. In each case identify the minimal variance portfolio $M_{12}, M_{13}, M_{23}$ (namely its weights and its $(\\sigma, \\mu)$ coordinates).\n",
    "\n",
    "c) Discuss how the 4 curves and the 4 min-variance portfolios look like relative to each other and why."
   ]
  },
  {
   "cell_type": "code",
   "execution_count": 178,
   "metadata": {},
   "outputs": [
    {
     "name": "stdout",
     "output_type": "stream",
     "text": [
      "5.1) The portfolio weights that minimize total portfolio variance is \n",
      "\t[0.64307692 0.22461538 0.13230769].\n",
      "Legend: \n",
      " \tefficient:black \n",
      " \tinefficient:blue \n",
      " \tasset1&2:pink \n",
      " \tasset1&3:green \n",
      " \tasset2&3:magenta\n"
     ]
    },
    {
     "data": {
      "image/png": "[encoded data removed]",
      "text/plain": [
       "<Figure size 720x360 with 1 Axes>"
      ]
     },
     "metadata": {
      "needs_background": "light"
     },
     "output_type": "display_data"
    }
   ],
   "source": [
    "mu = np.array([0.06, 0.08, 0.12])\n",
    "CC = np.array([[0.04, 0.01, -0.01], [0.01, 0.09, 0], [-0.01, 0, 0.25]])\n",
    "\n",
    "plt.figure(figsize=(10, 5))\n",
    "plt.title('Efficient Frontier Plot')\n",
    "plt.ylabel('Mu')\n",
    "plt.xlabel('Sigma')\n",
    "\n",
    "uVec = np.transpose(np.array([1, 1, 1]))\n",
    "\n",
    "wMin = np.dot(uVec, inv(CC))\n",
    "wMin = wMin/(np.dot(np.dot(uVec, inv(CC)), np.transpose(uVec)))\n",
    "print('5.1) The portfolio weights that minimize total portfolio variance is \\n\\t%s.'%(wMin,))\n",
    "\n",
    "for i in range(1, 51):\n",
    "    w = effPort(i/200, mu, CC)/sum(effPort(i/200, mu, CC))\n",
    "    if 0 < sigmaX(w, CC) < 0.6:\n",
    "        plotW(w, CC, mu, c = 'black', label = 'efficient:black') # efficient\n",
    "    else:\n",
    "        plotW(w, CC, mu, c = 'blue', label = 'inefficient:blue')\n",
    "\n",
    "# 5b \n",
    "m12 = np.array([0.06, 0.08])\n",
    "m13 = np.array([0.06, 0.12])\n",
    "m23 = np.array([0.08, 0.12])\n",
    "\n",
    "c12 = np.array([[0.04, 0.01], [0.01, 0.09]])\n",
    "c13 = np.array([[0.04, -0.01], [-0.01, 0.25]])\n",
    "c23 = np.array([[0.09, 0], [0, 0.25]])\n",
    "\n",
    "for i in np.arange(-1, 2, 0.06):\n",
    "    plotW(np.array([i, 1-i]), c12, m12, c = 'pink', label = 'asset1&2:pink')\n",
    "    plotW(np.array([i, 1-i]), c13, m13, c = 'green', label = 'asset1&3:green')\n",
    "    plotW(np.array([i, 1-i]), c23, m23, c = 'magenta', label = 'asset2&3:magenta')    \n",
    "    \n",
    "print(\"Legend: \\n \\tefficient:black \\n \\tinefficient:blue \\n \\tasset1&2:pink \\n \\tasset1&3:green \\n \\tasset2&3:magenta\")"
   ]
  },
  {
   "cell_type": "markdown",
   "metadata": {},
   "source": [
    "5c) These four curves and four minimum variance portfolios look relative to each other because they all share approximately the same expected returns per stock and covariance matrix."
   ]
  },
  {
   "cell_type": "markdown",
   "metadata": {},
   "source": [
    "__Problem 6__ For 276 students: Use the setting of Problem 5. Suppose I want to buy a portfolio\n",
    "with $\\overrightarrow{w} = [0.1,\\; 0.2,\\; 0.7]$. Explain why this is not efficient and offer me AT LEAST 2 strictly better alternatives. Specifically, find the portfolio which maximizes return while keeping same risk as mine, and the one that minimizes risk while keeping the same return as mine."
   ]
  },
  {
   "cell_type": "code",
   "execution_count": 155,
   "metadata": {},
   "outputs": [
    {
     "name": "stdout",
     "output_type": "stream",
     "text": [
      "The portfolio with w = [0.1, 0.2, 0.7] gives an expected return of 0.10599999999999998 \n",
      "and a standard deviation of 0.35425979167836696.\n",
      "\n",
      "This is inefficient because the following weights:[-0.11698113  0.5254717   0.59150943] \n",
      "also give the same expected return, but with a risk/stddev of 0.33618980488060624.\n"
     ]
    }
   ],
   "source": [
    "mu = np.array([0.06, 0.08, 0.12])\n",
    "CC = np.array([[0.04, 0.01, -0.01], [0.01, 0.09, 0], [-0.01, 0, 0.25]])\n",
    "\n",
    "print('The portfolio with w = [0.1, 0.2, 0.7] gives an expected return of', \n",
    "      muX(np.array([0.1, 0.2, 0.7]), mu), \n",
    "      '\\nand a standard deviation of %s.'%sigmaX(np.array([0.1, 0.2, 0.7]), CC))\n",
    "\n",
    "effW = effPort(muX(np.array([0.1, 0.2, 0.7]), mu), mu, CC)\n",
    "sd = sigmaX(effW, CC)\n",
    "print('\\nThis is inefficient because the following weights:%s'%(effW,),\n",
    "      '\\nalso give the same expected return, but with a risk/stddev of %s.'%sd)"
   ]
  },
  {
   "cell_type": "markdown",
   "metadata": {},
   "source": [
    "Additionally, if we want to maximize return but keeping the same risk as the portfolio with $\\overrightarrow{w} = [0.1,\\; 0.2,\\; 0.7]$, then we should use the following weights below."
   ]
  },
  {
   "cell_type": "code",
   "execution_count": 173,
   "metadata": {},
   "outputs": [
    {
     "name": "stdout",
     "output_type": "stream",
     "text": [
      "[-0.16873315  0.54595687  0.62277628]\n",
      "These following weights give the expected return of 0.10828571428571426\n",
      " with a risk of 0.3538175380217644.\n"
     ]
    }
   ],
   "source": [
    "risk = sigmaX(np.array([0.1, 0.2, 0.7]), CC)\n",
    "table = pd.DataFrame({'w': [effPort(i/7000, mu, CC)/sum(effPort(i/7000, mu, CC)) \n",
    "                            for i in range(1, 1001)]})\n",
    "table['mu_V'] = np.array([muX(table['w'][i], mu) \n",
    "                          for i in range(len(table['w']))])\n",
    "table['sigma_V'] = np.array([sigmaX(table['w'][i], CC)\n",
    "                          for i in range(len(table['w']))])\n",
    "\n",
    "idx = table.loc[table['sigma_V'] <= risk, ['mu_V']].idxmax()\n",
    "table.iloc[idx]\n",
    "print(table.iloc[idx, 0].iloc[0])\n",
    "print('These following weights give the expected return of %s\\n with a risk of %s.'\n",
    "     %(table.iloc[idx, 1].iloc[0], table.iloc[idx, 2].iloc[0]))"
   ]
  }
 ],
 "metadata": {
  "kernelspec": {
   "display_name": "Python 3",
   "language": "python",
   "name": "python3"
  },
  "language_info": {
   "codemirror_mode": {
    "name": "ipython",
    "version": 3
   },
   "file_extension": ".py",
   "mimetype": "text/x-python",
   "name": "python",
   "nbconvert_exporter": "python",
   "pygments_lexer": "ipython3",
   "version": "3.6.8"
  }
 },
 "nbformat": 4,
 "nbformat_minor": 2
}
